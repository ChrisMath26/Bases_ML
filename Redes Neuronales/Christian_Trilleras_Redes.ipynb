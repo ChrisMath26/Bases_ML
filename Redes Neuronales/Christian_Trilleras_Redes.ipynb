{
  "cells": [
    {
      "cell_type": "markdown",
      "metadata": {
        "id": "view-in-github",
        "colab_type": "text"
      },
      "source": [
        "<a href=\"https://colab.research.google.com/github/ChrisMath26/Bases_ML/blob/main/Redes%20Neuronales/Christian_Trilleras_Redes.ipynb\" target=\"_parent\"><img src=\"https://colab.research.google.com/assets/colab-badge.svg\" alt=\"Open In Colab\"/></a>"
      ]
    },
    {
      "cell_type": "markdown",
      "id": "fe3e3a54",
      "metadata": {
        "id": "fe3e3a54"
      },
      "source": [
        "## ANN\n",
        "\n",
        "El conjunto de datos Student Performance adjunto muestra los siguientes datos de algunos estudiantes:\n",
        "\n",
        "1. Horas estudiadas\n",
        "2. Notas previas\n",
        "3. Actividades extracurriculares (Si / No)\n",
        "4. Horas de sueño\n",
        "5. Preguntas de práctica realizadas\n",
        "6. Nota sacada\n",
        "\n",
        "Entrene una red neuronal que prediga la nota que sacará un estudiante dadas las características estudiadas de cada sujeto. Para esto utilice dos capas ocultas y tenga cuidado en el tipo de funciones de activación que va a utilizar para la tarea prescrita.\n",
        "\n",
        "    - Haga un gráfico de cómo evoluciona el MSE en función de las épocas\n",
        "    - Cuál es el r^2 obtenido"
      ]
    },
    {
      "cell_type": "markdown",
      "id": "EpjXOXFkDxBb",
      "metadata": {
        "id": "EpjXOXFkDxBb"
      },
      "source": [
        "#Importar Librerías Necesarias"
      ]
    },
    {
      "cell_type": "code",
      "execution_count": null,
      "id": "6f0204fd",
      "metadata": {
        "id": "6f0204fd"
      },
      "outputs": [],
      "source": [
        "import pandas as pd\n",
        "import numpy as np\n",
        "import tensorflow as tf\n",
        "from sklearn.compose import ColumnTransformer\n",
        "from sklearn.preprocessing import OneHotEncoder, LabelEncoder\n",
        "from sklearn.model_selection import train_test_split\n",
        "from sklearn.preprocessing import StandardScaler\n",
        "from sklearn.metrics import r2_score\n",
        "import matplotlib.pyplot as plt\n",
        "from tensorflow.keras.callbacks import EarlyStopping\n",
        "from skimage.transform import resize\n",
        "from sklearn.metrics import accuracy_score"
      ]
    },
    {
      "cell_type": "markdown",
      "id": "sv0CaaujEI9y",
      "metadata": {
        "id": "sv0CaaujEI9y"
      },
      "source": [
        "#Leer banco de datos"
      ]
    },
    {
      "cell_type": "code",
      "execution_count": null,
      "id": "lXfL7kB4ELsh",
      "metadata": {
        "colab": {
          "base_uri": "https://localhost:8080/",
          "height": 423
        },
        "id": "lXfL7kB4ELsh",
        "outputId": "ddd9cbba-3d52-4bd5-a7b4-5ce71979a3f7"
      },
      "outputs": [
        {
          "output_type": "execute_result",
          "data": {
            "text/plain": [
              "      Hours Studied  Previous Scores Extracurricular Activities  Sleep Hours  \\\n",
              "0                 7               99                        Yes            9   \n",
              "1                 4               82                         No            4   \n",
              "2                 8               51                        Yes            7   \n",
              "3                 5               52                        Yes            5   \n",
              "4                 7               75                         No            8   \n",
              "...             ...              ...                        ...          ...   \n",
              "9995              1               49                        Yes            4   \n",
              "9996              7               64                        Yes            8   \n",
              "9997              6               83                        Yes            8   \n",
              "9998              9               97                        Yes            7   \n",
              "9999              7               74                         No            8   \n",
              "\n",
              "      Sample Question Papers Practiced  Performance Index  \n",
              "0                                    1               91.0  \n",
              "1                                    2               65.0  \n",
              "2                                    2               45.0  \n",
              "3                                    2               36.0  \n",
              "4                                    5               66.0  \n",
              "...                                ...                ...  \n",
              "9995                                 2               23.0  \n",
              "9996                                 5               58.0  \n",
              "9997                                 5               74.0  \n",
              "9998                                 0               95.0  \n",
              "9999                                 1               64.0  \n",
              "\n",
              "[10000 rows x 6 columns]"
            ],
            "text/html": [
              "\n",
              "  <div id=\"df-9ed2ab09-a540-4d85-8e05-91af1123cc31\" class=\"colab-df-container\">\n",
              "    <div>\n",
              "<style scoped>\n",
              "    .dataframe tbody tr th:only-of-type {\n",
              "        vertical-align: middle;\n",
              "    }\n",
              "\n",
              "    .dataframe tbody tr th {\n",
              "        vertical-align: top;\n",
              "    }\n",
              "\n",
              "    .dataframe thead th {\n",
              "        text-align: right;\n",
              "    }\n",
              "</style>\n",
              "<table border=\"1\" class=\"dataframe\">\n",
              "  <thead>\n",
              "    <tr style=\"text-align: right;\">\n",
              "      <th></th>\n",
              "      <th>Hours Studied</th>\n",
              "      <th>Previous Scores</th>\n",
              "      <th>Extracurricular Activities</th>\n",
              "      <th>Sleep Hours</th>\n",
              "      <th>Sample Question Papers Practiced</th>\n",
              "      <th>Performance Index</th>\n",
              "    </tr>\n",
              "  </thead>\n",
              "  <tbody>\n",
              "    <tr>\n",
              "      <th>0</th>\n",
              "      <td>7</td>\n",
              "      <td>99</td>\n",
              "      <td>Yes</td>\n",
              "      <td>9</td>\n",
              "      <td>1</td>\n",
              "      <td>91.0</td>\n",
              "    </tr>\n",
              "    <tr>\n",
              "      <th>1</th>\n",
              "      <td>4</td>\n",
              "      <td>82</td>\n",
              "      <td>No</td>\n",
              "      <td>4</td>\n",
              "      <td>2</td>\n",
              "      <td>65.0</td>\n",
              "    </tr>\n",
              "    <tr>\n",
              "      <th>2</th>\n",
              "      <td>8</td>\n",
              "      <td>51</td>\n",
              "      <td>Yes</td>\n",
              "      <td>7</td>\n",
              "      <td>2</td>\n",
              "      <td>45.0</td>\n",
              "    </tr>\n",
              "    <tr>\n",
              "      <th>3</th>\n",
              "      <td>5</td>\n",
              "      <td>52</td>\n",
              "      <td>Yes</td>\n",
              "      <td>5</td>\n",
              "      <td>2</td>\n",
              "      <td>36.0</td>\n",
              "    </tr>\n",
              "    <tr>\n",
              "      <th>4</th>\n",
              "      <td>7</td>\n",
              "      <td>75</td>\n",
              "      <td>No</td>\n",
              "      <td>8</td>\n",
              "      <td>5</td>\n",
              "      <td>66.0</td>\n",
              "    </tr>\n",
              "    <tr>\n",
              "      <th>...</th>\n",
              "      <td>...</td>\n",
              "      <td>...</td>\n",
              "      <td>...</td>\n",
              "      <td>...</td>\n",
              "      <td>...</td>\n",
              "      <td>...</td>\n",
              "    </tr>\n",
              "    <tr>\n",
              "      <th>9995</th>\n",
              "      <td>1</td>\n",
              "      <td>49</td>\n",
              "      <td>Yes</td>\n",
              "      <td>4</td>\n",
              "      <td>2</td>\n",
              "      <td>23.0</td>\n",
              "    </tr>\n",
              "    <tr>\n",
              "      <th>9996</th>\n",
              "      <td>7</td>\n",
              "      <td>64</td>\n",
              "      <td>Yes</td>\n",
              "      <td>8</td>\n",
              "      <td>5</td>\n",
              "      <td>58.0</td>\n",
              "    </tr>\n",
              "    <tr>\n",
              "      <th>9997</th>\n",
              "      <td>6</td>\n",
              "      <td>83</td>\n",
              "      <td>Yes</td>\n",
              "      <td>8</td>\n",
              "      <td>5</td>\n",
              "      <td>74.0</td>\n",
              "    </tr>\n",
              "    <tr>\n",
              "      <th>9998</th>\n",
              "      <td>9</td>\n",
              "      <td>97</td>\n",
              "      <td>Yes</td>\n",
              "      <td>7</td>\n",
              "      <td>0</td>\n",
              "      <td>95.0</td>\n",
              "    </tr>\n",
              "    <tr>\n",
              "      <th>9999</th>\n",
              "      <td>7</td>\n",
              "      <td>74</td>\n",
              "      <td>No</td>\n",
              "      <td>8</td>\n",
              "      <td>1</td>\n",
              "      <td>64.0</td>\n",
              "    </tr>\n",
              "  </tbody>\n",
              "</table>\n",
              "<p>10000 rows × 6 columns</p>\n",
              "</div>\n",
              "    <div class=\"colab-df-buttons\">\n",
              "\n",
              "  <div class=\"colab-df-container\">\n",
              "    <button class=\"colab-df-convert\" onclick=\"convertToInteractive('df-9ed2ab09-a540-4d85-8e05-91af1123cc31')\"\n",
              "            title=\"Convert this dataframe to an interactive table.\"\n",
              "            style=\"display:none;\">\n",
              "\n",
              "  <svg xmlns=\"http://www.w3.org/2000/svg\" height=\"24px\" viewBox=\"0 -960 960 960\">\n",
              "    <path d=\"M120-120v-720h720v720H120Zm60-500h600v-160H180v160Zm220 220h160v-160H400v160Zm0 220h160v-160H400v160ZM180-400h160v-160H180v160Zm440 0h160v-160H620v160ZM180-180h160v-160H180v160Zm440 0h160v-160H620v160Z\"/>\n",
              "  </svg>\n",
              "    </button>\n",
              "\n",
              "  <style>\n",
              "    .colab-df-container {\n",
              "      display:flex;\n",
              "      gap: 12px;\n",
              "    }\n",
              "\n",
              "    .colab-df-convert {\n",
              "      background-color: #E8F0FE;\n",
              "      border: none;\n",
              "      border-radius: 50%;\n",
              "      cursor: pointer;\n",
              "      display: none;\n",
              "      fill: #1967D2;\n",
              "      height: 32px;\n",
              "      padding: 0 0 0 0;\n",
              "      width: 32px;\n",
              "    }\n",
              "\n",
              "    .colab-df-convert:hover {\n",
              "      background-color: #E2EBFA;\n",
              "      box-shadow: 0px 1px 2px rgba(60, 64, 67, 0.3), 0px 1px 3px 1px rgba(60, 64, 67, 0.15);\n",
              "      fill: #174EA6;\n",
              "    }\n",
              "\n",
              "    .colab-df-buttons div {\n",
              "      margin-bottom: 4px;\n",
              "    }\n",
              "\n",
              "    [theme=dark] .colab-df-convert {\n",
              "      background-color: #3B4455;\n",
              "      fill: #D2E3FC;\n",
              "    }\n",
              "\n",
              "    [theme=dark] .colab-df-convert:hover {\n",
              "      background-color: #434B5C;\n",
              "      box-shadow: 0px 1px 3px 1px rgba(0, 0, 0, 0.15);\n",
              "      filter: drop-shadow(0px 1px 2px rgba(0, 0, 0, 0.3));\n",
              "      fill: #FFFFFF;\n",
              "    }\n",
              "  </style>\n",
              "\n",
              "    <script>\n",
              "      const buttonEl =\n",
              "        document.querySelector('#df-9ed2ab09-a540-4d85-8e05-91af1123cc31 button.colab-df-convert');\n",
              "      buttonEl.style.display =\n",
              "        google.colab.kernel.accessAllowed ? 'block' : 'none';\n",
              "\n",
              "      async function convertToInteractive(key) {\n",
              "        const element = document.querySelector('#df-9ed2ab09-a540-4d85-8e05-91af1123cc31');\n",
              "        const dataTable =\n",
              "          await google.colab.kernel.invokeFunction('convertToInteractive',\n",
              "                                                    [key], {});\n",
              "        if (!dataTable) return;\n",
              "\n",
              "        const docLinkHtml = 'Like what you see? Visit the ' +\n",
              "          '<a target=\"_blank\" href=https://colab.research.google.com/notebooks/data_table.ipynb>data table notebook</a>'\n",
              "          + ' to learn more about interactive tables.';\n",
              "        element.innerHTML = '';\n",
              "        dataTable['output_type'] = 'display_data';\n",
              "        await google.colab.output.renderOutput(dataTable, element);\n",
              "        const docLink = document.createElement('div');\n",
              "        docLink.innerHTML = docLinkHtml;\n",
              "        element.appendChild(docLink);\n",
              "      }\n",
              "    </script>\n",
              "  </div>\n",
              "\n",
              "\n",
              "<div id=\"df-cb0c0c23-5282-494b-a265-433c700ceef5\">\n",
              "  <button class=\"colab-df-quickchart\" onclick=\"quickchart('df-cb0c0c23-5282-494b-a265-433c700ceef5')\"\n",
              "            title=\"Suggest charts\"\n",
              "            style=\"display:none;\">\n",
              "\n",
              "<svg xmlns=\"http://www.w3.org/2000/svg\" height=\"24px\"viewBox=\"0 0 24 24\"\n",
              "     width=\"24px\">\n",
              "    <g>\n",
              "        <path d=\"M19 3H5c-1.1 0-2 .9-2 2v14c0 1.1.9 2 2 2h14c1.1 0 2-.9 2-2V5c0-1.1-.9-2-2-2zM9 17H7v-7h2v7zm4 0h-2V7h2v10zm4 0h-2v-4h2v4z\"/>\n",
              "    </g>\n",
              "</svg>\n",
              "  </button>\n",
              "\n",
              "<style>\n",
              "  .colab-df-quickchart {\n",
              "      --bg-color: #E8F0FE;\n",
              "      --fill-color: #1967D2;\n",
              "      --hover-bg-color: #E2EBFA;\n",
              "      --hover-fill-color: #174EA6;\n",
              "      --disabled-fill-color: #AAA;\n",
              "      --disabled-bg-color: #DDD;\n",
              "  }\n",
              "\n",
              "  [theme=dark] .colab-df-quickchart {\n",
              "      --bg-color: #3B4455;\n",
              "      --fill-color: #D2E3FC;\n",
              "      --hover-bg-color: #434B5C;\n",
              "      --hover-fill-color: #FFFFFF;\n",
              "      --disabled-bg-color: #3B4455;\n",
              "      --disabled-fill-color: #666;\n",
              "  }\n",
              "\n",
              "  .colab-df-quickchart {\n",
              "    background-color: var(--bg-color);\n",
              "    border: none;\n",
              "    border-radius: 50%;\n",
              "    cursor: pointer;\n",
              "    display: none;\n",
              "    fill: var(--fill-color);\n",
              "    height: 32px;\n",
              "    padding: 0;\n",
              "    width: 32px;\n",
              "  }\n",
              "\n",
              "  .colab-df-quickchart:hover {\n",
              "    background-color: var(--hover-bg-color);\n",
              "    box-shadow: 0 1px 2px rgba(60, 64, 67, 0.3), 0 1px 3px 1px rgba(60, 64, 67, 0.15);\n",
              "    fill: var(--button-hover-fill-color);\n",
              "  }\n",
              "\n",
              "  .colab-df-quickchart-complete:disabled,\n",
              "  .colab-df-quickchart-complete:disabled:hover {\n",
              "    background-color: var(--disabled-bg-color);\n",
              "    fill: var(--disabled-fill-color);\n",
              "    box-shadow: none;\n",
              "  }\n",
              "\n",
              "  .colab-df-spinner {\n",
              "    border: 2px solid var(--fill-color);\n",
              "    border-color: transparent;\n",
              "    border-bottom-color: var(--fill-color);\n",
              "    animation:\n",
              "      spin 1s steps(1) infinite;\n",
              "  }\n",
              "\n",
              "  @keyframes spin {\n",
              "    0% {\n",
              "      border-color: transparent;\n",
              "      border-bottom-color: var(--fill-color);\n",
              "      border-left-color: var(--fill-color);\n",
              "    }\n",
              "    20% {\n",
              "      border-color: transparent;\n",
              "      border-left-color: var(--fill-color);\n",
              "      border-top-color: var(--fill-color);\n",
              "    }\n",
              "    30% {\n",
              "      border-color: transparent;\n",
              "      border-left-color: var(--fill-color);\n",
              "      border-top-color: var(--fill-color);\n",
              "      border-right-color: var(--fill-color);\n",
              "    }\n",
              "    40% {\n",
              "      border-color: transparent;\n",
              "      border-right-color: var(--fill-color);\n",
              "      border-top-color: var(--fill-color);\n",
              "    }\n",
              "    60% {\n",
              "      border-color: transparent;\n",
              "      border-right-color: var(--fill-color);\n",
              "    }\n",
              "    80% {\n",
              "      border-color: transparent;\n",
              "      border-right-color: var(--fill-color);\n",
              "      border-bottom-color: var(--fill-color);\n",
              "    }\n",
              "    90% {\n",
              "      border-color: transparent;\n",
              "      border-bottom-color: var(--fill-color);\n",
              "    }\n",
              "  }\n",
              "</style>\n",
              "\n",
              "  <script>\n",
              "    async function quickchart(key) {\n",
              "      const quickchartButtonEl =\n",
              "        document.querySelector('#' + key + ' button');\n",
              "      quickchartButtonEl.disabled = true;  // To prevent multiple clicks.\n",
              "      quickchartButtonEl.classList.add('colab-df-spinner');\n",
              "      try {\n",
              "        const charts = await google.colab.kernel.invokeFunction(\n",
              "            'suggestCharts', [key], {});\n",
              "      } catch (error) {\n",
              "        console.error('Error during call to suggestCharts:', error);\n",
              "      }\n",
              "      quickchartButtonEl.classList.remove('colab-df-spinner');\n",
              "      quickchartButtonEl.classList.add('colab-df-quickchart-complete');\n",
              "    }\n",
              "    (() => {\n",
              "      let quickchartButtonEl =\n",
              "        document.querySelector('#df-cb0c0c23-5282-494b-a265-433c700ceef5 button');\n",
              "      quickchartButtonEl.style.display =\n",
              "        google.colab.kernel.accessAllowed ? 'block' : 'none';\n",
              "    })();\n",
              "  </script>\n",
              "</div>\n",
              "\n",
              "  <div id=\"id_836dd81b-c51d-4a81-a4c1-e97f33426490\">\n",
              "    <style>\n",
              "      .colab-df-generate {\n",
              "        background-color: #E8F0FE;\n",
              "        border: none;\n",
              "        border-radius: 50%;\n",
              "        cursor: pointer;\n",
              "        display: none;\n",
              "        fill: #1967D2;\n",
              "        height: 32px;\n",
              "        padding: 0 0 0 0;\n",
              "        width: 32px;\n",
              "      }\n",
              "\n",
              "      .colab-df-generate:hover {\n",
              "        background-color: #E2EBFA;\n",
              "        box-shadow: 0px 1px 2px rgba(60, 64, 67, 0.3), 0px 1px 3px 1px rgba(60, 64, 67, 0.15);\n",
              "        fill: #174EA6;\n",
              "      }\n",
              "\n",
              "      [theme=dark] .colab-df-generate {\n",
              "        background-color: #3B4455;\n",
              "        fill: #D2E3FC;\n",
              "      }\n",
              "\n",
              "      [theme=dark] .colab-df-generate:hover {\n",
              "        background-color: #434B5C;\n",
              "        box-shadow: 0px 1px 3px 1px rgba(0, 0, 0, 0.15);\n",
              "        filter: drop-shadow(0px 1px 2px rgba(0, 0, 0, 0.3));\n",
              "        fill: #FFFFFF;\n",
              "      }\n",
              "    </style>\n",
              "    <button class=\"colab-df-generate\" onclick=\"generateWithVariable('datos')\"\n",
              "            title=\"Generate code using this dataframe.\"\n",
              "            style=\"display:none;\">\n",
              "\n",
              "  <svg xmlns=\"http://www.w3.org/2000/svg\" height=\"24px\"viewBox=\"0 0 24 24\"\n",
              "       width=\"24px\">\n",
              "    <path d=\"M7,19H8.4L18.45,9,17,7.55,7,17.6ZM5,21V16.75L18.45,3.32a2,2,0,0,1,2.83,0l1.4,1.43a1.91,1.91,0,0,1,.58,1.4,1.91,1.91,0,0,1-.58,1.4L9.25,21ZM18.45,9,17,7.55Zm-12,3A5.31,5.31,0,0,0,4.9,8.1,5.31,5.31,0,0,0,1,6.5,5.31,5.31,0,0,0,4.9,4.9,5.31,5.31,0,0,0,6.5,1,5.31,5.31,0,0,0,8.1,4.9,5.31,5.31,0,0,0,12,6.5,5.46,5.46,0,0,0,6.5,12Z\"/>\n",
              "  </svg>\n",
              "    </button>\n",
              "    <script>\n",
              "      (() => {\n",
              "      const buttonEl =\n",
              "        document.querySelector('#id_836dd81b-c51d-4a81-a4c1-e97f33426490 button.colab-df-generate');\n",
              "      buttonEl.style.display =\n",
              "        google.colab.kernel.accessAllowed ? 'block' : 'none';\n",
              "\n",
              "      buttonEl.onclick = () => {\n",
              "        google.colab.notebook.generateWithVariable('datos');\n",
              "      }\n",
              "      })();\n",
              "    </script>\n",
              "  </div>\n",
              "\n",
              "    </div>\n",
              "  </div>\n"
            ],
            "application/vnd.google.colaboratory.intrinsic+json": {
              "type": "dataframe",
              "variable_name": "datos",
              "summary": "{\n  \"name\": \"datos\",\n  \"rows\": 10000,\n  \"fields\": [\n    {\n      \"column\": \"Hours Studied\",\n      \"properties\": {\n        \"dtype\": \"number\",\n        \"std\": 2,\n        \"min\": 1,\n        \"max\": 9,\n        \"num_unique_values\": 9,\n        \"samples\": [\n          1,\n          4,\n          6\n        ],\n        \"semantic_type\": \"\",\n        \"description\": \"\"\n      }\n    },\n    {\n      \"column\": \"Previous Scores\",\n      \"properties\": {\n        \"dtype\": \"number\",\n        \"std\": 17,\n        \"min\": 40,\n        \"max\": 99,\n        \"num_unique_values\": 60,\n        \"samples\": [\n          99,\n          78,\n          93\n        ],\n        \"semantic_type\": \"\",\n        \"description\": \"\"\n      }\n    },\n    {\n      \"column\": \"Extracurricular Activities\",\n      \"properties\": {\n        \"dtype\": \"category\",\n        \"num_unique_values\": 2,\n        \"samples\": [\n          \"No\",\n          \"Yes\"\n        ],\n        \"semantic_type\": \"\",\n        \"description\": \"\"\n      }\n    },\n    {\n      \"column\": \"Sleep Hours\",\n      \"properties\": {\n        \"dtype\": \"number\",\n        \"std\": 1,\n        \"min\": 4,\n        \"max\": 9,\n        \"num_unique_values\": 6,\n        \"samples\": [\n          9,\n          4\n        ],\n        \"semantic_type\": \"\",\n        \"description\": \"\"\n      }\n    },\n    {\n      \"column\": \"Sample Question Papers Practiced\",\n      \"properties\": {\n        \"dtype\": \"number\",\n        \"std\": 2,\n        \"min\": 0,\n        \"max\": 9,\n        \"num_unique_values\": 10,\n        \"samples\": [\n          9,\n          2\n        ],\n        \"semantic_type\": \"\",\n        \"description\": \"\"\n      }\n    },\n    {\n      \"column\": \"Performance Index\",\n      \"properties\": {\n        \"dtype\": \"number\",\n        \"std\": 19.212557799463344,\n        \"min\": 10.0,\n        \"max\": 100.0,\n        \"num_unique_values\": 91,\n        \"samples\": [\n          41.0,\n          49.0\n        ],\n        \"semantic_type\": \"\",\n        \"description\": \"\"\n      }\n    }\n  ]\n}"
            }
          },
          "metadata": {},
          "execution_count": 2
        }
      ],
      "source": [
        "datos = pd.read_csv('Student_Performance.csv')\n",
        "datos"
      ]
    },
    {
      "cell_type": "markdown",
      "id": "lps-t_BFIpFc",
      "metadata": {
        "id": "lps-t_BFIpFc"
      },
      "source": [
        "#Preprocesamiento de los datos"
      ]
    },
    {
      "cell_type": "code",
      "execution_count": null,
      "id": "I8c5H2IhGcPI",
      "metadata": {
        "id": "I8c5H2IhGcPI"
      },
      "outputs": [],
      "source": [
        "#Selección de variables independientes y dependiente\n",
        "X = datos.iloc[:,:-1].values\n",
        "y = datos.iloc[:,-1].values #Nota sacada"
      ]
    },
    {
      "cell_type": "code",
      "execution_count": null,
      "id": "2gPNzvHRHTLO",
      "metadata": {
        "id": "2gPNzvHRHTLO"
      },
      "outputs": [],
      "source": [
        "ct = ColumnTransformer(transformers=[('encoder', OneHotEncoder(), [2])], remainder='passthrough')\n",
        "X = ct.fit_transform(X)\n",
        "x_train, x_test, y_train, y_test = train_test_split(X, y, test_size=0.2, random_state=0)"
      ]
    },
    {
      "cell_type": "code",
      "execution_count": null,
      "id": "gqeYU9jTMW3S",
      "metadata": {
        "colab": {
          "base_uri": "https://localhost:8080/"
        },
        "id": "gqeYU9jTMW3S",
        "outputId": "ceac68c4-bc66-4961-eb1b-a736ff127bce"
      },
      "outputs": [
        {
          "output_type": "execute_result",
          "data": {
            "text/plain": [
              "array([[0.0, 1.0, 7, 99, 9, 1],\n",
              "       [1.0, 0.0, 4, 82, 4, 2],\n",
              "       [0.0, 1.0, 8, 51, 7, 2],\n",
              "       ...,\n",
              "       [0.0, 1.0, 6, 83, 8, 5],\n",
              "       [0.0, 1.0, 9, 97, 7, 0],\n",
              "       [1.0, 0.0, 7, 74, 8, 1]], dtype=object)"
            ]
          },
          "metadata": {},
          "execution_count": 5
        }
      ],
      "source": [
        "X"
      ]
    },
    {
      "cell_type": "code",
      "execution_count": null,
      "id": "MGe8VnOgHzaH",
      "metadata": {
        "id": "MGe8VnOgHzaH"
      },
      "outputs": [],
      "source": [
        "#Estandarizamos desde la columna de la posicion 2 en adelnate pues con las 2 primeras se utilizo one hot encoder\n",
        "sc = StandardScaler()\n",
        "x_train[:,2:] = sc.fit_transform(x_train[:,2:])\n",
        "x_test[:,2:] = sc.transform(x_test[:,2:])\n",
        "x_train = x_train.astype('float')\n",
        "x_test = x_test.astype('float')"
      ]
    },
    {
      "cell_type": "markdown",
      "id": "Qpb4v2eeMrl2",
      "metadata": {
        "id": "Qpb4v2eeMrl2"
      },
      "source": [
        "## Inicializar la red neuronal"
      ]
    },
    {
      "cell_type": "code",
      "execution_count": null,
      "id": "Iu53XzXHOYwA",
      "metadata": {
        "id": "Iu53XzXHOYwA"
      },
      "outputs": [],
      "source": [
        "ann = tf.keras.models.Sequential()"
      ]
    },
    {
      "cell_type": "markdown",
      "id": "1ojWDbEfO084",
      "metadata": {
        "id": "1ojWDbEfO084"
      },
      "source": [
        "#Capas ocultas"
      ]
    },
    {
      "cell_type": "code",
      "execution_count": null,
      "id": "alq5f9fyOmPB",
      "metadata": {
        "id": "alq5f9fyOmPB"
      },
      "outputs": [],
      "source": [
        "#10 neuronas por cada capa ocultas\n",
        "ann.add(tf.keras.layers.Dense(units=10, activation='tanh'))\n",
        "ann.add(tf.keras.layers.Dense(units=10, activation='relu'))"
      ]
    },
    {
      "cell_type": "markdown",
      "id": "f4O2pnSuPJbY",
      "metadata": {
        "id": "f4O2pnSuPJbY"
      },
      "source": [
        "#Capa de salida"
      ]
    },
    {
      "cell_type": "code",
      "execution_count": null,
      "id": "QtbmXaPUPVWs",
      "metadata": {
        "id": "QtbmXaPUPVWs"
      },
      "outputs": [],
      "source": [
        "ann.add(tf.keras.layers.Dense(units=1))"
      ]
    },
    {
      "cell_type": "markdown",
      "id": "770BacGQPz1R",
      "metadata": {
        "id": "770BacGQPz1R"
      },
      "source": [
        "#Función de perdida"
      ]
    },
    {
      "cell_type": "code",
      "execution_count": null,
      "id": "PNLQ3MotP39m",
      "metadata": {
        "id": "PNLQ3MotP39m"
      },
      "outputs": [],
      "source": [
        "# la función de pérdida debe ser acorde al problema q se esta trabajando i.e de regresion\n",
        "ann.compile(optimizer='adam', loss='mean_squared_error')"
      ]
    },
    {
      "cell_type": "markdown",
      "id": "Khep2zQHQKTQ",
      "metadata": {
        "id": "Khep2zQHQKTQ"
      },
      "source": [
        "#Entrenamiento de la red"
      ]
    },
    {
      "cell_type": "code",
      "execution_count": null,
      "id": "XTS7OM1qQMSH",
      "metadata": {
        "colab": {
          "base_uri": "https://localhost:8080/"
        },
        "id": "XTS7OM1qQMSH",
        "outputId": "402a01b0-889d-458c-c069-caaced28a470"
      },
      "outputs": [
        {
          "output_type": "stream",
          "name": "stdout",
          "text": [
            "Epoch 1/200\n",
            "\u001b[1m250/250\u001b[0m \u001b[32m━━━━━━━━━━━━━━━━━━━━\u001b[0m\u001b[37m\u001b[0m \u001b[1m3s\u001b[0m 5ms/step - loss: 3363.1270 - val_loss: 2541.0647\n",
            "Epoch 2/200\n",
            "\u001b[1m250/250\u001b[0m \u001b[32m━━━━━━━━━━━━━━━━━━━━\u001b[0m\u001b[37m\u001b[0m \u001b[1m2s\u001b[0m 2ms/step - loss: 1961.6052 - val_loss: 553.2411\n",
            "Epoch 3/200\n",
            "\u001b[1m250/250\u001b[0m \u001b[32m━━━━━━━━━━━━━━━━━━━━\u001b[0m\u001b[37m\u001b[0m \u001b[1m1s\u001b[0m 2ms/step - loss: 393.8567 - val_loss: 115.9200\n",
            "Epoch 4/200\n",
            "\u001b[1m250/250\u001b[0m \u001b[32m━━━━━━━━━━━━━━━━━━━━\u001b[0m\u001b[37m\u001b[0m \u001b[1m1s\u001b[0m 2ms/step - loss: 98.3956 - val_loss: 65.0298\n",
            "Epoch 5/200\n",
            "\u001b[1m250/250\u001b[0m \u001b[32m━━━━━━━━━━━━━━━━━━━━\u001b[0m\u001b[37m\u001b[0m \u001b[1m1s\u001b[0m 2ms/step - loss: 60.8509 - val_loss: 48.8876\n",
            "Epoch 6/200\n",
            "\u001b[1m250/250\u001b[0m \u001b[32m━━━━━━━━━━━━━━━━━━━━\u001b[0m\u001b[37m\u001b[0m \u001b[1m1s\u001b[0m 2ms/step - loss: 44.0382 - val_loss: 35.0249\n",
            "Epoch 7/200\n",
            "\u001b[1m250/250\u001b[0m \u001b[32m━━━━━━━━━━━━━━━━━━━━\u001b[0m\u001b[37m\u001b[0m \u001b[1m1s\u001b[0m 2ms/step - loss: 33.2313 - val_loss: 24.5265\n",
            "Epoch 8/200\n",
            "\u001b[1m250/250\u001b[0m \u001b[32m━━━━━━━━━━━━━━━━━━━━\u001b[0m\u001b[37m\u001b[0m \u001b[1m1s\u001b[0m 2ms/step - loss: 23.2715 - val_loss: 17.8138\n",
            "Epoch 9/200\n",
            "\u001b[1m250/250\u001b[0m \u001b[32m━━━━━━━━━━━━━━━━━━━━\u001b[0m\u001b[37m\u001b[0m \u001b[1m1s\u001b[0m 2ms/step - loss: 17.2913 - val_loss: 13.3951\n",
            "Epoch 10/200\n",
            "\u001b[1m250/250\u001b[0m \u001b[32m━━━━━━━━━━━━━━━━━━━━\u001b[0m\u001b[37m\u001b[0m \u001b[1m1s\u001b[0m 2ms/step - loss: 12.8005 - val_loss: 10.6029\n",
            "Epoch 11/200\n",
            "\u001b[1m250/250\u001b[0m \u001b[32m━━━━━━━━━━━━━━━━━━━━\u001b[0m\u001b[37m\u001b[0m \u001b[1m1s\u001b[0m 2ms/step - loss: 10.6083 - val_loss: 8.7515\n",
            "Epoch 12/200\n",
            "\u001b[1m250/250\u001b[0m \u001b[32m━━━━━━━━━━━━━━━━━━━━\u001b[0m\u001b[37m\u001b[0m \u001b[1m1s\u001b[0m 2ms/step - loss: 8.1067 - val_loss: 7.5211\n",
            "Epoch 13/200\n",
            "\u001b[1m250/250\u001b[0m \u001b[32m━━━━━━━━━━━━━━━━━━━━\u001b[0m\u001b[37m\u001b[0m \u001b[1m1s\u001b[0m 2ms/step - loss: 7.1139 - val_loss: 6.7112\n",
            "Epoch 14/200\n",
            "\u001b[1m250/250\u001b[0m \u001b[32m━━━━━━━━━━━━━━━━━━━━\u001b[0m\u001b[37m\u001b[0m \u001b[1m1s\u001b[0m 2ms/step - loss: 6.5125 - val_loss: 6.1581\n",
            "Epoch 15/200\n",
            "\u001b[1m250/250\u001b[0m \u001b[32m━━━━━━━━━━━━━━━━━━━━\u001b[0m\u001b[37m\u001b[0m \u001b[1m1s\u001b[0m 2ms/step - loss: 5.8879 - val_loss: 5.6597\n",
            "Epoch 16/200\n",
            "\u001b[1m250/250\u001b[0m \u001b[32m━━━━━━━━━━━━━━━━━━━━\u001b[0m\u001b[37m\u001b[0m \u001b[1m1s\u001b[0m 2ms/step - loss: 5.7022 - val_loss: 5.4479\n",
            "Epoch 17/200\n",
            "\u001b[1m250/250\u001b[0m \u001b[32m━━━━━━━━━━━━━━━━━━━━\u001b[0m\u001b[37m\u001b[0m \u001b[1m1s\u001b[0m 2ms/step - loss: 5.4505 - val_loss: 5.2164\n",
            "Epoch 18/200\n",
            "\u001b[1m250/250\u001b[0m \u001b[32m━━━━━━━━━━━━━━━━━━━━\u001b[0m\u001b[37m\u001b[0m \u001b[1m2s\u001b[0m 4ms/step - loss: 5.1253 - val_loss: 4.9719\n",
            "Epoch 19/200\n",
            "\u001b[1m250/250\u001b[0m \u001b[32m━━━━━━━━━━━━━━━━━━━━\u001b[0m\u001b[37m\u001b[0m \u001b[1m1s\u001b[0m 3ms/step - loss: 4.9019 - val_loss: 4.8543\n",
            "Epoch 20/200\n",
            "\u001b[1m250/250\u001b[0m \u001b[32m━━━━━━━━━━━━━━━━━━━━\u001b[0m\u001b[37m\u001b[0m \u001b[1m1s\u001b[0m 2ms/step - loss: 4.7254 - val_loss: 4.6801\n",
            "Epoch 21/200\n",
            "\u001b[1m250/250\u001b[0m \u001b[32m━━━━━━━━━━━━━━━━━━━━\u001b[0m\u001b[37m\u001b[0m \u001b[1m0s\u001b[0m 2ms/step - loss: 4.7375 - val_loss: 4.6013\n",
            "Epoch 22/200\n",
            "\u001b[1m250/250\u001b[0m \u001b[32m━━━━━━━━━━━━━━━━━━━━\u001b[0m\u001b[37m\u001b[0m \u001b[1m1s\u001b[0m 2ms/step - loss: 4.5390 - val_loss: 4.5012\n",
            "Epoch 23/200\n",
            "\u001b[1m250/250\u001b[0m \u001b[32m━━━━━━━━━━━━━━━━━━━━\u001b[0m\u001b[37m\u001b[0m \u001b[1m1s\u001b[0m 2ms/step - loss: 4.5343 - val_loss: 4.4625\n",
            "Epoch 24/200\n",
            "\u001b[1m250/250\u001b[0m \u001b[32m━━━━━━━━━━━━━━━━━━━━\u001b[0m\u001b[37m\u001b[0m \u001b[1m1s\u001b[0m 2ms/step - loss: 4.4009 - val_loss: 4.4471\n",
            "Epoch 25/200\n",
            "\u001b[1m250/250\u001b[0m \u001b[32m━━━━━━━━━━━━━━━━━━━━\u001b[0m\u001b[37m\u001b[0m \u001b[1m1s\u001b[0m 2ms/step - loss: 4.4454 - val_loss: 4.3894\n",
            "Epoch 26/200\n",
            "\u001b[1m250/250\u001b[0m \u001b[32m━━━━━━━━━━━━━━━━━━━━\u001b[0m\u001b[37m\u001b[0m \u001b[1m1s\u001b[0m 2ms/step - loss: 4.4252 - val_loss: 4.3296\n",
            "Epoch 27/200\n",
            "\u001b[1m250/250\u001b[0m \u001b[32m━━━━━━━━━━━━━━━━━━━━\u001b[0m\u001b[37m\u001b[0m \u001b[1m1s\u001b[0m 2ms/step - loss: 4.3487 - val_loss: 4.3432\n",
            "Epoch 28/200\n",
            "\u001b[1m250/250\u001b[0m \u001b[32m━━━━━━━━━━━━━━━━━━━━\u001b[0m\u001b[37m\u001b[0m \u001b[1m0s\u001b[0m 2ms/step - loss: 4.3195 - val_loss: 4.2727\n",
            "Epoch 29/200\n",
            "\u001b[1m250/250\u001b[0m \u001b[32m━━━━━━━━━━━━━━━━━━━━\u001b[0m\u001b[37m\u001b[0m \u001b[1m1s\u001b[0m 2ms/step - loss: 4.3882 - val_loss: 4.2893\n",
            "Epoch 30/200\n",
            "\u001b[1m250/250\u001b[0m \u001b[32m━━━━━━━━━━━━━━━━━━━━\u001b[0m\u001b[37m\u001b[0m \u001b[1m1s\u001b[0m 2ms/step - loss: 4.3070 - val_loss: 4.2754\n",
            "Epoch 31/200\n",
            "\u001b[1m250/250\u001b[0m \u001b[32m━━━━━━━━━━━━━━━━━━━━\u001b[0m\u001b[37m\u001b[0m \u001b[1m1s\u001b[0m 2ms/step - loss: 4.2759 - val_loss: 4.3914\n",
            "Epoch 32/200\n",
            "\u001b[1m250/250\u001b[0m \u001b[32m━━━━━━━━━━━━━━━━━━━━\u001b[0m\u001b[37m\u001b[0m \u001b[1m1s\u001b[0m 2ms/step - loss: 4.3998 - val_loss: 4.2858\n"
          ]
        },
        {
          "output_type": "execute_result",
          "data": {
            "text/plain": [
              "<keras.src.callbacks.history.History at 0x799fd2f1aa10>"
            ]
          },
          "metadata": {},
          "execution_count": 11
        }
      ],
      "source": [
        "#Esto es útil para prevenir el sobreajuste, ya que detiene el entrenamiento cuando el modelo comienza a ajustarse demasiado a los datos de entrenamiento.\n",
        "#https://www.youtube.com/watch?v=Vekgrq60Xx4\n",
        "early_stopping = EarlyStopping(monitor='val_loss', ### Esto sirve para ahorrar tiempo, es una manera inteligente y rápida de hacer las cosas\n",
        "                               patience=4)          ### Si entre las últimas dos épocas no hay cambios significativos, para\n",
        "ann.fit(x_train, y_train, batch_size=32, epochs=200,\n",
        "         validation_data = (x_test, y_test),\n",
        "         callbacks = early_stopping)\n"
      ]
    },
    {
      "cell_type": "code",
      "execution_count": null,
      "id": "sH_It1cgQ2D_",
      "metadata": {
        "colab": {
          "base_uri": "https://localhost:8080/",
          "height": 241
        },
        "id": "sH_It1cgQ2D_",
        "outputId": "f52305fc-9931-4653-9f3b-3c869ddc371e"
      },
      "outputs": [
        {
          "output_type": "display_data",
          "data": {
            "text/plain": [
              "\u001b[1mModel: \"sequential\"\u001b[0m\n"
            ],
            "text/html": [
              "<pre style=\"white-space:pre;overflow-x:auto;line-height:normal;font-family:Menlo,'DejaVu Sans Mono',consolas,'Courier New',monospace\"><span style=\"font-weight: bold\">Model: \"sequential\"</span>\n",
              "</pre>\n"
            ]
          },
          "metadata": {}
        },
        {
          "output_type": "display_data",
          "data": {
            "text/plain": [
              "┏━━━━━━━━━━━━━━━━━━━━━━━━━━━━━━━━━━━━━━┳━━━━━━━━━━━━━━━━━━━━━━━━━━━━━┳━━━━━━━━━━━━━━━━━┓\n",
              "┃\u001b[1m \u001b[0m\u001b[1mLayer (type)                        \u001b[0m\u001b[1m \u001b[0m┃\u001b[1m \u001b[0m\u001b[1mOutput Shape               \u001b[0m\u001b[1m \u001b[0m┃\u001b[1m \u001b[0m\u001b[1m        Param #\u001b[0m\u001b[1m \u001b[0m┃\n",
              "┡━━━━━━━━━━━━━━━━━━━━━━━━━━━━━━━━━━━━━━╇━━━━━━━━━━━━━━━━━━━━━━━━━━━━━╇━━━━━━━━━━━━━━━━━┩\n",
              "│ dense (\u001b[38;5;33mDense\u001b[0m)                        │ (\u001b[38;5;34m32\u001b[0m, \u001b[38;5;34m10\u001b[0m)                    │              \u001b[38;5;34m70\u001b[0m │\n",
              "├──────────────────────────────────────┼─────────────────────────────┼─────────────────┤\n",
              "│ dense_1 (\u001b[38;5;33mDense\u001b[0m)                      │ (\u001b[38;5;34m32\u001b[0m, \u001b[38;5;34m10\u001b[0m)                    │             \u001b[38;5;34m110\u001b[0m │\n",
              "├──────────────────────────────────────┼─────────────────────────────┼─────────────────┤\n",
              "│ dense_2 (\u001b[38;5;33mDense\u001b[0m)                      │ (\u001b[38;5;34m32\u001b[0m, \u001b[38;5;34m1\u001b[0m)                     │              \u001b[38;5;34m11\u001b[0m │\n",
              "└──────────────────────────────────────┴─────────────────────────────┴─────────────────┘\n"
            ],
            "text/html": [
              "<pre style=\"white-space:pre;overflow-x:auto;line-height:normal;font-family:Menlo,'DejaVu Sans Mono',consolas,'Courier New',monospace\">┏━━━━━━━━━━━━━━━━━━━━━━━━━━━━━━━━━━━━━━┳━━━━━━━━━━━━━━━━━━━━━━━━━━━━━┳━━━━━━━━━━━━━━━━━┓\n",
              "┃<span style=\"font-weight: bold\"> Layer (type)                         </span>┃<span style=\"font-weight: bold\"> Output Shape                </span>┃<span style=\"font-weight: bold\">         Param # </span>┃\n",
              "┡━━━━━━━━━━━━━━━━━━━━━━━━━━━━━━━━━━━━━━╇━━━━━━━━━━━━━━━━━━━━━━━━━━━━━╇━━━━━━━━━━━━━━━━━┩\n",
              "│ dense (<span style=\"color: #0087ff; text-decoration-color: #0087ff\">Dense</span>)                        │ (<span style=\"color: #00af00; text-decoration-color: #00af00\">32</span>, <span style=\"color: #00af00; text-decoration-color: #00af00\">10</span>)                    │              <span style=\"color: #00af00; text-decoration-color: #00af00\">70</span> │\n",
              "├──────────────────────────────────────┼─────────────────────────────┼─────────────────┤\n",
              "│ dense_1 (<span style=\"color: #0087ff; text-decoration-color: #0087ff\">Dense</span>)                      │ (<span style=\"color: #00af00; text-decoration-color: #00af00\">32</span>, <span style=\"color: #00af00; text-decoration-color: #00af00\">10</span>)                    │             <span style=\"color: #00af00; text-decoration-color: #00af00\">110</span> │\n",
              "├──────────────────────────────────────┼─────────────────────────────┼─────────────────┤\n",
              "│ dense_2 (<span style=\"color: #0087ff; text-decoration-color: #0087ff\">Dense</span>)                      │ (<span style=\"color: #00af00; text-decoration-color: #00af00\">32</span>, <span style=\"color: #00af00; text-decoration-color: #00af00\">1</span>)                     │              <span style=\"color: #00af00; text-decoration-color: #00af00\">11</span> │\n",
              "└──────────────────────────────────────┴─────────────────────────────┴─────────────────┘\n",
              "</pre>\n"
            ]
          },
          "metadata": {}
        },
        {
          "output_type": "display_data",
          "data": {
            "text/plain": [
              "\u001b[1m Total params: \u001b[0m\u001b[38;5;34m575\u001b[0m (2.25 KB)\n"
            ],
            "text/html": [
              "<pre style=\"white-space:pre;overflow-x:auto;line-height:normal;font-family:Menlo,'DejaVu Sans Mono',consolas,'Courier New',monospace\"><span style=\"font-weight: bold\"> Total params: </span><span style=\"color: #00af00; text-decoration-color: #00af00\">575</span> (2.25 KB)\n",
              "</pre>\n"
            ]
          },
          "metadata": {}
        },
        {
          "output_type": "display_data",
          "data": {
            "text/plain": [
              "\u001b[1m Trainable params: \u001b[0m\u001b[38;5;34m191\u001b[0m (764.00 B)\n"
            ],
            "text/html": [
              "<pre style=\"white-space:pre;overflow-x:auto;line-height:normal;font-family:Menlo,'DejaVu Sans Mono',consolas,'Courier New',monospace\"><span style=\"font-weight: bold\"> Trainable params: </span><span style=\"color: #00af00; text-decoration-color: #00af00\">191</span> (764.00 B)\n",
              "</pre>\n"
            ]
          },
          "metadata": {}
        },
        {
          "output_type": "display_data",
          "data": {
            "text/plain": [
              "\u001b[1m Non-trainable params: \u001b[0m\u001b[38;5;34m0\u001b[0m (0.00 B)\n"
            ],
            "text/html": [
              "<pre style=\"white-space:pre;overflow-x:auto;line-height:normal;font-family:Menlo,'DejaVu Sans Mono',consolas,'Courier New',monospace\"><span style=\"font-weight: bold\"> Non-trainable params: </span><span style=\"color: #00af00; text-decoration-color: #00af00\">0</span> (0.00 B)\n",
              "</pre>\n"
            ]
          },
          "metadata": {}
        },
        {
          "output_type": "display_data",
          "data": {
            "text/plain": [
              "\u001b[1m Optimizer params: \u001b[0m\u001b[38;5;34m384\u001b[0m (1.50 KB)\n"
            ],
            "text/html": [
              "<pre style=\"white-space:pre;overflow-x:auto;line-height:normal;font-family:Menlo,'DejaVu Sans Mono',consolas,'Courier New',monospace\"><span style=\"font-weight: bold\"> Optimizer params: </span><span style=\"color: #00af00; text-decoration-color: #00af00\">384</span> (1.50 KB)\n",
              "</pre>\n"
            ]
          },
          "metadata": {}
        }
      ],
      "source": [
        "ann.summary()  ### Resumen de la red entrenada"
      ]
    },
    {
      "cell_type": "code",
      "execution_count": null,
      "id": "45el95OLW6Vg",
      "metadata": {
        "colab": {
          "base_uri": "https://localhost:8080/"
        },
        "id": "45el95OLW6Vg",
        "outputId": "73015923-817a-4cd2-ff1c-84e10e7289cf"
      },
      "outputs": [
        {
          "output_type": "execute_result",
          "data": {
            "text/plain": [
              "{'loss': [3147.001953125,\n",
              "  1408.863037109375,\n",
              "  272.6012878417969,\n",
              "  83.55235290527344,\n",
              "  57.30632019042969,\n",
              "  42.21295928955078,\n",
              "  29.984737396240234,\n",
              "  21.454265594482422,\n",
              "  15.856285095214844,\n",
              "  12.206822395324707,\n",
              "  9.764242172241211,\n",
              "  8.157567024230957,\n",
              "  7.1201605796813965,\n",
              "  6.417722225189209,\n",
              "  5.9381208419799805,\n",
              "  5.585178852081299,\n",
              "  5.310642242431641,\n",
              "  5.103987216949463,\n",
              "  4.94406795501709,\n",
              "  4.806273460388184,\n",
              "  4.692793369293213,\n",
              "  4.610390663146973,\n",
              "  4.544312953948975,\n",
              "  4.4888014793396,\n",
              "  4.447672367095947,\n",
              "  4.409854888916016,\n",
              "  4.389487266540527,\n",
              "  4.358806133270264,\n",
              "  4.333596706390381,\n",
              "  4.326147079467773,\n",
              "  4.327717304229736,\n",
              "  4.324071884155273],\n",
              " 'val_loss': [2541.064697265625,\n",
              "  553.2411499023438,\n",
              "  115.91995239257812,\n",
              "  65.02984619140625,\n",
              "  48.88764190673828,\n",
              "  35.02485275268555,\n",
              "  24.52650260925293,\n",
              "  17.813833236694336,\n",
              "  13.395105361938477,\n",
              "  10.602940559387207,\n",
              "  8.751511573791504,\n",
              "  7.521052360534668,\n",
              "  6.711233615875244,\n",
              "  6.158137798309326,\n",
              "  5.659740447998047,\n",
              "  5.44787073135376,\n",
              "  5.216371536254883,\n",
              "  4.971923828125,\n",
              "  4.8543243408203125,\n",
              "  4.6801323890686035,\n",
              "  4.60127067565918,\n",
              "  4.501208305358887,\n",
              "  4.462450981140137,\n",
              "  4.447125434875488,\n",
              "  4.389385223388672,\n",
              "  4.329563617706299,\n",
              "  4.3431501388549805,\n",
              "  4.272734642028809,\n",
              "  4.2893242835998535,\n",
              "  4.275393962860107,\n",
              "  4.391356468200684,\n",
              "  4.285803318023682]}"
            ]
          },
          "metadata": {},
          "execution_count": 13
        }
      ],
      "source": [
        "historia = ann.history.history\n",
        "historia"
      ]
    },
    {
      "cell_type": "markdown",
      "id": "tWoYj0XzWifR",
      "metadata": {
        "id": "tWoYj0XzWifR"
      },
      "source": [
        "#gráfico de cómo evoluciona el MSE en función de las épocas"
      ]
    },
    {
      "cell_type": "code",
      "execution_count": null,
      "id": "_q-Lg1FGXvj3",
      "metadata": {
        "colab": {
          "base_uri": "https://localhost:8080/",
          "height": 472
        },
        "id": "_q-Lg1FGXvj3",
        "outputId": "7ab4acf8-df0f-4bf3-87e6-6daf52629e99"
      },
      "outputs": [
        {
          "output_type": "display_data",
          "data": {
            "text/plain": [
              "<Figure size 640x480 with 1 Axes>"
            ],
            "image/png": "[encoded data removed]"
          },
          "metadata": {}
        }
      ],
      "source": [
        "plt.plot(historia['loss'], label='MSE (train)')\n",
        "plt.plot(historia['val_loss'], label='MSE (test)')\n",
        "plt.xlabel('Epocas')\n",
        "plt.ylabel('Error Cuadratico Medio')\n",
        "plt.title('Evolución del MSE en función de las épocas')\n",
        "plt.grid()\n",
        "plt.legend()\n",
        "plt.show()"
      ]
    },
    {
      "cell_type": "markdown",
      "id": "1wsQbarfUHxe",
      "metadata": {
        "id": "1wsQbarfUHxe"
      },
      "source": [
        "#Predicción"
      ]
    },
    {
      "cell_type": "code",
      "execution_count": null,
      "id": "v85gpMEvUKR_",
      "metadata": {
        "colab": {
          "base_uri": "https://localhost:8080/"
        },
        "id": "v85gpMEvUKR_",
        "outputId": "524b7ce1-b23b-40d2-cf4c-4a1aee3e02c8"
      },
      "outputs": [
        {
          "output_type": "stream",
          "name": "stdout",
          "text": [
            "\u001b[1m63/63\u001b[0m \u001b[32m━━━━━━━━━━━━━━━━━━━━\u001b[0m\u001b[37m\u001b[0m \u001b[1m0s\u001b[0m 2ms/step\n"
          ]
        },
        {
          "output_type": "execute_result",
          "data": {
            "text/plain": [
              "array([[49.95382 ],\n",
              "       [52.531975],\n",
              "       [78.12723 ],\n",
              "       ...,\n",
              "       [64.47645 ],\n",
              "       [25.618628],\n",
              "       [17.90789 ]], dtype=float32)"
            ]
          },
          "metadata": {},
          "execution_count": 15
        }
      ],
      "source": [
        "prediccion = ann.predict(x_test)\n",
        "prediccion"
      ]
    },
    {
      "cell_type": "code",
      "execution_count": null,
      "id": "pHvy5emoWMg2",
      "metadata": {
        "colab": {
          "base_uri": "https://localhost:8080/",
          "height": 472
        },
        "id": "pHvy5emoWMg2",
        "outputId": "bd36a9d9-0e83-48e1-e5fb-2bdf2f9d0e6f"
      },
      "outputs": [
        {
          "output_type": "display_data",
          "data": {
            "text/plain": [
              "<Figure size 640x480 with 1 Axes>"
            ],
            "image/png": "[encoded data removed]"
          },
          "metadata": {}
        }
      ],
      "source": [
        "plt.plot(prediccion, y_test, 'o', color = 'lightblue')\n",
        "plt.plot([min(y_test), max(y_test)], [min(y_test), max(y_test)], color = 'orange', linestyle = '--')\n",
        "plt.xlabel('Predicción')\n",
        "plt.ylabel('Real')\n",
        "plt.title('Predicción vs Real')\n",
        "plt.grid(True, linestyle = '--')\n",
        "plt.show()"
      ]
    },
    {
      "cell_type": "code",
      "execution_count": null,
      "id": "oR2xsFHKUaWx",
      "metadata": {
        "colab": {
          "base_uri": "https://localhost:8080/"
        },
        "id": "oR2xsFHKUaWx",
        "outputId": "51214fb6-07bd-4379-c296-9e619f557620"
      },
      "outputs": [
        {
          "output_type": "stream",
          "name": "stdout",
          "text": [
            "El MAE score es: 1.653931812763214\n",
            "El MSE score es: 4.285803197800635\n",
            "El r^2 score es: 0.9875449772340313\n"
          ]
        }
      ],
      "source": [
        "from sklearn.metrics import mean_absolute_error, mean_squared_error, r2_score\n",
        "\n",
        "mae = mean_absolute_error(y_test, prediccion)\n",
        "mse = mean_squared_error(y_test, prediccion)\n",
        "r2 = r2_score(y_test, prediccion)\n",
        "\n",
        "print(f'El MAE score es: {mae}')\n",
        "print(f'El MSE score es: {mse}')\n",
        "print(f'El r^2 score es: {r2}')"
      ]
    },
    {
      "cell_type": "markdown",
      "id": "dadd6083",
      "metadata": {
        "id": "dadd6083"
      },
      "source": [
        "## Redes Convolusionales\n",
        "\n",
        "Desacargue el conjunto de imagenes adjuntas que corresponden a fotos de cancer de piel benignos y malignos. Entrene una red neuronal convolusional para predecir si una nueva imagen es o no cancerosa. Intente con varios hyperparámetros, i.e: funciones de activación, número de neuronas en capas ocultas, número de kernel convolusionales, entre otros que le permitan una capacidad predictiva adecuada"
      ]
    },
    {
      "cell_type": "markdown",
      "id": "keHOJx3aaymY",
      "metadata": {
        "id": "keHOJx3aaymY"
      },
      "source": [
        "#Importar librerías necesarias"
      ]
    },
    {
      "cell_type": "code",
      "execution_count": null,
      "id": "485e893a",
      "metadata": {
        "id": "485e893a"
      },
      "outputs": [],
      "source": [
        "import tensorflow as tf\n",
        "from tensorflow.keras.preprocessing import image_dataset_from_directory\n",
        "from tensorflow.keras.preprocessing.image import ImageDataGenerator\n",
        "from google.colab import files\n",
        "import zipfile\n",
        "import io\n"
      ]
    },
    {
      "cell_type": "code",
      "execution_count": null,
      "id": "-RFAESV_ewIM",
      "metadata": {
        "colab": {
          "base_uri": "https://localhost:8080/",
          "height": 73
        },
        "id": "-RFAESV_ewIM",
        "outputId": "52d7cac9-a675-45bb-8786-77c11db46557"
      },
      "outputs": [
        {
          "output_type": "display_data",
          "data": {
            "text/plain": [
              "<IPython.core.display.HTML object>"
            ],
            "text/html": [
              "\n",
              "     <input type=\"file\" id=\"files-542be934-bf6d-48fc-825c-40270d3293f5\" name=\"files[]\" multiple disabled\n",
              "        style=\"border:none\" />\n",
              "     <output id=\"result-542be934-bf6d-48fc-825c-40270d3293f5\">\n",
              "      Upload widget is only available when the cell has been executed in the\n",
              "      current browser session. Please rerun this cell to enable.\n",
              "      </output>\n",
              "      <script>// Copyright 2017 Google LLC\n",
              "//\n",
              "// Licensed under the Apache License, Version 2.0 (the \"License\");\n",
              "// you may not use this file except in compliance with the License.\n",
              "// You may obtain a copy of the License at\n",
              "//\n",
              "//      http://www.apache.org/licenses/LICENSE-2.0\n",
              "//\n",
              "// Unless required by applicable law or agreed to in writing, software\n",
              "// distributed under the License is distributed on an \"AS IS\" BASIS,\n",
              "// WITHOUT WARRANTIES OR CONDITIONS OF ANY KIND, either express or implied.\n",
              "// See the License for the specific language governing permissions and\n",
              "// limitations under the License.\n",
              "\n",
              "/**\n",
              " * @fileoverview Helpers for google.colab Python module.\n",
              " */\n",
              "(function(scope) {\n",
              "function span(text, styleAttributes = {}) {\n",
              "  const element = document.createElement('span');\n",
              "  element.textContent = text;\n",
              "  for (const key of Object.keys(styleAttributes)) {\n",
              "    element.style[key] = styleAttributes[key];\n",
              "  }\n",
              "  return element;\n",
              "}\n",
              "\n",
              "// Max number of bytes which will be uploaded at a time.\n",
              "const MAX_PAYLOAD_SIZE = 100 * 1024;\n",
              "\n",
              "function _uploadFiles(inputId, outputId) {\n",
              "  const steps = uploadFilesStep(inputId, outputId);\n",
              "  const outputElement = document.getElementById(outputId);\n",
              "  // Cache steps on the outputElement to make it available for the next call\n",
              "  // to uploadFilesContinue from Python.\n",
              "  outputElement.steps = steps;\n",
              "\n",
              "  return _uploadFilesContinue(outputId);\n",
              "}\n",
              "\n",
              "// This is roughly an async generator (not supported in the browser yet),\n",
              "// where there are multiple asynchronous steps and the Python side is going\n",
              "// to poll for completion of each step.\n",
              "// This uses a Promise to block the python side on completion of each step,\n",
              "// then passes the result of the previous step as the input to the next step.\n",
              "function _uploadFilesContinue(outputId) {\n",
              "  const outputElement = document.getElementById(outputId);\n",
              "  const steps = outputElement.steps;\n",
              "\n",
              "  const next = steps.next(outputElement.lastPromiseValue);\n",
              "  return Promise.resolve(next.value.promise).then((value) => {\n",
              "    // Cache the last promise value to make it available to the next\n",
              "    // step of the generator.\n",
              "    outputElement.lastPromiseValue = value;\n",
              "    return next.value.response;\n",
              "  });\n",
              "}\n",
              "\n",
              "/**\n",
              " * Generator function which is called between each async step of the upload\n",
              " * process.\n",
              " * @param {string} inputId Element ID of the input file picker element.\n",
              " * @param {string} outputId Element ID of the output display.\n",
              " * @return {!Iterable<!Object>} Iterable of next steps.\n",
              " */\n",
              "function* uploadFilesStep(inputId, outputId) {\n",
              "  const inputElement = document.getElementById(inputId);\n",
              "  inputElement.disabled = false;\n",
              "\n",
              "  const outputElement = document.getElementById(outputId);\n",
              "  outputElement.innerHTML = '';\n",
              "\n",
              "  const pickedPromise = new Promise((resolve) => {\n",
              "    inputElement.addEventListener('change', (e) => {\n",
              "      resolve(e.target.files);\n",
              "    });\n",
              "  });\n",
              "\n",
              "  const cancel = document.createElement('button');\n",
              "  inputElement.parentElement.appendChild(cancel);\n",
              "  cancel.textContent = 'Cancel upload';\n",
              "  const cancelPromise = new Promise((resolve) => {\n",
              "    cancel.onclick = () => {\n",
              "      resolve(null);\n",
              "    };\n",
              "  });\n",
              "\n",
              "  // Wait for the user to pick the files.\n",
              "  const files = yield {\n",
              "    promise: Promise.race([pickedPromise, cancelPromise]),\n",
              "    response: {\n",
              "      action: 'starting',\n",
              "    }\n",
              "  };\n",
              "\n",
              "  cancel.remove();\n",
              "\n",
              "  // Disable the input element since further picks are not allowed.\n",
              "  inputElement.disabled = true;\n",
              "\n",
              "  if (!files) {\n",
              "    return {\n",
              "      response: {\n",
              "        action: 'complete',\n",
              "      }\n",
              "    };\n",
              "  }\n",
              "\n",
              "  for (const file of files) {\n",
              "    const li = document.createElement('li');\n",
              "    li.append(span(file.name, {fontWeight: 'bold'}));\n",
              "    li.append(span(\n",
              "        `(${file.type || 'n/a'}) - ${file.size} bytes, ` +\n",
              "        `last modified: ${\n",
              "            file.lastModifiedDate ? file.lastModifiedDate.toLocaleDateString() :\n",
              "                                    'n/a'} - `));\n",
              "    const percent = span('0% done');\n",
              "    li.appendChild(percent);\n",
              "\n",
              "    outputElement.appendChild(li);\n",
              "\n",
              "    const fileDataPromise = new Promise((resolve) => {\n",
              "      const reader = new FileReader();\n",
              "      reader.onload = (e) => {\n",
              "        resolve(e.target.result);\n",
              "      };\n",
              "      reader.readAsArrayBuffer(file);\n",
              "    });\n",
              "    // Wait for the data to be ready.\n",
              "    let fileData = yield {\n",
              "      promise: fileDataPromise,\n",
              "      response: {\n",
              "        action: 'continue',\n",
              "      }\n",
              "    };\n",
              "\n",
              "    // Use a chunked sending to avoid message size limits. See b/62115660.\n",
              "    let position = 0;\n",
              "    do {\n",
              "      const length = Math.min(fileData.byteLength - position, MAX_PAYLOAD_SIZE);\n",
              "      const chunk = new Uint8Array(fileData, position, length);\n",
              "      position += length;\n",
              "\n",
              "      const base64 = btoa(String.fromCharCode.apply(null, chunk));\n",
              "      yield {\n",
              "        response: {\n",
              "          action: 'append',\n",
              "          file: file.name,\n",
              "          data: base64,\n",
              "        },\n",
              "      };\n",
              "\n",
              "      let percentDone = fileData.byteLength === 0 ?\n",
              "          100 :\n",
              "          Math.round((position / fileData.byteLength) * 100);\n",
              "      percent.textContent = `${percentDone}% done`;\n",
              "\n",
              "    } while (position < fileData.byteLength);\n",
              "  }\n",
              "\n",
              "  // All done.\n",
              "  yield {\n",
              "    response: {\n",
              "      action: 'complete',\n",
              "    }\n",
              "  };\n",
              "}\n",
              "\n",
              "scope.google = scope.google || {};\n",
              "scope.google.colab = scope.google.colab || {};\n",
              "scope.google.colab._files = {\n",
              "  _uploadFiles,\n",
              "  _uploadFilesContinue,\n",
              "};\n",
              "})(self);\n",
              "</script> "
            ]
          },
          "metadata": {}
        },
        {
          "output_type": "stream",
          "name": "stdout",
          "text": [
            "Saving Skin_Data_2.zip to Skin_Data_2.zip\n"
          ]
        }
      ],
      "source": [
        "# Subir el archivo ZIP a Colab\n",
        "uploaded = files.upload()\n",
        "# Obtener el nombre del archivo ZIP\n",
        "zip_filename = next(iter(uploaded))\n",
        "# Crear un objeto ZipFile\n",
        "with zipfile.ZipFile(io.BytesIO(uploaded[zip_filename]), 'r') as zip_ref:\n",
        "    # Extraer los archivos en el directorio actual\n",
        "    zip_ref.extractall()"
      ]
    },
    {
      "cell_type": "markdown",
      "source": [
        "### Preprocesamiento en el conjunto de entrenamiento\n",
        "\n",
        "Para evitar overfitting es necesario aplicar una técnica conocida como **Image Augmentation**, consiste en realizar una serie de operaciones sobre las imágenes de entrenamiento para modificarlas y generar conjuntos de datos \"ruidosos\" que evitan el sobreajuste"
      ],
      "metadata": {
        "id": "adGaCER7FgHh"
      },
      "id": "adGaCER7FgHh"
    },
    {
      "cell_type": "code",
      "source": [
        "train_datagen = ImageDataGenerator(\n",
        "        rescale=1./255,\n",
        "        shear_range=0.2,\n",
        "        zoom_range=0.2,\n",
        "        horizontal_flip=True)\n",
        "train_dataset = train_datagen.flow_from_directory(\n",
        "        'Skin_Data/TRAIN',\n",
        "        target_size=(64, 64),\n",
        "        batch_size=32,\n",
        "        class_mode='binary')"
      ],
      "metadata": {
        "colab": {
          "base_uri": "https://localhost:8080/"
        },
        "id": "j875WiZ6FhCi",
        "outputId": "d62883c2-bb43-4df4-fbbc-a298eb772814"
      },
      "id": "j875WiZ6FhCi",
      "execution_count": null,
      "outputs": [
        {
          "output_type": "stream",
          "name": "stdout",
          "text": [
            "Found 204 images belonging to 2 classes.\n"
          ]
        }
      ]
    },
    {
      "cell_type": "code",
      "source": [
        "train_dataset.class_indices"
      ],
      "metadata": {
        "colab": {
          "base_uri": "https://localhost:8080/"
        },
        "id": "Bgrwnu_4RHm_",
        "outputId": "65375f59-d1b7-4c4c-b298-62d47494edbd"
      },
      "id": "Bgrwnu_4RHm_",
      "execution_count": null,
      "outputs": [
        {
          "output_type": "execute_result",
          "data": {
            "text/plain": [
              "{'Cancer': 0, 'NoCancer': 1}"
            ]
          },
          "metadata": {},
          "execution_count": 49
        }
      ]
    },
    {
      "cell_type": "markdown",
      "source": [
        "#### Preprocesamiento del conjunto de prueba\n",
        "\n",
        "Solo se debe hacer un reescalamiento."
      ],
      "metadata": {
        "id": "4B3AfzdIRYIv"
      },
      "id": "4B3AfzdIRYIv"
    },
    {
      "cell_type": "code",
      "source": [
        "test_datagen = ImageDataGenerator(rescale=1/255)\n",
        "test_dataset = test_datagen.flow_from_directory(\n",
        "        'Skin_Data/TEST',\n",
        "        target_size=(64, 64),\n",
        "        batch_size=32,\n",
        "        class_mode='binary')"
      ],
      "metadata": {
        "colab": {
          "base_uri": "https://localhost:8080/"
        },
        "id": "FUcVTftTRZxn",
        "outputId": "bc243127-2a02-4761-f47f-56d1ba344cbf"
      },
      "id": "FUcVTftTRZxn",
      "execution_count": null,
      "outputs": [
        {
          "output_type": "stream",
          "name": "stdout",
          "text": [
            "Found 84 images belonging to 2 classes.\n"
          ]
        }
      ]
    },
    {
      "cell_type": "markdown",
      "source": [
        "##Construir la CNN"
      ],
      "metadata": {
        "id": "KnNf2bOsRtK5"
      },
      "id": "KnNf2bOsRtK5"
    },
    {
      "cell_type": "code",
      "source": [
        "cnn = tf.keras.models.Sequential()"
      ],
      "metadata": {
        "id": "Czb1ckMXR5PX"
      },
      "id": "Czb1ckMXR5PX",
      "execution_count": null,
      "outputs": []
    },
    {
      "cell_type": "markdown",
      "source": [
        "##Capas Convolucionlaes y Maxpooling"
      ],
      "metadata": {
        "id": "gzDMfnoPSDLi"
      },
      "id": "gzDMfnoPSDLi"
    },
    {
      "cell_type": "code",
      "source": [
        "cnn.add(tf.keras.layers.Conv2D(filters=32, kernel_size=3, activation='relu', input_shape=[64, 64, 3]))\n",
        "cnn.add(tf.keras.layers.MaxPool2D(pool_size=2, strides=2))\n",
        "\n",
        "# Capa convolucional 2 y MaxPooling\n",
        "cnn.add(tf.keras.layers.Conv2D(filters=64, kernel_size=3, activation='relu'))\n",
        "cnn.add(tf.keras.layers.MaxPool2D(pool_size=2, strides=2))\n",
        "\n",
        "# Capa convolucional 3 y MaxPooling\n",
        "cnn.add(tf.keras.layers.Conv2D(filters=128, kernel_size=3, activation='relu'))\n",
        "cnn.add(tf.keras.layers.MaxPool2D(pool_size=2, strides=2))"
      ],
      "metadata": {
        "id": "xnxGJDpuSE_R"
      },
      "id": "xnxGJDpuSE_R",
      "execution_count": null,
      "outputs": []
    },
    {
      "cell_type": "markdown",
      "source": [
        "### Flattening"
      ],
      "metadata": {
        "id": "TzSIgybfSec-"
      },
      "id": "TzSIgybfSec-"
    },
    {
      "cell_type": "code",
      "source": [
        "cnn.add(tf.keras.layers.Flatten())"
      ],
      "metadata": {
        "id": "JILc5an-SfW9"
      },
      "id": "JILc5an-SfW9",
      "execution_count": null,
      "outputs": []
    },
    {
      "cell_type": "markdown",
      "source": [
        "### Terminar la conexión"
      ],
      "metadata": {
        "id": "UtkiH2ypSlY-"
      },
      "id": "UtkiH2ypSlY-"
    },
    {
      "cell_type": "code",
      "source": [
        "cnn.add(tf.keras.layers.Dense(units=128, activation='relu'))"
      ],
      "metadata": {
        "id": "Tnxuh6YUSmNG"
      },
      "id": "Tnxuh6YUSmNG",
      "execution_count": null,
      "outputs": []
    },
    {
      "cell_type": "markdown",
      "source": [
        "##Output layer"
      ],
      "metadata": {
        "id": "2P76ZQc2Srm_"
      },
      "id": "2P76ZQc2Srm_"
    },
    {
      "cell_type": "code",
      "source": [
        "cnn.add(tf.keras.layers.Dense(units=1, activation='sigmoid'))"
      ],
      "metadata": {
        "id": "WGqY6Xz-SuJf"
      },
      "id": "WGqY6Xz-SuJf",
      "execution_count": null,
      "outputs": []
    },
    {
      "cell_type": "markdown",
      "source": [
        "##Entrenamiento de la CNN"
      ],
      "metadata": {
        "id": "DK0uyDQTSz__"
      },
      "id": "DK0uyDQTSz__"
    },
    {
      "cell_type": "markdown",
      "source": [
        "#Compilar la CNN"
      ],
      "metadata": {
        "id": "N1vIizJDS_cg"
      },
      "id": "N1vIizJDS_cg"
    },
    {
      "cell_type": "code",
      "source": [
        "cnn.compile(loss='binary_crossentropy', optimizer='adam', metrics=['accuracy'])"
      ],
      "metadata": {
        "id": "hv1UhKV5S3Lx"
      },
      "id": "hv1UhKV5S3Lx",
      "execution_count": null,
      "outputs": []
    },
    {
      "cell_type": "markdown",
      "source": [
        "#Entrenar"
      ],
      "metadata": {
        "id": "37sv0XXFTFy1"
      },
      "id": "37sv0XXFTFy1"
    },
    {
      "cell_type": "code",
      "source": [
        "cnn.fit(x = train_dataset, validation_data = test_dataset, epochs = 50)"
      ],
      "metadata": {
        "colab": {
          "base_uri": "https://localhost:8080/"
        },
        "id": "Ybu8sUqATDQ9",
        "outputId": "1f7b37f1-58cc-45da-be35-5def093ea0e6"
      },
      "id": "Ybu8sUqATDQ9",
      "execution_count": null,
      "outputs": [
        {
          "output_type": "stream",
          "name": "stdout",
          "text": [
            "Epoch 1/50\n",
            "\u001b[1m7/7\u001b[0m \u001b[32m━━━━━━━━━━━━━━━━━━━━\u001b[0m\u001b[37m\u001b[0m \u001b[1m5s\u001b[0m 387ms/step - accuracy: 0.6709 - loss: 0.6134 - val_accuracy: 0.5000 - val_loss: 0.8059\n",
            "Epoch 2/50\n",
            "\u001b[1m7/7\u001b[0m \u001b[32m━━━━━━━━━━━━━━━━━━━━\u001b[0m\u001b[37m\u001b[0m \u001b[1m3s\u001b[0m 313ms/step - accuracy: 0.8128 - loss: 0.5280 - val_accuracy: 0.5000 - val_loss: 0.9977\n",
            "Epoch 3/50\n",
            "\u001b[1m7/7\u001b[0m \u001b[32m━━━━━━━━━━━━━━━━━━━━\u001b[0m\u001b[37m\u001b[0m \u001b[1m3s\u001b[0m 350ms/step - accuracy: 0.7998 - loss: 0.5105 - val_accuracy: 0.5000 - val_loss: 0.9147\n",
            "Epoch 4/50\n",
            "\u001b[1m7/7\u001b[0m \u001b[32m━━━━━━━━━━━━━━━━━━━━\u001b[0m\u001b[37m\u001b[0m \u001b[1m4s\u001b[0m 238ms/step - accuracy: 0.7765 - loss: 0.5297 - val_accuracy: 0.5000 - val_loss: 0.8988\n",
            "Epoch 5/50\n",
            "\u001b[1m7/7\u001b[0m \u001b[32m━━━━━━━━━━━━━━━━━━━━\u001b[0m\u001b[37m\u001b[0m \u001b[1m2s\u001b[0m 248ms/step - accuracy: 0.7710 - loss: 0.5366 - val_accuracy: 0.5000 - val_loss: 1.0976\n",
            "Epoch 6/50\n",
            "\u001b[1m7/7\u001b[0m \u001b[32m━━━━━━━━━━━━━━━━━━━━\u001b[0m\u001b[37m\u001b[0m \u001b[1m2s\u001b[0m 239ms/step - accuracy: 0.7829 - loss: 0.5360 - val_accuracy: 0.5000 - val_loss: 0.9432\n",
            "Epoch 7/50\n",
            "\u001b[1m7/7\u001b[0m \u001b[32m━━━━━━━━━━━━━━━━━━━━\u001b[0m\u001b[37m\u001b[0m \u001b[1m3s\u001b[0m 335ms/step - accuracy: 0.8355 - loss: 0.4611 - val_accuracy: 0.5000 - val_loss: 0.9128\n",
            "Epoch 8/50\n",
            "\u001b[1m7/7\u001b[0m \u001b[32m━━━━━━━━━━━━━━━━━━━━\u001b[0m\u001b[37m\u001b[0m \u001b[1m5s\u001b[0m 239ms/step - accuracy: 0.7799 - loss: 0.5176 - val_accuracy: 0.5000 - val_loss: 0.9705\n",
            "Epoch 9/50\n",
            "\u001b[1m7/7\u001b[0m \u001b[32m━━━━━━━━━━━━━━━━━━━━\u001b[0m\u001b[37m\u001b[0m \u001b[1m3s\u001b[0m 306ms/step - accuracy: 0.7788 - loss: 0.5198 - val_accuracy: 0.5000 - val_loss: 0.9853\n",
            "Epoch 10/50\n",
            "\u001b[1m7/7\u001b[0m \u001b[32m━━━━━━━━━━━━━━━━━━━━\u001b[0m\u001b[37m\u001b[0m \u001b[1m2s\u001b[0m 256ms/step - accuracy: 0.7885 - loss: 0.5065 - val_accuracy: 0.5000 - val_loss: 0.9323\n",
            "Epoch 11/50\n",
            "\u001b[1m7/7\u001b[0m \u001b[32m━━━━━━━━━━━━━━━━━━━━\u001b[0m\u001b[37m\u001b[0m \u001b[1m3s\u001b[0m 330ms/step - accuracy: 0.7747 - loss: 0.5200 - val_accuracy: 0.5000 - val_loss: 0.9895\n",
            "Epoch 12/50\n",
            "\u001b[1m7/7\u001b[0m \u001b[32m━━━━━━━━━━━━━━━━━━━━\u001b[0m\u001b[37m\u001b[0m \u001b[1m4s\u001b[0m 355ms/step - accuracy: 0.7900 - loss: 0.4782 - val_accuracy: 0.5000 - val_loss: 0.8494\n",
            "Epoch 13/50\n",
            "\u001b[1m7/7\u001b[0m \u001b[32m━━━━━━━━━━━━━━━━━━━━\u001b[0m\u001b[37m\u001b[0m \u001b[1m2s\u001b[0m 234ms/step - accuracy: 0.7687 - loss: 0.4989 - val_accuracy: 0.5000 - val_loss: 1.5177\n",
            "Epoch 14/50\n",
            "\u001b[1m7/7\u001b[0m \u001b[32m━━━━━━━━━━━━━━━━━━━━\u001b[0m\u001b[37m\u001b[0m \u001b[1m2s\u001b[0m 266ms/step - accuracy: 0.7746 - loss: 0.5519 - val_accuracy: 0.5000 - val_loss: 0.8216\n",
            "Epoch 15/50\n",
            "\u001b[1m7/7\u001b[0m \u001b[32m━━━━━━━━━━━━━━━━━━━━\u001b[0m\u001b[37m\u001b[0m \u001b[1m3s\u001b[0m 261ms/step - accuracy: 0.7595 - loss: 0.4650 - val_accuracy: 0.5000 - val_loss: 0.8254\n",
            "Epoch 16/50\n",
            "\u001b[1m7/7\u001b[0m \u001b[32m━━━━━━━━━━━━━━━━━━━━\u001b[0m\u001b[37m\u001b[0m \u001b[1m3s\u001b[0m 312ms/step - accuracy: 0.8026 - loss: 0.4153 - val_accuracy: 0.5238 - val_loss: 0.6935\n",
            "Epoch 17/50\n",
            "\u001b[1m7/7\u001b[0m \u001b[32m━━━━━━━━━━━━━━━━━━━━\u001b[0m\u001b[37m\u001b[0m \u001b[1m4s\u001b[0m 387ms/step - accuracy: 0.8294 - loss: 0.3863 - val_accuracy: 0.6310 - val_loss: 0.6092\n",
            "Epoch 18/50\n",
            "\u001b[1m7/7\u001b[0m \u001b[32m━━━━━━━━━━━━━━━━━━━━\u001b[0m\u001b[37m\u001b[0m \u001b[1m3s\u001b[0m 275ms/step - accuracy: 0.8505 - loss: 0.3724 - val_accuracy: 0.6548 - val_loss: 0.6800\n",
            "Epoch 19/50\n",
            "\u001b[1m7/7\u001b[0m \u001b[32m━━━━━━━━━━━━━━━━━━━━\u001b[0m\u001b[37m\u001b[0m \u001b[1m2s\u001b[0m 255ms/step - accuracy: 0.8762 - loss: 0.2846 - val_accuracy: 0.7738 - val_loss: 0.4733\n",
            "Epoch 20/50\n",
            "\u001b[1m7/7\u001b[0m \u001b[32m━━━━━━━━━━━━━━━━━━━━\u001b[0m\u001b[37m\u001b[0m \u001b[1m3s\u001b[0m 276ms/step - accuracy: 0.8367 - loss: 0.3511 - val_accuracy: 0.6667 - val_loss: 0.6515\n",
            "Epoch 21/50\n",
            "\u001b[1m7/7\u001b[0m \u001b[32m━━━━━━━━━━━━━━━━━━━━\u001b[0m\u001b[37m\u001b[0m \u001b[1m3s\u001b[0m 407ms/step - accuracy: 0.8837 - loss: 0.2929 - val_accuracy: 0.6786 - val_loss: 0.7121\n",
            "Epoch 22/50\n",
            "\u001b[1m7/7\u001b[0m \u001b[32m━━━━━━━━━━━━━━━━━━━━\u001b[0m\u001b[37m\u001b[0m \u001b[1m4s\u001b[0m 278ms/step - accuracy: 0.8989 - loss: 0.2961 - val_accuracy: 0.7857 - val_loss: 0.4769\n",
            "Epoch 23/50\n",
            "\u001b[1m7/7\u001b[0m \u001b[32m━━━━━━━━━━━━━━━━━━━━\u001b[0m\u001b[37m\u001b[0m \u001b[1m3s\u001b[0m 243ms/step - accuracy: 0.8292 - loss: 0.3286 - val_accuracy: 0.7619 - val_loss: 0.5610\n",
            "Epoch 24/50\n",
            "\u001b[1m7/7\u001b[0m \u001b[32m━━━━━━━━━━━━━━━━━━━━\u001b[0m\u001b[37m\u001b[0m \u001b[1m3s\u001b[0m 263ms/step - accuracy: 0.8514 - loss: 0.3463 - val_accuracy: 0.6548 - val_loss: 0.7168\n",
            "Epoch 25/50\n",
            "\u001b[1m7/7\u001b[0m \u001b[32m━━━━━━━━━━━━━━━━━━━━\u001b[0m\u001b[37m\u001b[0m \u001b[1m3s\u001b[0m 366ms/step - accuracy: 0.8661 - loss: 0.3164 - val_accuracy: 0.6905 - val_loss: 0.6399\n",
            "Epoch 26/50\n",
            "\u001b[1m7/7\u001b[0m \u001b[32m━━━━━━━━━━━━━━━━━━━━\u001b[0m\u001b[37m\u001b[0m \u001b[1m5s\u001b[0m 261ms/step - accuracy: 0.8421 - loss: 0.3039 - val_accuracy: 0.7619 - val_loss: 0.5145\n",
            "Epoch 27/50\n",
            "\u001b[1m7/7\u001b[0m \u001b[32m━━━━━━━━━━━━━━━━━━━━\u001b[0m\u001b[37m\u001b[0m \u001b[1m2s\u001b[0m 249ms/step - accuracy: 0.8375 - loss: 0.3075 - val_accuracy: 0.8214 - val_loss: 0.4385\n",
            "Epoch 28/50\n",
            "\u001b[1m7/7\u001b[0m \u001b[32m━━━━━━━━━━━━━━━━━━━━\u001b[0m\u001b[37m\u001b[0m \u001b[1m3s\u001b[0m 312ms/step - accuracy: 0.9004 - loss: 0.2586 - val_accuracy: 0.7738 - val_loss: 0.6142\n",
            "Epoch 29/50\n",
            "\u001b[1m7/7\u001b[0m \u001b[32m━━━━━━━━━━━━━━━━━━━━\u001b[0m\u001b[37m\u001b[0m \u001b[1m3s\u001b[0m 399ms/step - accuracy: 0.8647 - loss: 0.2504 - val_accuracy: 0.8095 - val_loss: 0.5073\n",
            "Epoch 30/50\n",
            "\u001b[1m7/7\u001b[0m \u001b[32m━━━━━━━━━━━━━━━━━━━━\u001b[0m\u001b[37m\u001b[0m \u001b[1m3s\u001b[0m 298ms/step - accuracy: 0.8719 - loss: 0.2902 - val_accuracy: 0.8095 - val_loss: 0.5095\n",
            "Epoch 31/50\n",
            "\u001b[1m7/7\u001b[0m \u001b[32m━━━━━━━━━━━━━━━━━━━━\u001b[0m\u001b[37m\u001b[0m \u001b[1m2s\u001b[0m 263ms/step - accuracy: 0.9165 - loss: 0.2469 - val_accuracy: 0.7976 - val_loss: 0.4823\n",
            "Epoch 32/50\n",
            "\u001b[1m7/7\u001b[0m \u001b[32m━━━━━━━━━━━━━━━━━━━━\u001b[0m\u001b[37m\u001b[0m \u001b[1m2s\u001b[0m 239ms/step - accuracy: 0.8720 - loss: 0.2812 - val_accuracy: 0.7262 - val_loss: 0.7072\n",
            "Epoch 33/50\n",
            "\u001b[1m7/7\u001b[0m \u001b[32m━━━━━━━━━━━━━━━━━━━━\u001b[0m\u001b[37m\u001b[0m \u001b[1m2s\u001b[0m 253ms/step - accuracy: 0.8825 - loss: 0.2561 - val_accuracy: 0.7381 - val_loss: 0.6404\n",
            "Epoch 34/50\n",
            "\u001b[1m7/7\u001b[0m \u001b[32m━━━━━━━━━━━━━━━━━━━━\u001b[0m\u001b[37m\u001b[0m \u001b[1m3s\u001b[0m 376ms/step - accuracy: 0.8748 - loss: 0.2488 - val_accuracy: 0.7857 - val_loss: 0.4405\n",
            "Epoch 35/50\n",
            "\u001b[1m7/7\u001b[0m \u001b[32m━━━━━━━━━━━━━━━━━━━━\u001b[0m\u001b[37m\u001b[0m \u001b[1m4s\u001b[0m 234ms/step - accuracy: 0.8369 - loss: 0.3221 - val_accuracy: 0.8333 - val_loss: 0.3893\n",
            "Epoch 36/50\n",
            "\u001b[1m7/7\u001b[0m \u001b[32m━━━━━━━━━━━━━━━━━━━━\u001b[0m\u001b[37m\u001b[0m \u001b[1m2s\u001b[0m 265ms/step - accuracy: 0.8416 - loss: 0.3025 - val_accuracy: 0.7143 - val_loss: 0.6457\n",
            "Epoch 37/50\n",
            "\u001b[1m7/7\u001b[0m \u001b[32m━━━━━━━━━━━━━━━━━━━━\u001b[0m\u001b[37m\u001b[0m \u001b[1m2s\u001b[0m 244ms/step - accuracy: 0.9119 - loss: 0.2396 - val_accuracy: 0.8452 - val_loss: 0.4813\n",
            "Epoch 38/50\n",
            "\u001b[1m7/7\u001b[0m \u001b[32m━━━━━━━━━━━━━━━━━━━━\u001b[0m\u001b[37m\u001b[0m \u001b[1m2s\u001b[0m 267ms/step - accuracy: 0.8983 - loss: 0.2252 - val_accuracy: 0.7857 - val_loss: 0.5789\n",
            "Epoch 39/50\n",
            "\u001b[1m7/7\u001b[0m \u001b[32m━━━━━━━━━━━━━━━━━━━━\u001b[0m\u001b[37m\u001b[0m \u001b[1m4s\u001b[0m 431ms/step - accuracy: 0.8998 - loss: 0.2286 - val_accuracy: 0.6190 - val_loss: 1.1287\n",
            "Epoch 40/50\n",
            "\u001b[1m7/7\u001b[0m \u001b[32m━━━━━━━━━━━━━━━━━━━━\u001b[0m\u001b[37m\u001b[0m \u001b[1m3s\u001b[0m 271ms/step - accuracy: 0.9075 - loss: 0.2179 - val_accuracy: 0.8095 - val_loss: 0.4472\n",
            "Epoch 41/50\n",
            "\u001b[1m7/7\u001b[0m \u001b[32m━━━━━━━━━━━━━━━━━━━━\u001b[0m\u001b[37m\u001b[0m \u001b[1m3s\u001b[0m 264ms/step - accuracy: 0.8969 - loss: 0.1991 - val_accuracy: 0.8095 - val_loss: 0.5118\n",
            "Epoch 42/50\n",
            "\u001b[1m7/7\u001b[0m \u001b[32m━━━━━━━━━━━━━━━━━━━━\u001b[0m\u001b[37m\u001b[0m \u001b[1m3s\u001b[0m 264ms/step - accuracy: 0.9173 - loss: 0.1820 - val_accuracy: 0.7262 - val_loss: 0.7430\n",
            "Epoch 43/50\n",
            "\u001b[1m7/7\u001b[0m \u001b[32m━━━━━━━━━━━━━━━━━━━━\u001b[0m\u001b[37m\u001b[0m \u001b[1m3s\u001b[0m 301ms/step - accuracy: 0.8850 - loss: 0.1892 - val_accuracy: 0.6786 - val_loss: 0.9679\n",
            "Epoch 44/50\n",
            "\u001b[1m7/7\u001b[0m \u001b[32m━━━━━━━━━━━━━━━━━━━━\u001b[0m\u001b[37m\u001b[0m \u001b[1m5s\u001b[0m 242ms/step - accuracy: 0.9069 - loss: 0.2108 - val_accuracy: 0.7619 - val_loss: 0.5477\n",
            "Epoch 45/50\n",
            "\u001b[1m7/7\u001b[0m \u001b[32m━━━━━━━━━━━━━━━━━━━━\u001b[0m\u001b[37m\u001b[0m \u001b[1m3s\u001b[0m 250ms/step - accuracy: 0.9232 - loss: 0.1513 - val_accuracy: 0.7857 - val_loss: 0.5662\n",
            "Epoch 46/50\n",
            "\u001b[1m7/7\u001b[0m \u001b[32m━━━━━━━━━━━━━━━━━━━━\u001b[0m\u001b[37m\u001b[0m \u001b[1m3s\u001b[0m 267ms/step - accuracy: 0.9379 - loss: 0.1444 - val_accuracy: 0.8095 - val_loss: 0.4763\n",
            "Epoch 47/50\n",
            "\u001b[1m7/7\u001b[0m \u001b[32m━━━━━━━━━━━━━━━━━━━━\u001b[0m\u001b[37m\u001b[0m \u001b[1m3s\u001b[0m 364ms/step - accuracy: 0.9038 - loss: 0.2183 - val_accuracy: 0.8214 - val_loss: 0.4372\n",
            "Epoch 48/50\n",
            "\u001b[1m7/7\u001b[0m \u001b[32m━━━━━━━━━━━━━━━━━━━━\u001b[0m\u001b[37m\u001b[0m \u001b[1m5s\u001b[0m 263ms/step - accuracy: 0.9045 - loss: 0.1862 - val_accuracy: 0.7857 - val_loss: 0.5929\n",
            "Epoch 49/50\n",
            "\u001b[1m7/7\u001b[0m \u001b[32m━━━━━━━━━━━━━━━━━━━━\u001b[0m\u001b[37m\u001b[0m \u001b[1m3s\u001b[0m 285ms/step - accuracy: 0.9004 - loss: 0.1977 - val_accuracy: 0.6190 - val_loss: 1.0849\n",
            "Epoch 50/50\n",
            "\u001b[1m7/7\u001b[0m \u001b[32m━━━━━━━━━━━━━━━━━━━━\u001b[0m\u001b[37m\u001b[0m \u001b[1m6s\u001b[0m 362ms/step - accuracy: 0.8855 - loss: 0.2965 - val_accuracy: 0.8095 - val_loss: 0.5152\n"
          ]
        },
        {
          "output_type": "execute_result",
          "data": {
            "text/plain": [
              "<keras.src.callbacks.history.History at 0x799fcbea45b0>"
            ]
          },
          "metadata": {},
          "execution_count": 71
        }
      ]
    },
    {
      "cell_type": "code",
      "source": [
        "test_loss, test_acc = cnn.evaluate(test_dataset)\n",
        "print(f'Precisión en el conjunto de prueba: {test_acc:.4f}')"
      ],
      "metadata": {
        "colab": {
          "base_uri": "https://localhost:8080/"
        },
        "id": "9AJBiPyOZpar",
        "outputId": "194ae6ce-0a44-4b44-b77c-e58dad96b48d"
      },
      "id": "9AJBiPyOZpar",
      "execution_count": null,
      "outputs": [
        {
          "output_type": "stream",
          "name": "stdout",
          "text": [
            "\u001b[1m3/3\u001b[0m \u001b[32m━━━━━━━━━━━━━━━━━━━━\u001b[0m\u001b[37m\u001b[0m \u001b[1m1s\u001b[0m 118ms/step - accuracy: 0.8110 - loss: 0.4745\n",
            "Precisión en el conjunto de prueba: 0.8095\n"
          ]
        }
      ]
    },
    {
      "cell_type": "markdown",
      "source": [
        "# Ajustando filtros, kernels, unidades en la capa densa y funciones de activación:"
      ],
      "metadata": {
        "id": "mTgkNUivadOD"
      },
      "id": "mTgkNUivadOD"
    },
    {
      "cell_type": "code",
      "source": [
        "cnn1 = tf.keras.models.Sequential()\n",
        "\n",
        "# Capa convolucional 1: 32 filtros, kernel de 3x3, función de activación 'relu'\n",
        "cnn1.add(tf.keras.layers.Conv2D(filters=32, kernel_size=3, activation='relu', input_shape=[64, 64, 3]))\n",
        "cnn1.add(tf.keras.layers.MaxPool2D(pool_size=2, strides=2))\n",
        "\n",
        "# Capa convolucional 2: 64 filtros, kernel de 5x5, función de activación 'tanh'\n",
        "cnn1.add(tf.keras.layers.Conv2D(filters=64, kernel_size=5, activation='tanh'))\n",
        "cnn1.add(tf.keras.layers.MaxPool2D(pool_size=2, strides=2))\n",
        "\n",
        "# Capa convolucional 3: 128 filtros, kernel de 3x3, función de activación 'leaky_relu'\n",
        "cnn1.add(tf.keras.layers.Conv2D(filters=128, kernel_size=3, activation=tf.keras.layers.LeakyReLU(alpha=0.1)))\n",
        "cnn1.add(tf.keras.layers.MaxPool2D(pool_size=2, strides=2))\n",
        "\n",
        "# Flattening\n",
        "cnn1.add(tf.keras.layers.Flatten())\n",
        "\n",
        "# Capa densa con función de activación 'relu'\n",
        "cnn1.add(tf.keras.layers.Dense(units=256, activation='relu'))\n",
        "\n",
        "# Capa densa con función de activación 'tanh'\n",
        "cnn1.add(tf.keras.layers.Dense(units=128, activation='tanh'))\n",
        "\n",
        "# Capa de salida con función de activación 'sigmoid' (para clasificación binaria)\n",
        "cnn1.add(tf.keras.layers.Dense(units=1, activation='sigmoid'))\n",
        "\n",
        "# Compilar el modelo\n",
        "cnn1.compile(optimizer='adam', loss='binary_crossentropy', metrics=['accuracy'])\n",
        "\n",
        "# Entrenar el modelo\n",
        "cnn1.fit(x=train_dataset, validation_data=test_dataset, epochs=50)"
      ],
      "metadata": {
        "colab": {
          "base_uri": "https://localhost:8080/"
        },
        "id": "-rxNwKMraffL",
        "outputId": "23229012-9aac-4e49-e481-2c5937096d34"
      },
      "id": "-rxNwKMraffL",
      "execution_count": null,
      "outputs": [
        {
          "output_type": "stream",
          "name": "stderr",
          "text": [
            "/usr/local/lib/python3.10/dist-packages/keras/src/layers/convolutional/base_conv.py:107: UserWarning: Do not pass an `input_shape`/`input_dim` argument to a layer. When using Sequential models, prefer using an `Input(shape)` object as the first layer in the model instead.\n",
            "  super().__init__(activity_regularizer=activity_regularizer, **kwargs)\n",
            "/usr/local/lib/python3.10/dist-packages/keras/src/layers/activations/leaky_relu.py:41: UserWarning: Argument `alpha` is deprecated. Use `negative_slope` instead.\n",
            "  warnings.warn(\n"
          ]
        },
        {
          "output_type": "stream",
          "name": "stdout",
          "text": [
            "Epoch 1/50\n",
            "\u001b[1m7/7\u001b[0m \u001b[32m━━━━━━━━━━━━━━━━━━━━\u001b[0m\u001b[37m\u001b[0m \u001b[1m8s\u001b[0m 611ms/step - accuracy: 0.5577 - loss: 0.6251 - val_accuracy: 0.5000 - val_loss: 1.1939\n",
            "Epoch 2/50\n",
            "\u001b[1m7/7\u001b[0m \u001b[32m━━━━━━━━━━━━━━━━━━━━\u001b[0m\u001b[37m\u001b[0m \u001b[1m3s\u001b[0m 328ms/step - accuracy: 0.7924 - loss: 0.5076 - val_accuracy: 0.5000 - val_loss: 0.9764\n",
            "Epoch 3/50\n",
            "\u001b[1m7/7\u001b[0m \u001b[32m━━━━━━━━━━━━━━━━━━━━\u001b[0m\u001b[37m\u001b[0m \u001b[1m3s\u001b[0m 329ms/step - accuracy: 0.8246 - loss: 0.4702 - val_accuracy: 0.5000 - val_loss: 0.8180\n",
            "Epoch 4/50\n",
            "\u001b[1m7/7\u001b[0m \u001b[32m━━━━━━━━━━━━━━━━━━━━\u001b[0m\u001b[37m\u001b[0m \u001b[1m3s\u001b[0m 342ms/step - accuracy: 0.7954 - loss: 0.5171 - val_accuracy: 0.5000 - val_loss: 1.0376\n",
            "Epoch 5/50\n",
            "\u001b[1m7/7\u001b[0m \u001b[32m━━━━━━━━━━━━━━━━━━━━\u001b[0m\u001b[37m\u001b[0m \u001b[1m6s\u001b[0m 344ms/step - accuracy: 0.7817 - loss: 0.5307 - val_accuracy: 0.5000 - val_loss: 0.8982\n",
            "Epoch 6/50\n",
            "\u001b[1m7/7\u001b[0m \u001b[32m━━━━━━━━━━━━━━━━━━━━\u001b[0m\u001b[37m\u001b[0m \u001b[1m3s\u001b[0m 353ms/step - accuracy: 0.7794 - loss: 0.4764 - val_accuracy: 0.6071 - val_loss: 0.7003\n",
            "Epoch 7/50\n",
            "\u001b[1m7/7\u001b[0m \u001b[32m━━━━━━━━━━━━━━━━━━━━\u001b[0m\u001b[37m\u001b[0m \u001b[1m5s\u001b[0m 351ms/step - accuracy: 0.7655 - loss: 0.4744 - val_accuracy: 0.5000 - val_loss: 1.4201\n",
            "Epoch 8/50\n",
            "\u001b[1m7/7\u001b[0m \u001b[32m━━━━━━━━━━━━━━━━━━━━\u001b[0m\u001b[37m\u001b[0m \u001b[1m5s\u001b[0m 513ms/step - accuracy: 0.7957 - loss: 0.4750 - val_accuracy: 0.5714 - val_loss: 0.8417\n",
            "Epoch 9/50\n",
            "\u001b[1m7/7\u001b[0m \u001b[32m━━━━━━━━━━━━━━━━━━━━\u001b[0m\u001b[37m\u001b[0m \u001b[1m3s\u001b[0m 335ms/step - accuracy: 0.8019 - loss: 0.4334 - val_accuracy: 0.5595 - val_loss: 0.6747\n",
            "Epoch 10/50\n",
            "\u001b[1m7/7\u001b[0m \u001b[32m━━━━━━━━━━━━━━━━━━━━\u001b[0m\u001b[37m\u001b[0m \u001b[1m3s\u001b[0m 333ms/step - accuracy: 0.8469 - loss: 0.3678 - val_accuracy: 0.5833 - val_loss: 0.9014\n",
            "Epoch 11/50\n",
            "\u001b[1m7/7\u001b[0m \u001b[32m━━━━━━━━━━━━━━━━━━━━\u001b[0m\u001b[37m\u001b[0m \u001b[1m3s\u001b[0m 335ms/step - accuracy: 0.8202 - loss: 0.3958 - val_accuracy: 0.6071 - val_loss: 0.7287\n",
            "Epoch 12/50\n",
            "\u001b[1m7/7\u001b[0m \u001b[32m━━━━━━━━━━━━━━━━━━━━\u001b[0m\u001b[37m\u001b[0m \u001b[1m5s\u001b[0m 348ms/step - accuracy: 0.8350 - loss: 0.3611 - val_accuracy: 0.5714 - val_loss: 0.8451\n",
            "Epoch 13/50\n",
            "\u001b[1m7/7\u001b[0m \u001b[32m━━━━━━━━━━━━━━━━━━━━\u001b[0m\u001b[37m\u001b[0m \u001b[1m5s\u001b[0m 339ms/step - accuracy: 0.7972 - loss: 0.4343 - val_accuracy: 0.7143 - val_loss: 0.5620\n",
            "Epoch 14/50\n",
            "\u001b[1m7/7\u001b[0m \u001b[32m━━━━━━━━━━━━━━━━━━━━\u001b[0m\u001b[37m\u001b[0m \u001b[1m7s\u001b[0m 511ms/step - accuracy: 0.8087 - loss: 0.3742 - val_accuracy: 0.8214 - val_loss: 0.4402\n",
            "Epoch 15/50\n",
            "\u001b[1m7/7\u001b[0m \u001b[32m━━━━━━━━━━━━━━━━━━━━\u001b[0m\u001b[37m\u001b[0m \u001b[1m3s\u001b[0m 360ms/step - accuracy: 0.8587 - loss: 0.3593 - val_accuracy: 0.6429 - val_loss: 0.7799\n",
            "Epoch 16/50\n",
            "\u001b[1m7/7\u001b[0m \u001b[32m━━━━━━━━━━━━━━━━━━━━\u001b[0m\u001b[37m\u001b[0m \u001b[1m3s\u001b[0m 348ms/step - accuracy: 0.8303 - loss: 0.3880 - val_accuracy: 0.6071 - val_loss: 0.8824\n",
            "Epoch 17/50\n",
            "\u001b[1m7/7\u001b[0m \u001b[32m━━━━━━━━━━━━━━━━━━━━\u001b[0m\u001b[37m\u001b[0m \u001b[1m7s\u001b[0m 673ms/step - accuracy: 0.8594 - loss: 0.3443 - val_accuracy: 0.8452 - val_loss: 0.4611\n",
            "Epoch 18/50\n",
            "\u001b[1m7/7\u001b[0m \u001b[32m━━━━━━━━━━━━━━━━━━━━\u001b[0m\u001b[37m\u001b[0m \u001b[1m3s\u001b[0m 400ms/step - accuracy: 0.8453 - loss: 0.3168 - val_accuracy: 0.7143 - val_loss: 0.6403\n",
            "Epoch 19/50\n",
            "\u001b[1m7/7\u001b[0m \u001b[32m━━━━━━━━━━━━━━━━━━━━\u001b[0m\u001b[37m\u001b[0m \u001b[1m3s\u001b[0m 339ms/step - accuracy: 0.8704 - loss: 0.2419 - val_accuracy: 0.7619 - val_loss: 0.5269\n",
            "Epoch 20/50\n",
            "\u001b[1m7/7\u001b[0m \u001b[32m━━━━━━━━━━━━━━━━━━━━\u001b[0m\u001b[37m\u001b[0m \u001b[1m3s\u001b[0m 322ms/step - accuracy: 0.8903 - loss: 0.3443 - val_accuracy: 0.7262 - val_loss: 0.5563\n",
            "Epoch 21/50\n",
            "\u001b[1m7/7\u001b[0m \u001b[32m━━━━━━━━━━━━━━━━━━━━\u001b[0m\u001b[37m\u001b[0m \u001b[1m5s\u001b[0m 353ms/step - accuracy: 0.9129 - loss: 0.2648 - val_accuracy: 0.6905 - val_loss: 0.6031\n",
            "Epoch 22/50\n",
            "\u001b[1m7/7\u001b[0m \u001b[32m━━━━━━━━━━━━━━━━━━━━\u001b[0m\u001b[37m\u001b[0m \u001b[1m5s\u001b[0m 341ms/step - accuracy: 0.8971 - loss: 0.2314 - val_accuracy: 0.7500 - val_loss: 0.6603\n",
            "Epoch 23/50\n",
            "\u001b[1m7/7\u001b[0m \u001b[32m━━━━━━━━━━━━━━━━━━━━\u001b[0m\u001b[37m\u001b[0m \u001b[1m7s\u001b[0m 608ms/step - accuracy: 0.8668 - loss: 0.2884 - val_accuracy: 0.8452 - val_loss: 0.4345\n",
            "Epoch 24/50\n",
            "\u001b[1m7/7\u001b[0m \u001b[32m━━━━━━━━━━━━━━━━━━━━\u001b[0m\u001b[37m\u001b[0m \u001b[1m3s\u001b[0m 339ms/step - accuracy: 0.9186 - loss: 0.1997 - val_accuracy: 0.8452 - val_loss: 0.4045\n",
            "Epoch 25/50\n",
            "\u001b[1m7/7\u001b[0m \u001b[32m━━━━━━━━━━━━━━━━━━━━\u001b[0m\u001b[37m\u001b[0m \u001b[1m3s\u001b[0m 390ms/step - accuracy: 0.8754 - loss: 0.2819 - val_accuracy: 0.8095 - val_loss: 0.4748\n",
            "Epoch 26/50\n",
            "\u001b[1m7/7\u001b[0m \u001b[32m━━━━━━━━━━━━━━━━━━━━\u001b[0m\u001b[37m\u001b[0m \u001b[1m3s\u001b[0m 339ms/step - accuracy: 0.9060 - loss: 0.2311 - val_accuracy: 0.7857 - val_loss: 0.4912\n",
            "Epoch 27/50\n",
            "\u001b[1m7/7\u001b[0m \u001b[32m━━━━━━━━━━━━━━━━━━━━\u001b[0m\u001b[37m\u001b[0m \u001b[1m5s\u001b[0m 571ms/step - accuracy: 0.9490 - loss: 0.2023 - val_accuracy: 0.6310 - val_loss: 1.1272\n",
            "Epoch 28/50\n",
            "\u001b[1m7/7\u001b[0m \u001b[32m━━━━━━━━━━━━━━━━━━━━\u001b[0m\u001b[37m\u001b[0m \u001b[1m3s\u001b[0m 364ms/step - accuracy: 0.8934 - loss: 0.2327 - val_accuracy: 0.7143 - val_loss: 0.7175\n",
            "Epoch 29/50\n",
            "\u001b[1m7/7\u001b[0m \u001b[32m━━━━━━━━━━━━━━━━━━━━\u001b[0m\u001b[37m\u001b[0m \u001b[1m5s\u001b[0m 394ms/step - accuracy: 0.8748 - loss: 0.2314 - val_accuracy: 0.6786 - val_loss: 0.8313\n",
            "Epoch 30/50\n",
            "\u001b[1m7/7\u001b[0m \u001b[32m━━━━━━━━━━━━━━━━━━━━\u001b[0m\u001b[37m\u001b[0m \u001b[1m4s\u001b[0m 543ms/step - accuracy: 0.9084 - loss: 0.1742 - val_accuracy: 0.6905 - val_loss: 0.7943\n",
            "Epoch 31/50\n",
            "\u001b[1m7/7\u001b[0m \u001b[32m━━━━━━━━━━━━━━━━━━━━\u001b[0m\u001b[37m\u001b[0m \u001b[1m4s\u001b[0m 392ms/step - accuracy: 0.8912 - loss: 0.2049 - val_accuracy: 0.6429 - val_loss: 1.0334\n",
            "Epoch 32/50\n",
            "\u001b[1m7/7\u001b[0m \u001b[32m━━━━━━━━━━━━━━━━━━━━\u001b[0m\u001b[37m\u001b[0m \u001b[1m3s\u001b[0m 321ms/step - accuracy: 0.8894 - loss: 0.2559 - val_accuracy: 0.7619 - val_loss: 0.5908\n",
            "Epoch 33/50\n",
            "\u001b[1m7/7\u001b[0m \u001b[32m━━━━━━━━━━━━━━━━━━━━\u001b[0m\u001b[37m\u001b[0m \u001b[1m6s\u001b[0m 518ms/step - accuracy: 0.8635 - loss: 0.2930 - val_accuracy: 0.8214 - val_loss: 0.4226\n",
            "Epoch 34/50\n",
            "\u001b[1m7/7\u001b[0m \u001b[32m━━━━━━━━━━━━━━━━━━━━\u001b[0m\u001b[37m\u001b[0m \u001b[1m4s\u001b[0m 388ms/step - accuracy: 0.9196 - loss: 0.2353 - val_accuracy: 0.7381 - val_loss: 0.6680\n",
            "Epoch 35/50\n",
            "\u001b[1m7/7\u001b[0m \u001b[32m━━━━━━━━━━━━━━━━━━━━\u001b[0m\u001b[37m\u001b[0m \u001b[1m5s\u001b[0m 357ms/step - accuracy: 0.8973 - loss: 0.2142 - val_accuracy: 0.7976 - val_loss: 0.5150\n",
            "Epoch 36/50\n",
            "\u001b[1m7/7\u001b[0m \u001b[32m━━━━━━━━━━━━━━━━━━━━\u001b[0m\u001b[37m\u001b[0m \u001b[1m5s\u001b[0m 622ms/step - accuracy: 0.9160 - loss: 0.1843 - val_accuracy: 0.6548 - val_loss: 0.7352\n",
            "Epoch 37/50\n",
            "\u001b[1m7/7\u001b[0m \u001b[32m━━━━━━━━━━━━━━━━━━━━\u001b[0m\u001b[37m\u001b[0m \u001b[1m3s\u001b[0m 375ms/step - accuracy: 0.9488 - loss: 0.1711 - val_accuracy: 0.8095 - val_loss: 0.5385\n",
            "Epoch 38/50\n",
            "\u001b[1m7/7\u001b[0m \u001b[32m━━━━━━━━━━━━━━━━━━━━\u001b[0m\u001b[37m\u001b[0m \u001b[1m3s\u001b[0m 338ms/step - accuracy: 0.9277 - loss: 0.1533 - val_accuracy: 0.7976 - val_loss: 0.4927\n",
            "Epoch 39/50\n",
            "\u001b[1m7/7\u001b[0m \u001b[32m━━━━━━━━━━━━━━━━━━━━\u001b[0m\u001b[37m\u001b[0m \u001b[1m3s\u001b[0m 364ms/step - accuracy: 0.9364 - loss: 0.1444 - val_accuracy: 0.8452 - val_loss: 0.4411\n",
            "Epoch 40/50\n",
            "\u001b[1m7/7\u001b[0m \u001b[32m━━━━━━━━━━━━━━━━━━━━\u001b[0m\u001b[37m\u001b[0m \u001b[1m5s\u001b[0m 666ms/step - accuracy: 0.9569 - loss: 0.1216 - val_accuracy: 0.7143 - val_loss: 0.6998\n",
            "Epoch 41/50\n",
            "\u001b[1m7/7\u001b[0m \u001b[32m━━━━━━━━━━━━━━━━━━━━\u001b[0m\u001b[37m\u001b[0m \u001b[1m3s\u001b[0m 342ms/step - accuracy: 0.9415 - loss: 0.1443 - val_accuracy: 0.7381 - val_loss: 0.8090\n",
            "Epoch 42/50\n",
            "\u001b[1m7/7\u001b[0m \u001b[32m━━━━━━━━━━━━━━━━━━━━\u001b[0m\u001b[37m\u001b[0m \u001b[1m3s\u001b[0m 350ms/step - accuracy: 0.9515 - loss: 0.1054 - val_accuracy: 0.8095 - val_loss: 0.6002\n",
            "Epoch 43/50\n",
            "\u001b[1m7/7\u001b[0m \u001b[32m━━━━━━━━━━━━━━━━━━━━\u001b[0m\u001b[37m\u001b[0m \u001b[1m3s\u001b[0m 348ms/step - accuracy: 0.9489 - loss: 0.0888 - val_accuracy: 0.8095 - val_loss: 0.6018\n",
            "Epoch 44/50\n",
            "\u001b[1m7/7\u001b[0m \u001b[32m━━━━━━━━━━━━━━━━━━━━\u001b[0m\u001b[37m\u001b[0m \u001b[1m6s\u001b[0m 404ms/step - accuracy: 0.9479 - loss: 0.1562 - val_accuracy: 0.7857 - val_loss: 0.6319\n",
            "Epoch 45/50\n",
            "\u001b[1m7/7\u001b[0m \u001b[32m━━━━━━━━━━━━━━━━━━━━\u001b[0m\u001b[37m\u001b[0m \u001b[1m5s\u001b[0m 333ms/step - accuracy: 0.9647 - loss: 0.1066 - val_accuracy: 0.7976 - val_loss: 0.5163\n",
            "Epoch 46/50\n",
            "\u001b[1m7/7\u001b[0m \u001b[32m━━━━━━━━━━━━━━━━━━━━\u001b[0m\u001b[37m\u001b[0m \u001b[1m7s\u001b[0m 659ms/step - accuracy: 0.9056 - loss: 0.1737 - val_accuracy: 0.6667 - val_loss: 1.0330\n",
            "Epoch 47/50\n",
            "\u001b[1m7/7\u001b[0m \u001b[32m━━━━━━━━━━━━━━━━━━━━\u001b[0m\u001b[37m\u001b[0m \u001b[1m3s\u001b[0m 367ms/step - accuracy: 0.9666 - loss: 0.0793 - val_accuracy: 0.7976 - val_loss: 0.6433\n",
            "Epoch 48/50\n",
            "\u001b[1m7/7\u001b[0m \u001b[32m━━━━━━━━━━━━━━━━━━━━\u001b[0m\u001b[37m\u001b[0m \u001b[1m5s\u001b[0m 348ms/step - accuracy: 0.9788 - loss: 0.0609 - val_accuracy: 0.7619 - val_loss: 0.8396\n",
            "Epoch 49/50\n",
            "\u001b[1m7/7\u001b[0m \u001b[32m━━━━━━━━━━━━━━━━━━━━\u001b[0m\u001b[37m\u001b[0m \u001b[1m5s\u001b[0m 685ms/step - accuracy: 0.9745 - loss: 0.0787 - val_accuracy: 0.7738 - val_loss: 0.6135\n",
            "Epoch 50/50\n",
            "\u001b[1m7/7\u001b[0m \u001b[32m━━━━━━━━━━━━━━━━━━━━\u001b[0m\u001b[37m\u001b[0m \u001b[1m3s\u001b[0m 371ms/step - accuracy: 0.9980 - loss: 0.0333 - val_accuracy: 0.8095 - val_loss: 0.5652\n"
          ]
        },
        {
          "output_type": "execute_result",
          "data": {
            "text/plain": [
              "<keras.src.callbacks.history.History at 0x799fbf89bfd0>"
            ]
          },
          "metadata": {},
          "execution_count": 78
        }
      ]
    },
    {
      "cell_type": "code",
      "source": [
        "test_loss, test_acc = cnn1.evaluate(test_dataset)\n",
        "print(f'Precisión en el conjunto de prueba: {test_acc:.4f}')"
      ],
      "metadata": {
        "colab": {
          "base_uri": "https://localhost:8080/"
        },
        "id": "cKrU4QMIac4k",
        "outputId": "141ddab7-02db-4fc6-e7fe-d7e747190ec6"
      },
      "id": "cKrU4QMIac4k",
      "execution_count": null,
      "outputs": [
        {
          "output_type": "stream",
          "name": "stdout",
          "text": [
            "\u001b[1m3/3\u001b[0m \u001b[32m━━━━━━━━━━━━━━━━━━━━\u001b[0m\u001b[37m\u001b[0m \u001b[1m0s\u001b[0m 92ms/step - accuracy: 0.7954 - loss: 0.6000\n",
            "Precisión en el conjunto de prueba: 0.8095\n"
          ]
        }
      ]
    },
    {
      "cell_type": "markdown",
      "id": "2684490f",
      "metadata": {
        "id": "2684490f"
      },
      "source": [
        "## ANN 2\n",
        "\n",
        "Otro de los conjuntos de datos interesantes que se pueden utilizar para probar modelos en Machine Learning es el conjunto MNIST Fashion. Al igual que digits, es un conjunto con imágenes de algunas prendas de vestir en blanco y negro. La tarea consite en lo siguiente:\n",
        "\n",
        "1. Utilice la red neuronal que construímos a mano con dos capas ocultas. Realice el cálculo de las expresiones para el descenso del gradiente durante la retropropagación para esta nueva capa oculta e implemente nuevamente una red para esta tarea de clasificación\n",
        "\n",
        "2. Compare los resultados obtenidos con una ANN usando TensorFlow sin capas convolusión\n",
        "\n",
        "3. Compare los resultados 1 y 2 con una red convolusional"
      ]
    },
    {
      "cell_type": "markdown",
      "source": [
        "#Librerías necesarias"
      ],
      "metadata": {
        "id": "iVY29zJOe_iL"
      },
      "id": "iVY29zJOe_iL"
    },
    {
      "cell_type": "code",
      "source": [
        "import numpy as np\n",
        "import matplotlib.pyplot as plt\n",
        "from sklearn.model_selection import train_test_split\n",
        "from sklearn.preprocessing import LabelBinarizer"
      ],
      "metadata": {
        "id": "vtkMz-LEfEzu"
      },
      "id": "vtkMz-LEfEzu",
      "execution_count": null,
      "outputs": []
    },
    {
      "cell_type": "markdown",
      "source": [
        "#Importar el banco de datos"
      ],
      "metadata": {
        "id": "-zMQPDaRewV4"
      },
      "id": "-zMQPDaRewV4"
    },
    {
      "cell_type": "code",
      "execution_count": null,
      "id": "4e1603aa",
      "metadata": {
        "id": "4e1603aa"
      },
      "outputs": [],
      "source": [
        "from sklearn.datasets import fetch_openml\n",
        "mnist = fetch_openml('mnist_784', version = 1, parser = 'auto')"
      ]
    },
    {
      "cell_type": "code",
      "source": [
        "#separamos las características (imágenes) y las etiquetas en las variables X y y, respectivamente.\n",
        "X, y = mnist.data, mnist.target"
      ],
      "metadata": {
        "id": "1rlGDpxjfKWb"
      },
      "id": "1rlGDpxjfKWb",
      "execution_count": null,
      "outputs": []
    },
    {
      "cell_type": "code",
      "source": [
        "lb=LabelBinarizer()\n",
        "X = mnist[\"data\"][0:5000]\n",
        "y = mnist[\"target\"][0:5000]\n",
        "X = X.values.reshape(X.shape[0], -1) / 255 #apalnar imagenes y escalar\n",
        "y=y.iloc[:].values\n",
        "X_train,X_test,y_train,y_test=train_test_split(X,y,test_size=0.2)\n",
        "yTrain_oneHot=lb.fit_transform(y_train)\n",
        "yTest_oneHot=lb.fit_transform(y_test)"
      ],
      "metadata": {
        "id": "SBMYz2NffYJz"
      },
      "id": "SBMYz2NffYJz",
      "execution_count": null,
      "outputs": []
    },
    {
      "cell_type": "code",
      "source": [
        "# Definimos la función de activación ReLU\n",
        "def relu(x):\n",
        "  return np.maximum(0,x)\n",
        "  raise Exception(\"Debe Implementar la funcion de activación ReLu\")\n",
        "\n",
        "# Definimos la función de activación softmax\n",
        "def softmax(x):\n",
        "    exp_x = np.exp(x)\n",
        "    sumatoria = np.sum(exp_x, axis =1, keepdims= True)\n",
        "    return exp_x / sumatoria\n",
        "# Definimos los hiperparámetros para la red\n",
        "epochs = 2000 # Número de iteraciones de entrenamiento\n",
        "eta= 0.0001 #Tasa de aprendizaje para la actualización de pesos.\n",
        "X_input = X_train\n",
        "y_input = yTrain_oneHot\n",
        "#Tamaños de las diferentes capas de la red\n",
        "capa_de_entrada = 784\n",
        "capa_oculta = 64\n",
        "capa_oculta2 = 32\n",
        "capa_salida = 10\n",
        "\n",
        "#Pesos y Bias\n",
        "W_1 = np.random.uniform(size=(capa_de_entrada, capa_oculta )) - 0.5\n",
        "W_2 = np.random.randn(capa_oculta, capa_oculta2 ) - 0.5\n",
        "W_3 = np.random.uniform(size=(capa_oculta2 , capa_salida)) - 0.5\n",
        "b_1 = np.random.uniform(size=(1, capa_oculta)) - 0.5\n",
        "b_2 = np.random.uniform(size=(1, capa_oculta2)) - 0.5\n",
        "b_3 = np.random.uniform(size=(1, capa_salida)) - 0.5\n",
        "\n",
        "# Entrenamos la red neuronal\n",
        "error=np.zeros(epochs)\n",
        "for i in range(epochs):\n",
        "\n",
        "    # Forward pass\n",
        "    A_1 = X_train\n",
        "    Z_2 = A_1 @ W_1 + b_1\n",
        "    A_2 = np.maximum(0, Z_2)\n",
        "    Z_3 = A_2 @ W_2 + b_2\n",
        "    A_3 = np.maximum(0, Z_3)  # Nueva capa oculta\n",
        "    Z_4 = A_3 @ W_3 + b_3\n",
        "    y_hat = np.exp(Z_4) / np.sum(np.exp(Z_4), axis=1, keepdims=True)\n",
        "\n",
        "    # Calculo del error\n",
        "    error[i]=-np.sum(y_input*np.log(y_hat))\n",
        "    if (i%100==0):\n",
        "      print(f\"iteracion {i} , error:{error[i]}\")\n",
        "    # Backpropagation\n",
        "    delta4 = y_hat - y_input\n",
        "    d_w3 = A_3.T @ delta4\n",
        "    d_b3 = np.sum(delta4, axis=0)\n",
        "\n",
        "    delta3 = delta4 @ W_3.T * (Z_3 > 0)\n",
        "    d_w2 = A_2.T @ delta3\n",
        "    d_b2 = np.sum(delta3, axis=0)\n",
        "\n",
        "    delta2 = delta3 @ W_2.T * (Z_2 > 0)\n",
        "    d_w1 = A_1.T @ delta2\n",
        "    d_b1 = np.sum(delta2, axis=0)\n",
        "\n",
        "    # Actualizamos los pesos con la dirección del gradiente descendiente\n",
        "    W_3-=eta*d_w3\n",
        "    b_3-=eta*d_b3\n",
        "    W_2-=eta*d_w2\n",
        "    b_2-=eta*d_b2\n",
        "    W_1-=eta*d_w1\n",
        "    b_1-=eta*d_b1"
      ],
      "metadata": {
        "colab": {
          "base_uri": "https://localhost:8080/"
        },
        "id": "XvvDsk5RgSZG",
        "outputId": "461a8d52-b253-4df6-ab9d-cb2ce059ecd0"
      },
      "id": "XvvDsk5RgSZG",
      "execution_count": null,
      "outputs": [
        {
          "output_type": "stream",
          "name": "stdout",
          "text": [
            "iteracion 0 , error:14116.68380692565\n",
            "iteracion 100 , error:4931.181825710966\n",
            "iteracion 200 , error:3409.0309099324922\n",
            "iteracion 300 , error:1715.9141202042538\n",
            "iteracion 400 , error:1173.3406445134335\n",
            "iteracion 500 , error:1093.6070499970867\n",
            "iteracion 600 , error:575.4038122989648\n",
            "iteracion 700 , error:480.68253956226533\n",
            "iteracion 800 , error:424.6268430044994\n",
            "iteracion 900 , error:381.210839904572\n",
            "iteracion 1000 , error:351.65166979295225\n",
            "iteracion 1100 , error:330.1961548996866\n",
            "iteracion 1200 , error:312.4263501382624\n",
            "iteracion 1300 , error:289.5232607094616\n",
            "iteracion 1400 , error:269.63440019413724\n",
            "iteracion 1500 , error:249.57433834697366\n",
            "iteracion 1600 , error:238.12086209278277\n",
            "iteracion 1700 , error:230.79907228416647\n",
            "iteracion 1800 , error:218.67641197588017\n",
            "iteracion 1900 , error:209.4321235127149\n"
          ]
        }
      ]
    },
    {
      "cell_type": "markdown",
      "source": [
        "#PREDICCIÓN"
      ],
      "metadata": {
        "id": "H33ACS-xzgsW"
      },
      "id": "H33ACS-xzgsW"
    },
    {
      "cell_type": "code",
      "source": [
        "# Predicciones en el conjunto de prueba\n",
        "a1_test = X_test\n",
        "z2_test = a1_test @ W_1 + b_1\n",
        "a2_test = relu(z2_test)\n",
        "z3_test = a2_test @ W_2 + b_2\n",
        "a3_test = relu(z3_test)\n",
        "z4_test = a3_test @ W_3 + b_3\n",
        "y_pred = np.exp(z4_test) / np.sum(np.exp(z4_test), axis=1, keepdims=True)\n",
        "\n",
        "# Clases predichas\n",
        "y_pred_target = np.argmax(y_pred, axis=1)\n",
        "#Use yTest_oneHot instead of y_input\n",
        "y_target = np.argmax(yTest_oneHot, axis=1)\n",
        "\n",
        "# Calcular la precisión\n",
        "predic_correctas = np.sum(y_pred_target == y_target)\n",
        "accuracy = predic_correctas / len(y_target)\n",
        "\n",
        "print(f\"Precisión en el conjunto de prueba: {accuracy}\")"
      ],
      "metadata": {
        "colab": {
          "base_uri": "https://localhost:8080/"
        },
        "id": "FF3GtJORziSj",
        "outputId": "83080583-d0d8-4ceb-be69-a50f3dcfe447"
      },
      "id": "FF3GtJORziSj",
      "execution_count": null,
      "outputs": [
        {
          "output_type": "stream",
          "name": "stdout",
          "text": [
            "Precisión en el conjunto de prueba: 0.873\n"
          ]
        }
      ]
    },
    {
      "cell_type": "markdown",
      "source": [
        "#Implementación de ANN"
      ],
      "metadata": {
        "id": "ElHbNJ18261t"
      },
      "id": "ElHbNJ18261t"
    },
    {
      "cell_type": "code",
      "source": [
        "mnist = fetch_openml('mnist_784', version=1, parser='auto')\n",
        "X, y = mnist[\"data\"], mnist[\"target\"]\n",
        "X = X.values.reshape(X.shape[0], -1) / 255  # Normalización y aplanado\n",
        "y = y.astype(int)  # Asegurar que las etiquetas sean enteros\n",
        "\n",
        "# Dividimos los datos\n",
        "X_train, X_test, y_train, y_test = train_test_split(X, y, test_size=0.2, random_state=42)\n",
        "lb = LabelBinarizer()\n",
        "y_train_one_hot = lb.fit_transform(y_train)\n",
        "y_test_one_hot = lb.transform(y_test)\n"
      ],
      "metadata": {
        "id": "BG7eF3tN-K9p"
      },
      "id": "BG7eF3tN-K9p",
      "execution_count": null,
      "outputs": []
    },
    {
      "cell_type": "code",
      "source": [
        "\n",
        "# Definimos el modelo\n",
        "model = tf.keras.models.Sequential([\n",
        "    tf.keras.layers.Flatten(input_shape=(784,)),\n",
        "    tf.keras.layers.Dense(64, activation='relu'),\n",
        "    tf.keras.layers.Dense(32, activation='relu'),\n",
        "    tf.keras.layers.Dense(10, activation='softmax')\n",
        "])\n",
        "\n",
        "# Compilamos el modelo\n",
        "model.compile(optimizer='adam', loss='categorical_crossentropy', metrics=['accuracy'])\n",
        "\n",
        "# Entrenamos el modelo\n",
        "# Entrenamos el modelo using one-hot encoded labels\n",
        "history = model.fit(X_train, y_train_one_hot, epochs=100, batch_size=32, validation_split=0.2)\n",
        "\n"
      ],
      "metadata": {
        "colab": {
          "base_uri": "https://localhost:8080/"
        },
        "id": "8p04MF0X28r-",
        "outputId": "be1213a3-b63c-45d1-9983-71bd7be1c717"
      },
      "id": "8p04MF0X28r-",
      "execution_count": null,
      "outputs": [
        {
          "output_type": "stream",
          "name": "stderr",
          "text": [
            "/usr/local/lib/python3.10/dist-packages/keras/src/layers/reshaping/flatten.py:37: UserWarning: Do not pass an `input_shape`/`input_dim` argument to a layer. When using Sequential models, prefer using an `Input(shape)` object as the first layer in the model instead.\n",
            "  super().__init__(**kwargs)\n"
          ]
        },
        {
          "output_type": "stream",
          "name": "stdout",
          "text": [
            "Epoch 1/100\n",
            "\u001b[1m1400/1400\u001b[0m \u001b[32m━━━━━━━━━━━━━━━━━━━━\u001b[0m\u001b[37m\u001b[0m \u001b[1m5s\u001b[0m 3ms/step - accuracy: 0.8330 - loss: 0.5769 - val_accuracy: 0.9431 - val_loss: 0.1979\n",
            "Epoch 2/100\n",
            "\u001b[1m1400/1400\u001b[0m \u001b[32m━━━━━━━━━━━━━━━━━━━━\u001b[0m\u001b[37m\u001b[0m \u001b[1m6s\u001b[0m 4ms/step - accuracy: 0.9518 - loss: 0.1634 - val_accuracy: 0.9621 - val_loss: 0.1305\n",
            "Epoch 3/100\n",
            "\u001b[1m1400/1400\u001b[0m \u001b[32m━━━━━━━━━━━━━━━━━━━━\u001b[0m\u001b[37m\u001b[0m \u001b[1m4s\u001b[0m 3ms/step - accuracy: 0.9669 - loss: 0.1129 - val_accuracy: 0.9646 - val_loss: 0.1203\n",
            "Epoch 4/100\n",
            "\u001b[1m1400/1400\u001b[0m \u001b[32m━━━━━━━━━━━━━━━━━━━━\u001b[0m\u001b[37m\u001b[0m \u001b[1m6s\u001b[0m 4ms/step - accuracy: 0.9735 - loss: 0.0872 - val_accuracy: 0.9657 - val_loss: 0.1150\n",
            "Epoch 5/100\n",
            "\u001b[1m1400/1400\u001b[0m \u001b[32m━━━━━━━━━━━━━━━━━━━━\u001b[0m\u001b[37m\u001b[0m \u001b[1m11s\u001b[0m 4ms/step - accuracy: 0.9795 - loss: 0.0675 - val_accuracy: 0.9699 - val_loss: 0.1044\n",
            "Epoch 6/100\n",
            "\u001b[1m1400/1400\u001b[0m \u001b[32m━━━━━━━━━━━━━━━━━━━━\u001b[0m\u001b[37m\u001b[0m \u001b[1m9s\u001b[0m 3ms/step - accuracy: 0.9815 - loss: 0.0572 - val_accuracy: 0.9701 - val_loss: 0.1071\n",
            "Epoch 7/100\n",
            "\u001b[1m1400/1400\u001b[0m \u001b[32m━━━━━━━━━━━━━━━━━━━━\u001b[0m\u001b[37m\u001b[0m \u001b[1m5s\u001b[0m 4ms/step - accuracy: 0.9864 - loss: 0.0430 - val_accuracy: 0.9684 - val_loss: 0.1089\n",
            "Epoch 8/100\n",
            "\u001b[1m1400/1400\u001b[0m \u001b[32m━━━━━━━━━━━━━━━━━━━━\u001b[0m\u001b[37m\u001b[0m \u001b[1m5s\u001b[0m 4ms/step - accuracy: 0.9866 - loss: 0.0406 - val_accuracy: 0.9682 - val_loss: 0.1112\n",
            "Epoch 9/100\n",
            "\u001b[1m1400/1400\u001b[0m \u001b[32m━━━━━━━━━━━━━━━━━━━━\u001b[0m\u001b[37m\u001b[0m \u001b[1m11s\u001b[0m 4ms/step - accuracy: 0.9889 - loss: 0.0339 - val_accuracy: 0.9707 - val_loss: 0.1095\n",
            "Epoch 10/100\n",
            "\u001b[1m1400/1400\u001b[0m \u001b[32m━━━━━━━━━━━━━━━━━━━━\u001b[0m\u001b[37m\u001b[0m \u001b[1m8s\u001b[0m 3ms/step - accuracy: 0.9912 - loss: 0.0274 - val_accuracy: 0.9723 - val_loss: 0.1101\n",
            "Epoch 11/100\n",
            "\u001b[1m1400/1400\u001b[0m \u001b[32m━━━━━━━━━━━━━━━━━━━━\u001b[0m\u001b[37m\u001b[0m \u001b[1m7s\u001b[0m 4ms/step - accuracy: 0.9926 - loss: 0.0233 - val_accuracy: 0.9708 - val_loss: 0.1167\n",
            "Epoch 12/100\n",
            "\u001b[1m1400/1400\u001b[0m \u001b[32m━━━━━━━━━━━━━━━━━━━━\u001b[0m\u001b[37m\u001b[0m \u001b[1m4s\u001b[0m 3ms/step - accuracy: 0.9941 - loss: 0.0186 - val_accuracy: 0.9711 - val_loss: 0.1222\n",
            "Epoch 13/100\n",
            "\u001b[1m1400/1400\u001b[0m \u001b[32m━━━━━━━━━━━━━━━━━━━━\u001b[0m\u001b[37m\u001b[0m \u001b[1m5s\u001b[0m 3ms/step - accuracy: 0.9941 - loss: 0.0176 - val_accuracy: 0.9649 - val_loss: 0.1388\n",
            "Epoch 14/100\n",
            "\u001b[1m1400/1400\u001b[0m \u001b[32m━━━━━━━━━━━━━━━━━━━━\u001b[0m\u001b[37m\u001b[0m \u001b[1m5s\u001b[0m 3ms/step - accuracy: 0.9940 - loss: 0.0168 - val_accuracy: 0.9721 - val_loss: 0.1207\n",
            "Epoch 15/100\n",
            "\u001b[1m1400/1400\u001b[0m \u001b[32m━━━━━━━━━━━━━━━━━━━━\u001b[0m\u001b[37m\u001b[0m \u001b[1m4s\u001b[0m 3ms/step - accuracy: 0.9958 - loss: 0.0139 - val_accuracy: 0.9713 - val_loss: 0.1216\n",
            "Epoch 16/100\n",
            "\u001b[1m1400/1400\u001b[0m \u001b[32m━━━━━━━━━━━━━━━━━━━━\u001b[0m\u001b[37m\u001b[0m \u001b[1m7s\u001b[0m 4ms/step - accuracy: 0.9955 - loss: 0.0141 - val_accuracy: 0.9689 - val_loss: 0.1340\n",
            "Epoch 17/100\n",
            "\u001b[1m1400/1400\u001b[0m \u001b[32m━━━━━━━━━━━━━━━━━━━━\u001b[0m\u001b[37m\u001b[0m \u001b[1m5s\u001b[0m 3ms/step - accuracy: 0.9969 - loss: 0.0094 - val_accuracy: 0.9709 - val_loss: 0.1449\n",
            "Epoch 18/100\n",
            "\u001b[1m1400/1400\u001b[0m \u001b[32m━━━━━━━━━━━━━━━━━━━━\u001b[0m\u001b[37m\u001b[0m \u001b[1m5s\u001b[0m 3ms/step - accuracy: 0.9956 - loss: 0.0131 - val_accuracy: 0.9713 - val_loss: 0.1387\n",
            "Epoch 19/100\n",
            "\u001b[1m1400/1400\u001b[0m \u001b[32m━━━━━━━━━━━━━━━━━━━━\u001b[0m\u001b[37m\u001b[0m \u001b[1m6s\u001b[0m 5ms/step - accuracy: 0.9961 - loss: 0.0107 - val_accuracy: 0.9703 - val_loss: 0.1467\n",
            "Epoch 20/100\n",
            "\u001b[1m1400/1400\u001b[0m \u001b[32m━━━━━━━━━━━━━━━━━━━━\u001b[0m\u001b[37m\u001b[0m \u001b[1m8s\u001b[0m 3ms/step - accuracy: 0.9964 - loss: 0.0102 - val_accuracy: 0.9706 - val_loss: 0.1509\n",
            "Epoch 21/100\n",
            "\u001b[1m1400/1400\u001b[0m \u001b[32m━━━━━━━━━━━━━━━━━━━━\u001b[0m\u001b[37m\u001b[0m \u001b[1m6s\u001b[0m 4ms/step - accuracy: 0.9961 - loss: 0.0118 - val_accuracy: 0.9715 - val_loss: 0.1430\n",
            "Epoch 22/100\n",
            "\u001b[1m1400/1400\u001b[0m \u001b[32m━━━━━━━━━━━━━━━━━━━━\u001b[0m\u001b[37m\u001b[0m \u001b[1m9s\u001b[0m 3ms/step - accuracy: 0.9976 - loss: 0.0074 - val_accuracy: 0.9665 - val_loss: 0.1767\n",
            "Epoch 23/100\n",
            "\u001b[1m1400/1400\u001b[0m \u001b[32m━━━━━━━━━━━━━━━━━━━━\u001b[0m\u001b[37m\u001b[0m \u001b[1m7s\u001b[0m 4ms/step - accuracy: 0.9958 - loss: 0.0130 - val_accuracy: 0.9716 - val_loss: 0.1583\n",
            "Epoch 24/100\n",
            "\u001b[1m1400/1400\u001b[0m \u001b[32m━━━━━━━━━━━━━━━━━━━━\u001b[0m\u001b[37m\u001b[0m \u001b[1m4s\u001b[0m 3ms/step - accuracy: 0.9973 - loss: 0.0078 - val_accuracy: 0.9706 - val_loss: 0.1608\n",
            "Epoch 25/100\n",
            "\u001b[1m1400/1400\u001b[0m \u001b[32m━━━━━━━━━━━━━━━━━━━━\u001b[0m\u001b[37m\u001b[0m \u001b[1m4s\u001b[0m 3ms/step - accuracy: 0.9971 - loss: 0.0077 - val_accuracy: 0.9692 - val_loss: 0.1826\n",
            "Epoch 26/100\n",
            "\u001b[1m1400/1400\u001b[0m \u001b[32m━━━━━━━━━━━━━━━━━━━━\u001b[0m\u001b[37m\u001b[0m \u001b[1m7s\u001b[0m 4ms/step - accuracy: 0.9969 - loss: 0.0090 - val_accuracy: 0.9704 - val_loss: 0.1737\n",
            "Epoch 27/100\n",
            "\u001b[1m1400/1400\u001b[0m \u001b[32m━━━━━━━━━━━━━━━━━━━━\u001b[0m\u001b[37m\u001b[0m \u001b[1m4s\u001b[0m 3ms/step - accuracy: 0.9959 - loss: 0.0119 - val_accuracy: 0.9679 - val_loss: 0.1929\n",
            "Epoch 28/100\n",
            "\u001b[1m1400/1400\u001b[0m \u001b[32m━━━━━━━━━━━━━━━━━━━━\u001b[0m\u001b[37m\u001b[0m \u001b[1m8s\u001b[0m 5ms/step - accuracy: 0.9969 - loss: 0.0083 - val_accuracy: 0.9673 - val_loss: 0.2092\n",
            "Epoch 29/100\n",
            "\u001b[1m1400/1400\u001b[0m \u001b[32m━━━━━━━━━━━━━━━━━━━━\u001b[0m\u001b[37m\u001b[0m \u001b[1m7s\u001b[0m 3ms/step - accuracy: 0.9974 - loss: 0.0074 - val_accuracy: 0.9698 - val_loss: 0.1849\n",
            "Epoch 30/100\n",
            "\u001b[1m1400/1400\u001b[0m \u001b[32m━━━━━━━━━━━━━━━━━━━━\u001b[0m\u001b[37m\u001b[0m \u001b[1m7s\u001b[0m 4ms/step - accuracy: 0.9967 - loss: 0.0090 - val_accuracy: 0.9721 - val_loss: 0.1742\n",
            "Epoch 31/100\n",
            "\u001b[1m1400/1400\u001b[0m \u001b[32m━━━━━━━━━━━━━━━━━━━━\u001b[0m\u001b[37m\u001b[0m \u001b[1m8s\u001b[0m 3ms/step - accuracy: 0.9975 - loss: 0.0088 - val_accuracy: 0.9701 - val_loss: 0.1848\n",
            "Epoch 32/100\n",
            "\u001b[1m1400/1400\u001b[0m \u001b[32m━━━━━━━━━━━━━━━━━━━━\u001b[0m\u001b[37m\u001b[0m \u001b[1m6s\u001b[0m 4ms/step - accuracy: 0.9976 - loss: 0.0064 - val_accuracy: 0.9679 - val_loss: 0.1864\n",
            "Epoch 33/100\n",
            "\u001b[1m1400/1400\u001b[0m \u001b[32m━━━━━━━━━━━━━━━━━━━━\u001b[0m\u001b[37m\u001b[0m \u001b[1m9s\u001b[0m 3ms/step - accuracy: 0.9972 - loss: 0.0077 - val_accuracy: 0.9704 - val_loss: 0.1925\n",
            "Epoch 34/100\n",
            "\u001b[1m1400/1400\u001b[0m \u001b[32m━━━━━━━━━━━━━━━━━━━━\u001b[0m\u001b[37m\u001b[0m \u001b[1m6s\u001b[0m 5ms/step - accuracy: 0.9970 - loss: 0.0103 - val_accuracy: 0.9710 - val_loss: 0.1861\n",
            "Epoch 35/100\n",
            "\u001b[1m1400/1400\u001b[0m \u001b[32m━━━━━━━━━━━━━━━━━━━━\u001b[0m\u001b[37m\u001b[0m \u001b[1m8s\u001b[0m 3ms/step - accuracy: 0.9977 - loss: 0.0066 - val_accuracy: 0.9702 - val_loss: 0.1860\n",
            "Epoch 36/100\n",
            "\u001b[1m1400/1400\u001b[0m \u001b[32m━━━━━━━━━━━━━━━━━━━━\u001b[0m\u001b[37m\u001b[0m \u001b[1m7s\u001b[0m 4ms/step - accuracy: 0.9975 - loss: 0.0093 - val_accuracy: 0.9726 - val_loss: 0.1954\n",
            "Epoch 37/100\n",
            "\u001b[1m1400/1400\u001b[0m \u001b[32m━━━━━━━━━━━━━━━━━━━━\u001b[0m\u001b[37m\u001b[0m \u001b[1m4s\u001b[0m 3ms/step - accuracy: 0.9979 - loss: 0.0065 - val_accuracy: 0.9725 - val_loss: 0.1920\n",
            "Epoch 38/100\n",
            "\u001b[1m1400/1400\u001b[0m \u001b[32m━━━━━━━━━━━━━━━━━━━━\u001b[0m\u001b[37m\u001b[0m \u001b[1m6s\u001b[0m 4ms/step - accuracy: 0.9977 - loss: 0.0062 - val_accuracy: 0.9720 - val_loss: 0.2174\n",
            "Epoch 39/100\n",
            "\u001b[1m1400/1400\u001b[0m \u001b[32m━━━━━━━━━━━━━━━━━━━━\u001b[0m\u001b[37m\u001b[0m \u001b[1m9s\u001b[0m 3ms/step - accuracy: 0.9978 - loss: 0.0066 - val_accuracy: 0.9725 - val_loss: 0.2044\n",
            "Epoch 40/100\n",
            "\u001b[1m1400/1400\u001b[0m \u001b[32m━━━━━━━━━━━━━━━━━━━━\u001b[0m\u001b[37m\u001b[0m \u001b[1m7s\u001b[0m 5ms/step - accuracy: 0.9985 - loss: 0.0041 - val_accuracy: 0.9714 - val_loss: 0.2092\n",
            "Epoch 41/100\n",
            "\u001b[1m1400/1400\u001b[0m \u001b[32m━━━━━━━━━━━━━━━━━━━━\u001b[0m\u001b[37m\u001b[0m \u001b[1m4s\u001b[0m 3ms/step - accuracy: 0.9981 - loss: 0.0057 - val_accuracy: 0.9699 - val_loss: 0.2190\n",
            "Epoch 42/100\n",
            "\u001b[1m1400/1400\u001b[0m \u001b[32m━━━━━━━━━━━━━━━━━━━━\u001b[0m\u001b[37m\u001b[0m \u001b[1m6s\u001b[0m 4ms/step - accuracy: 0.9962 - loss: 0.0115 - val_accuracy: 0.9716 - val_loss: 0.2079\n",
            "Epoch 43/100\n",
            "\u001b[1m1400/1400\u001b[0m \u001b[32m━━━━━━━━━━━━━━━━━━━━\u001b[0m\u001b[37m\u001b[0m \u001b[1m5s\u001b[0m 3ms/step - accuracy: 0.9979 - loss: 0.0056 - val_accuracy: 0.9712 - val_loss: 0.2191\n",
            "Epoch 44/100\n",
            "\u001b[1m1400/1400\u001b[0m \u001b[32m━━━━━━━━━━━━━━━━━━━━\u001b[0m\u001b[37m\u001b[0m \u001b[1m5s\u001b[0m 3ms/step - accuracy: 0.9980 - loss: 0.0055 - val_accuracy: 0.9723 - val_loss: 0.2111\n",
            "Epoch 45/100\n",
            "\u001b[1m1400/1400\u001b[0m \u001b[32m━━━━━━━━━━━━━━━━━━━━\u001b[0m\u001b[37m\u001b[0m \u001b[1m6s\u001b[0m 4ms/step - accuracy: 0.9989 - loss: 0.0039 - val_accuracy: 0.9709 - val_loss: 0.2291\n",
            "Epoch 46/100\n",
            "\u001b[1m1400/1400\u001b[0m \u001b[32m━━━━━━━━━━━━━━━━━━━━\u001b[0m\u001b[37m\u001b[0m \u001b[1m9s\u001b[0m 3ms/step - accuracy: 0.9978 - loss: 0.0070 - val_accuracy: 0.9692 - val_loss: 0.2298\n",
            "Epoch 47/100\n",
            "\u001b[1m1400/1400\u001b[0m \u001b[32m━━━━━━━━━━━━━━━━━━━━\u001b[0m\u001b[37m\u001b[0m \u001b[1m6s\u001b[0m 4ms/step - accuracy: 0.9977 - loss: 0.0066 - val_accuracy: 0.9711 - val_loss: 0.2294\n",
            "Epoch 48/100\n",
            "\u001b[1m1400/1400\u001b[0m \u001b[32m━━━━━━━━━━━━━━━━━━━━\u001b[0m\u001b[37m\u001b[0m \u001b[1m9s\u001b[0m 3ms/step - accuracy: 0.9987 - loss: 0.0044 - val_accuracy: 0.9715 - val_loss: 0.2191\n",
            "Epoch 49/100\n",
            "\u001b[1m1400/1400\u001b[0m \u001b[32m━━━━━━━━━━━━━━━━━━━━\u001b[0m\u001b[37m\u001b[0m \u001b[1m6s\u001b[0m 4ms/step - accuracy: 0.9972 - loss: 0.0083 - val_accuracy: 0.9707 - val_loss: 0.2338\n",
            "Epoch 50/100\n",
            "\u001b[1m1400/1400\u001b[0m \u001b[32m━━━━━━━━━━━━━━━━━━━━\u001b[0m\u001b[37m\u001b[0m \u001b[1m5s\u001b[0m 3ms/step - accuracy: 0.9971 - loss: 0.0092 - val_accuracy: 0.9724 - val_loss: 0.2192\n",
            "Epoch 51/100\n",
            "\u001b[1m1400/1400\u001b[0m \u001b[32m━━━━━━━━━━━━━━━━━━━━\u001b[0m\u001b[37m\u001b[0m \u001b[1m6s\u001b[0m 4ms/step - accuracy: 0.9989 - loss: 0.0041 - val_accuracy: 0.9737 - val_loss: 0.2098\n",
            "Epoch 52/100\n",
            "\u001b[1m1400/1400\u001b[0m \u001b[32m━━━━━━━━━━━━━━━━━━━━\u001b[0m\u001b[37m\u001b[0m \u001b[1m9s\u001b[0m 3ms/step - accuracy: 0.9987 - loss: 0.0046 - val_accuracy: 0.9720 - val_loss: 0.2303\n",
            "Epoch 53/100\n",
            "\u001b[1m1400/1400\u001b[0m \u001b[32m━━━━━━━━━━━━━━━━━━━━\u001b[0m\u001b[37m\u001b[0m \u001b[1m6s\u001b[0m 4ms/step - accuracy: 0.9986 - loss: 0.0048 - val_accuracy: 0.9693 - val_loss: 0.2454\n",
            "Epoch 54/100\n",
            "\u001b[1m1400/1400\u001b[0m \u001b[32m━━━━━━━━━━━━━━━━━━━━\u001b[0m\u001b[37m\u001b[0m \u001b[1m4s\u001b[0m 3ms/step - accuracy: 0.9979 - loss: 0.0062 - val_accuracy: 0.9709 - val_loss: 0.2401\n",
            "Epoch 55/100\n",
            "\u001b[1m1400/1400\u001b[0m \u001b[32m━━━━━━━━━━━━━━━━━━━━\u001b[0m\u001b[37m\u001b[0m \u001b[1m4s\u001b[0m 3ms/step - accuracy: 0.9979 - loss: 0.0072 - val_accuracy: 0.9736 - val_loss: 0.2305\n",
            "Epoch 56/100\n",
            "\u001b[1m1400/1400\u001b[0m \u001b[32m━━━━━━━━━━━━━━━━━━━━\u001b[0m\u001b[37m\u001b[0m \u001b[1m6s\u001b[0m 4ms/step - accuracy: 0.9990 - loss: 0.0032 - val_accuracy: 0.9706 - val_loss: 0.2643\n",
            "Epoch 57/100\n",
            "\u001b[1m1400/1400\u001b[0m \u001b[32m━━━━━━━━━━━━━━━━━━━━\u001b[0m\u001b[37m\u001b[0m \u001b[1m4s\u001b[0m 3ms/step - accuracy: 0.9989 - loss: 0.0043 - val_accuracy: 0.9712 - val_loss: 0.2627\n",
            "Epoch 58/100\n",
            "\u001b[1m1400/1400\u001b[0m \u001b[32m━━━━━━━━━━━━━━━━━━━━\u001b[0m\u001b[37m\u001b[0m \u001b[1m5s\u001b[0m 3ms/step - accuracy: 0.9985 - loss: 0.0053 - val_accuracy: 0.9731 - val_loss: 0.2443\n",
            "Epoch 59/100\n",
            "\u001b[1m1400/1400\u001b[0m \u001b[32m━━━━━━━━━━━━━━━━━━━━\u001b[0m\u001b[37m\u001b[0m \u001b[1m7s\u001b[0m 4ms/step - accuracy: 0.9983 - loss: 0.0071 - val_accuracy: 0.9737 - val_loss: 0.2518\n",
            "Epoch 60/100\n",
            "\u001b[1m1400/1400\u001b[0m \u001b[32m━━━━━━━━━━━━━━━━━━━━\u001b[0m\u001b[37m\u001b[0m \u001b[1m4s\u001b[0m 3ms/step - accuracy: 0.9979 - loss: 0.0072 - val_accuracy: 0.9731 - val_loss: 0.2235\n",
            "Epoch 61/100\n",
            "\u001b[1m1400/1400\u001b[0m \u001b[32m━━━━━━━━━━━━━━━━━━━━\u001b[0m\u001b[37m\u001b[0m \u001b[1m4s\u001b[0m 3ms/step - accuracy: 0.9993 - loss: 0.0029 - val_accuracy: 0.9695 - val_loss: 0.2628\n",
            "Epoch 62/100\n",
            "\u001b[1m1400/1400\u001b[0m \u001b[32m━━━━━━━━━━━━━━━━━━━━\u001b[0m\u001b[37m\u001b[0m \u001b[1m7s\u001b[0m 5ms/step - accuracy: 0.9974 - loss: 0.0073 - val_accuracy: 0.9732 - val_loss: 0.2373\n",
            "Epoch 63/100\n",
            "\u001b[1m1400/1400\u001b[0m \u001b[32m━━━━━━━━━━━━━━━━━━━━\u001b[0m\u001b[37m\u001b[0m \u001b[1m8s\u001b[0m 3ms/step - accuracy: 0.9987 - loss: 0.0041 - val_accuracy: 0.9712 - val_loss: 0.2760\n",
            "Epoch 64/100\n",
            "\u001b[1m1400/1400\u001b[0m \u001b[32m━━━━━━━━━━━━━━━━━━━━\u001b[0m\u001b[37m\u001b[0m \u001b[1m6s\u001b[0m 4ms/step - accuracy: 0.9986 - loss: 0.0043 - val_accuracy: 0.9726 - val_loss: 0.2588\n",
            "Epoch 65/100\n",
            "\u001b[1m1400/1400\u001b[0m \u001b[32m━━━━━━━━━━━━━━━━━━━━\u001b[0m\u001b[37m\u001b[0m \u001b[1m4s\u001b[0m 3ms/step - accuracy: 0.9986 - loss: 0.0045 - val_accuracy: 0.9723 - val_loss: 0.2635\n",
            "Epoch 66/100\n",
            "\u001b[1m1400/1400\u001b[0m \u001b[32m━━━━━━━━━━━━━━━━━━━━\u001b[0m\u001b[37m\u001b[0m \u001b[1m5s\u001b[0m 3ms/step - accuracy: 0.9985 - loss: 0.0048 - val_accuracy: 0.9716 - val_loss: 0.2626\n",
            "Epoch 67/100\n",
            "\u001b[1m1400/1400\u001b[0m \u001b[32m━━━━━━━━━━━━━━━━━━━━\u001b[0m\u001b[37m\u001b[0m \u001b[1m6s\u001b[0m 4ms/step - accuracy: 0.9990 - loss: 0.0029 - val_accuracy: 0.9696 - val_loss: 0.2848\n",
            "Epoch 68/100\n",
            "\u001b[1m1400/1400\u001b[0m \u001b[32m━━━━━━━━━━━━━━━━━━━━\u001b[0m\u001b[37m\u001b[0m \u001b[1m9s\u001b[0m 3ms/step - accuracy: 0.9975 - loss: 0.0086 - val_accuracy: 0.9718 - val_loss: 0.2525\n",
            "Epoch 69/100\n",
            "\u001b[1m1400/1400\u001b[0m \u001b[32m━━━━━━━━━━━━━━━━━━━━\u001b[0m\u001b[37m\u001b[0m \u001b[1m6s\u001b[0m 4ms/step - accuracy: 0.9995 - loss: 0.0019 - val_accuracy: 0.9687 - val_loss: 0.2877\n",
            "Epoch 70/100\n",
            "\u001b[1m1400/1400\u001b[0m \u001b[32m━━━━━━━━━━━━━━━━━━━━\u001b[0m\u001b[37m\u001b[0m \u001b[1m4s\u001b[0m 3ms/step - accuracy: 0.9982 - loss: 0.0065 - val_accuracy: 0.9705 - val_loss: 0.2838\n",
            "Epoch 71/100\n",
            "\u001b[1m1400/1400\u001b[0m \u001b[32m━━━━━━━━━━━━━━━━━━━━\u001b[0m\u001b[37m\u001b[0m \u001b[1m6s\u001b[0m 4ms/step - accuracy: 0.9986 - loss: 0.0038 - val_accuracy: 0.9696 - val_loss: 0.2848\n",
            "Epoch 72/100\n",
            "\u001b[1m1400/1400\u001b[0m \u001b[32m━━━━━━━━━━━━━━━━━━━━\u001b[0m\u001b[37m\u001b[0m \u001b[1m4s\u001b[0m 3ms/step - accuracy: 0.9995 - loss: 0.0016 - val_accuracy: 0.9730 - val_loss: 0.2556\n",
            "Epoch 73/100\n",
            "\u001b[1m1400/1400\u001b[0m \u001b[32m━━━━━━━━━━━━━━━━━━━━\u001b[0m\u001b[37m\u001b[0m \u001b[1m5s\u001b[0m 3ms/step - accuracy: 1.0000 - loss: 6.6098e-05 - val_accuracy: 0.9737 - val_loss: 0.2592\n",
            "Epoch 74/100\n",
            "\u001b[1m1400/1400\u001b[0m \u001b[32m━━━━━━━━━━━━━━━━━━━━\u001b[0m\u001b[37m\u001b[0m \u001b[1m7s\u001b[0m 4ms/step - accuracy: 1.0000 - loss: 2.3350e-05 - val_accuracy: 0.9739 - val_loss: 0.2545\n",
            "Epoch 75/100\n",
            "\u001b[1m1400/1400\u001b[0m \u001b[32m━━━━━━━━━━━━━━━━━━━━\u001b[0m\u001b[37m\u001b[0m \u001b[1m10s\u001b[0m 4ms/step - accuracy: 1.0000 - loss: 9.6659e-06 - val_accuracy: 0.9735 - val_loss: 0.2551\n",
            "Epoch 76/100\n",
            "\u001b[1m1400/1400\u001b[0m \u001b[32m━━━━━━━━━━━━━━━━━━━━\u001b[0m\u001b[37m\u001b[0m \u001b[1m9s\u001b[0m 3ms/step - accuracy: 1.0000 - loss: 6.7266e-06 - val_accuracy: 0.9742 - val_loss: 0.2545\n",
            "Epoch 77/100\n",
            "\u001b[1m1400/1400\u001b[0m \u001b[32m━━━━━━━━━━━━━━━━━━━━\u001b[0m\u001b[37m\u001b[0m \u001b[1m7s\u001b[0m 4ms/step - accuracy: 1.0000 - loss: 4.3034e-06 - val_accuracy: 0.9743 - val_loss: 0.2578\n",
            "Epoch 78/100\n",
            "\u001b[1m1400/1400\u001b[0m \u001b[32m━━━━━━━━━━━━━━━━━━━━\u001b[0m\u001b[37m\u001b[0m \u001b[1m9s\u001b[0m 3ms/step - accuracy: 1.0000 - loss: 3.0942e-06 - val_accuracy: 0.9746 - val_loss: 0.2602\n",
            "Epoch 79/100\n",
            "\u001b[1m1400/1400\u001b[0m \u001b[32m━━━━━━━━━━━━━━━━━━━━\u001b[0m\u001b[37m\u001b[0m \u001b[1m6s\u001b[0m 4ms/step - accuracy: 0.9961 - loss: 0.0191 - val_accuracy: 0.9722 - val_loss: 0.2776\n",
            "Epoch 80/100\n",
            "\u001b[1m1400/1400\u001b[0m \u001b[32m━━━━━━━━━━━━━━━━━━━━\u001b[0m\u001b[37m\u001b[0m \u001b[1m10s\u001b[0m 4ms/step - accuracy: 0.9992 - loss: 0.0018 - val_accuracy: 0.9688 - val_loss: 0.3183\n",
            "Epoch 81/100\n",
            "\u001b[1m1400/1400\u001b[0m \u001b[32m━━━━━━━━━━━━━━━━━━━━\u001b[0m\u001b[37m\u001b[0m \u001b[1m9s\u001b[0m 3ms/step - accuracy: 0.9986 - loss: 0.0050 - val_accuracy: 0.9698 - val_loss: 0.3090\n",
            "Epoch 82/100\n",
            "\u001b[1m1400/1400\u001b[0m \u001b[32m━━━━━━━━━━━━━━━━━━━━\u001b[0m\u001b[37m\u001b[0m \u001b[1m6s\u001b[0m 4ms/step - accuracy: 0.9987 - loss: 0.0040 - val_accuracy: 0.9719 - val_loss: 0.3018\n",
            "Epoch 83/100\n",
            "\u001b[1m1400/1400\u001b[0m \u001b[32m━━━━━━━━━━━━━━━━━━━━\u001b[0m\u001b[37m\u001b[0m \u001b[1m8s\u001b[0m 3ms/step - accuracy: 0.9991 - loss: 0.0036 - val_accuracy: 0.9707 - val_loss: 0.3138\n",
            "Epoch 84/100\n",
            "\u001b[1m1400/1400\u001b[0m \u001b[32m━━━━━━━━━━━━━━━━━━━━\u001b[0m\u001b[37m\u001b[0m \u001b[1m7s\u001b[0m 5ms/step - accuracy: 0.9980 - loss: 0.0058 - val_accuracy: 0.9709 - val_loss: 0.2852\n",
            "Epoch 85/100\n",
            "\u001b[1m1400/1400\u001b[0m \u001b[32m━━━━━━━━━━━━━━━━━━━━\u001b[0m\u001b[37m\u001b[0m \u001b[1m8s\u001b[0m 3ms/step - accuracy: 0.9984 - loss: 0.0049 - val_accuracy: 0.9723 - val_loss: 0.3019\n",
            "Epoch 86/100\n",
            "\u001b[1m1400/1400\u001b[0m \u001b[32m━━━━━━━━━━━━━━━━━━━━\u001b[0m\u001b[37m\u001b[0m \u001b[1m7s\u001b[0m 5ms/step - accuracy: 0.9988 - loss: 0.0041 - val_accuracy: 0.9723 - val_loss: 0.3039\n",
            "Epoch 87/100\n",
            "\u001b[1m1400/1400\u001b[0m \u001b[32m━━━━━━━━━━━━━━━━━━━━\u001b[0m\u001b[37m\u001b[0m \u001b[1m5s\u001b[0m 3ms/step - accuracy: 0.9987 - loss: 0.0063 - val_accuracy: 0.9696 - val_loss: 0.3237\n",
            "Epoch 88/100\n",
            "\u001b[1m1400/1400\u001b[0m \u001b[32m━━━━━━━━━━━━━━━━━━━━\u001b[0m\u001b[37m\u001b[0m \u001b[1m5s\u001b[0m 3ms/step - accuracy: 0.9987 - loss: 0.0036 - val_accuracy: 0.9725 - val_loss: 0.2890\n",
            "Epoch 89/100\n",
            "\u001b[1m1400/1400\u001b[0m \u001b[32m━━━━━━━━━━━━━━━━━━━━\u001b[0m\u001b[37m\u001b[0m \u001b[1m6s\u001b[0m 5ms/step - accuracy: 0.9986 - loss: 0.0047 - val_accuracy: 0.9728 - val_loss: 0.2989\n",
            "Epoch 90/100\n",
            "\u001b[1m1400/1400\u001b[0m \u001b[32m━━━━━━━━━━━━━━━━━━━━\u001b[0m\u001b[37m\u001b[0m \u001b[1m4s\u001b[0m 3ms/step - accuracy: 0.9991 - loss: 0.0033 - val_accuracy: 0.9679 - val_loss: 0.3292\n",
            "Epoch 91/100\n",
            "\u001b[1m1400/1400\u001b[0m \u001b[32m━━━━━━━━━━━━━━━━━━━━\u001b[0m\u001b[37m\u001b[0m \u001b[1m7s\u001b[0m 4ms/step - accuracy: 0.9986 - loss: 0.0045 - val_accuracy: 0.9700 - val_loss: 0.3308\n",
            "Epoch 92/100\n",
            "\u001b[1m1400/1400\u001b[0m \u001b[32m━━━━━━━━━━━━━━━━━━━━\u001b[0m\u001b[37m\u001b[0m \u001b[1m9s\u001b[0m 4ms/step - accuracy: 0.9980 - loss: 0.0075 - val_accuracy: 0.9714 - val_loss: 0.3122\n",
            "Epoch 93/100\n",
            "\u001b[1m1400/1400\u001b[0m \u001b[32m━━━━━━━━━━━━━━━━━━━━\u001b[0m\u001b[37m\u001b[0m \u001b[1m6s\u001b[0m 4ms/step - accuracy: 0.9988 - loss: 0.0043 - val_accuracy: 0.9713 - val_loss: 0.3230\n",
            "Epoch 94/100\n",
            "\u001b[1m1400/1400\u001b[0m \u001b[32m━━━━━━━━━━━━━━━━━━━━\u001b[0m\u001b[37m\u001b[0m \u001b[1m4s\u001b[0m 3ms/step - accuracy: 0.9988 - loss: 0.0035 - val_accuracy: 0.9725 - val_loss: 0.3056\n",
            "Epoch 95/100\n",
            "\u001b[1m1400/1400\u001b[0m \u001b[32m━━━━━━━━━━━━━━━━━━━━\u001b[0m\u001b[37m\u001b[0m \u001b[1m6s\u001b[0m 4ms/step - accuracy: 0.9982 - loss: 0.0065 - val_accuracy: 0.9733 - val_loss: 0.2771\n",
            "Epoch 96/100\n",
            "\u001b[1m1400/1400\u001b[0m \u001b[32m━━━━━━━━━━━━━━━━━━━━\u001b[0m\u001b[37m\u001b[0m \u001b[1m5s\u001b[0m 4ms/step - accuracy: 0.9990 - loss: 0.0038 - val_accuracy: 0.9719 - val_loss: 0.3323\n",
            "Epoch 97/100\n",
            "\u001b[1m1400/1400\u001b[0m \u001b[32m━━━━━━━━━━━━━━━━━━━━\u001b[0m\u001b[37m\u001b[0m \u001b[1m4s\u001b[0m 3ms/step - accuracy: 0.9990 - loss: 0.0033 - val_accuracy: 0.9718 - val_loss: 0.3069\n",
            "Epoch 98/100\n",
            "\u001b[1m1400/1400\u001b[0m \u001b[32m━━━━━━━━━━━━━━━━━━━━\u001b[0m\u001b[37m\u001b[0m \u001b[1m7s\u001b[0m 4ms/step - accuracy: 0.9991 - loss: 0.0033 - val_accuracy: 0.9659 - val_loss: 0.3620\n",
            "Epoch 99/100\n",
            "\u001b[1m1400/1400\u001b[0m \u001b[32m━━━━━━━━━━━━━━━━━━━━\u001b[0m\u001b[37m\u001b[0m \u001b[1m5s\u001b[0m 3ms/step - accuracy: 0.9982 - loss: 0.0075 - val_accuracy: 0.9719 - val_loss: 0.3079\n",
            "Epoch 100/100\n",
            "\u001b[1m1400/1400\u001b[0m \u001b[32m━━━━━━━━━━━━━━━━━━━━\u001b[0m\u001b[37m\u001b[0m \u001b[1m4s\u001b[0m 3ms/step - accuracy: 0.9993 - loss: 0.0029 - val_accuracy: 0.9710 - val_loss: 0.3343\n"
          ]
        },
        {
          "output_type": "execute_result",
          "data": {
            "text/plain": [
              "<keras.src.callbacks.history.History at 0x799fc9002a40>"
            ]
          },
          "metadata": {},
          "execution_count": 112
        }
      ]
    },
    {
      "cell_type": "code",
      "source": [
        "# Convertir las etiquetas de one-hot a clases para el conjunto de prueba\n",
        "y_test_clas = np.argmax(y_test_one_hot, axis=1)\n",
        "\n",
        "# Obtener predicciones del modelo para el conjunto de prueba\n",
        "y_pred_probs = model.predict(X_test)\n",
        "y_pred_clas = np.argmax(y_pred_probs, axis=1)\n",
        "\n",
        "# Calcular la precisión en el conjunto de prueba\n",
        "accuracy = np.sum(y_pred_clas == y_test_clas) / len(y_test_clas)\n",
        "print(f\"Precisión en el conjunto de prueba: {accuracy}\")"
      ],
      "metadata": {
        "colab": {
          "base_uri": "https://localhost:8080/"
        },
        "id": "NatEDRrGJLJR",
        "outputId": "29596610-7207-4371-915d-f8fc0b320947"
      },
      "id": "NatEDRrGJLJR",
      "execution_count": null,
      "outputs": [
        {
          "output_type": "stream",
          "name": "stdout",
          "text": [
            "\u001b[1m438/438\u001b[0m \u001b[32m━━━━━━━━━━━━━━━━━━━━\u001b[0m\u001b[37m\u001b[0m \u001b[1m3s\u001b[0m 6ms/step\n",
            "Precisión en el conjunto de prueba: 0.9691428571428572\n"
          ]
        }
      ]
    },
    {
      "cell_type": "markdown",
      "source": [
        "#Implementación de CNN"
      ],
      "metadata": {
        "id": "G--qSPjVK5Yo"
      },
      "id": "G--qSPjVK5Yo"
    },
    {
      "cell_type": "code",
      "source": [
        "X_train_redimensionado= np.array([resize(img, (64, 64)) for img in X_train])\n",
        "X_train_redimensionado = X_train_redimensionado.reshape(X_train_redimensionado.shape[0], 64, 64, 1)"
      ],
      "metadata": {
        "id": "1AkkfnyNNc7H"
      },
      "id": "1AkkfnyNNc7H",
      "execution_count": null,
      "outputs": []
    },
    {
      "cell_type": "code",
      "source": [
        "# Normalizar los valores de los píxeles a [0, 1]\n",
        "X_train_redimensionado = X_train_redimensionado / 255.0\n",
        "\n",
        "# Convertir las etiquetas a one-hot encoding usando LabelBinarizer\n",
        "lb = LabelBinarizer()\n",
        "y_train_one_hot = lb.fit_transform(y_train)  # Ajustar y transformar etiquetas de entrenamiento\n"
      ],
      "metadata": {
        "id": "MNZmeI2FN37A"
      },
      "id": "MNZmeI2FN37A",
      "execution_count": null,
      "outputs": []
    },
    {
      "cell_type": "code",
      "source": [
        "\n",
        "cnn = tf.keras.models.Sequential()\n",
        "\n",
        "# Primera capa convolucional con 64 filtros, tamaño de kernel 3x3, función de activación ReLU\n",
        "cnn.add(tf.keras.layers.Conv2D(filters=64, kernel_size=3, activation='relu', input_shape=(64, 64, 1)))\n",
        "cnn.add(tf.keras.layers.MaxPool2D(pool_size=2, strides=2))\n",
        "\n",
        "# Segunda capa convolucional con 34 filtros, tamaño de kernel 3x3, función de activación ReLU\n",
        "cnn.add(tf.keras.layers.Conv2D(filters=32, kernel_size=3, activation='relu'))\n",
        "cnn.add(tf.keras.layers.MaxPool2D(pool_size=2, strides=2))\n",
        "\n",
        "# Aplanar la salida de las capas convolucionales para pasar a las capas densas\n",
        "cnn.add(tf.keras.layers.Flatten())\n",
        "# Capa densa con 128 unidades y función de activación ReLU\n",
        "cnn.add(tf.keras.layers.Dense(units=128, activation='relu'))\n",
        "# Capa de salida con 10 unidades (una por cada clase)\n",
        "cnn.add(tf.keras.layers.Dense(units=10, activation='softmax'))"
      ],
      "metadata": {
        "colab": {
          "base_uri": "https://localhost:8080/"
        },
        "id": "OQCuVF6uOPLO",
        "outputId": "24043f9b-2100-46bf-9d34-473afa1b23e0"
      },
      "id": "OQCuVF6uOPLO",
      "execution_count": null,
      "outputs": [
        {
          "output_type": "stream",
          "name": "stderr",
          "text": [
            "/usr/local/lib/python3.10/dist-packages/keras/src/layers/convolutional/base_conv.py:107: UserWarning: Do not pass an `input_shape`/`input_dim` argument to a layer. When using Sequential models, prefer using an `Input(shape)` object as the first layer in the model instead.\n",
            "  super().__init__(activity_regularizer=activity_regularizer, **kwargs)\n"
          ]
        }
      ]
    },
    {
      "cell_type": "code",
      "source": [
        "cnn.compile(optimizer='adam', loss='categorical_crossentropy', metrics=['accuracy'])"
      ],
      "metadata": {
        "id": "aAH6eVosO49n"
      },
      "id": "aAH6eVosO49n",
      "execution_count": null,
      "outputs": []
    },
    {
      "cell_type": "code",
      "source": [
        "# Entrenar el modelo con los datos de entrenamiento\n",
        "history = cnn.fit(X_train_redimensionado, y_train_one_hot, epochs=20, batch_size=32, validation_split=0.2)\n"
      ],
      "metadata": {
        "colab": {
          "base_uri": "https://localhost:8080/"
        },
        "id": "alvvMOiDPBUW",
        "outputId": "f486db80-9c5b-41b4-b322-6b4182a3eec0"
      },
      "id": "alvvMOiDPBUW",
      "execution_count": null,
      "outputs": [
        {
          "output_type": "stream",
          "name": "stdout",
          "text": [
            "Epoch 1/20\n",
            "\u001b[1m1400/1400\u001b[0m \u001b[32m━━━━━━━━━━━━━━━━━━━━\u001b[0m\u001b[37m\u001b[0m \u001b[1m356s\u001b[0m 254ms/step - accuracy: 0.1118 - loss: 2.3016 - val_accuracy: 0.1155 - val_loss: 2.3011\n",
            "Epoch 2/20\n",
            "\u001b[1m1400/1400\u001b[0m \u001b[32m━━━━━━━━━━━━━━━━━━━━\u001b[0m\u001b[37m\u001b[0m \u001b[1m349s\u001b[0m 249ms/step - accuracy: 0.1099 - loss: 2.3013 - val_accuracy: 0.1155 - val_loss: 2.3012\n",
            "Epoch 3/20\n",
            "\u001b[1m1400/1400\u001b[0m \u001b[32m━━━━━━━━━━━━━━━━━━━━\u001b[0m\u001b[37m\u001b[0m \u001b[1m346s\u001b[0m 247ms/step - accuracy: 0.1095 - loss: 2.3015 - val_accuracy: 0.1155 - val_loss: 2.3012\n",
            "Epoch 4/20\n",
            "\u001b[1m1400/1400\u001b[0m \u001b[32m━━━━━━━━━━━━━━━━━━━━\u001b[0m\u001b[37m\u001b[0m \u001b[1m385s\u001b[0m 249ms/step - accuracy: 0.1118 - loss: 2.3016 - val_accuracy: 0.1155 - val_loss: 2.3012\n",
            "Epoch 5/20\n",
            "\u001b[1m1400/1400\u001b[0m \u001b[32m━━━━━━━━━━━━━━━━━━━━\u001b[0m\u001b[37m\u001b[0m \u001b[1m380s\u001b[0m 248ms/step - accuracy: 0.1127 - loss: 2.3008 - val_accuracy: 0.1155 - val_loss: 2.3012\n",
            "Epoch 6/20\n",
            "\u001b[1m1400/1400\u001b[0m \u001b[32m━━━━━━━━━━━━━━━━━━━━\u001b[0m\u001b[37m\u001b[0m \u001b[1m346s\u001b[0m 247ms/step - accuracy: 0.1096 - loss: 2.3017 - val_accuracy: 0.1155 - val_loss: 2.3011\n",
            "Epoch 7/20\n",
            "\u001b[1m1400/1400\u001b[0m \u001b[32m━━━━━━━━━━━━━━━━━━━━\u001b[0m\u001b[37m\u001b[0m \u001b[1m348s\u001b[0m 248ms/step - accuracy: 0.1065 - loss: 2.3020 - val_accuracy: 0.1155 - val_loss: 2.3011\n",
            "Epoch 8/20\n",
            "\u001b[1m1400/1400\u001b[0m \u001b[32m━━━━━━━━━━━━━━━━━━━━\u001b[0m\u001b[37m\u001b[0m \u001b[1m380s\u001b[0m 247ms/step - accuracy: 0.1121 - loss: 2.3010 - val_accuracy: 0.1155 - val_loss: 2.3012\n",
            "Epoch 9/20\n",
            "\u001b[1m1400/1400\u001b[0m \u001b[32m━━━━━━━━━━━━━━━━━━━━\u001b[0m\u001b[37m\u001b[0m \u001b[1m383s\u001b[0m 248ms/step - accuracy: 0.1126 - loss: 2.3014 - val_accuracy: 0.1155 - val_loss: 2.3013\n",
            "Epoch 10/20\n",
            "\u001b[1m1400/1400\u001b[0m \u001b[32m━━━━━━━━━━━━━━━━━━━━\u001b[0m\u001b[37m\u001b[0m \u001b[1m385s\u001b[0m 250ms/step - accuracy: 0.1108 - loss: 2.3018 - val_accuracy: 0.1155 - val_loss: 2.3014\n",
            "Epoch 11/20\n",
            "\u001b[1m1400/1400\u001b[0m \u001b[32m━━━━━━━━━━━━━━━━━━━━\u001b[0m\u001b[37m\u001b[0m \u001b[1m354s\u001b[0m 253ms/step - accuracy: 0.1106 - loss: 2.3014 - val_accuracy: 0.1155 - val_loss: 2.3014\n",
            "Epoch 12/20\n",
            "\u001b[1m1400/1400\u001b[0m \u001b[32m━━━━━━━━━━━━━━━━━━━━\u001b[0m\u001b[37m\u001b[0m \u001b[1m386s\u001b[0m 256ms/step - accuracy: 0.1109 - loss: 2.3013 - val_accuracy: 0.1155 - val_loss: 2.3011\n",
            "Epoch 13/20\n",
            "\u001b[1m1400/1400\u001b[0m \u001b[32m━━━━━━━━━━━━━━━━━━━━\u001b[0m\u001b[37m\u001b[0m \u001b[1m377s\u001b[0m 252ms/step - accuracy: 0.1096 - loss: 2.3019 - val_accuracy: 0.1155 - val_loss: 2.3013\n",
            "Epoch 14/20\n",
            "\u001b[1m1400/1400\u001b[0m \u001b[32m━━━━━━━━━━━━━━━━━━━━\u001b[0m\u001b[37m\u001b[0m \u001b[1m383s\u001b[0m 253ms/step - accuracy: 0.1153 - loss: 2.3009 - val_accuracy: 0.1155 - val_loss: 2.3014\n",
            "Epoch 15/20\n",
            "\u001b[1m1400/1400\u001b[0m \u001b[32m━━━━━━━━━━━━━━━━━━━━\u001b[0m\u001b[37m\u001b[0m \u001b[1m377s\u001b[0m 249ms/step - accuracy: 0.1113 - loss: 2.3017 - val_accuracy: 0.1155 - val_loss: 2.3014\n",
            "Epoch 16/20\n",
            "\u001b[1m1400/1400\u001b[0m \u001b[32m━━━━━━━━━━━━━━━━━━━━\u001b[0m\u001b[37m\u001b[0m \u001b[1m376s\u001b[0m 245ms/step - accuracy: 0.1114 - loss: 2.3017 - val_accuracy: 0.1155 - val_loss: 2.3013\n",
            "Epoch 17/20\n",
            "\u001b[1m1400/1400\u001b[0m \u001b[32m━━━━━━━━━━━━━━━━━━━━\u001b[0m\u001b[37m\u001b[0m \u001b[1m381s\u001b[0m 244ms/step - accuracy: 0.1105 - loss: 2.3017 - val_accuracy: 0.1155 - val_loss: 2.3012\n",
            "Epoch 18/20\n",
            "\u001b[1m1400/1400\u001b[0m \u001b[32m━━━━━━━━━━━━━━━━━━━━\u001b[0m\u001b[37m\u001b[0m \u001b[1m381s\u001b[0m 244ms/step - accuracy: 0.1115 - loss: 2.3011 - val_accuracy: 0.1155 - val_loss: 2.3012\n",
            "Epoch 19/20\n",
            "\u001b[1m1400/1400\u001b[0m \u001b[32m━━━━━━━━━━━━━━━━━━━━\u001b[0m\u001b[37m\u001b[0m \u001b[1m378s\u001b[0m 242ms/step - accuracy: 0.1116 - loss: 2.3017 - val_accuracy: 0.1155 - val_loss: 2.3014\n",
            "Epoch 20/20\n",
            "\u001b[1m1400/1400\u001b[0m \u001b[32m━━━━━━━━━━━━━━━━━━━━\u001b[0m\u001b[37m\u001b[0m \u001b[1m386s\u001b[0m 244ms/step - accuracy: 0.1150 - loss: 2.3009 - val_accuracy: 0.1155 - val_loss: 2.3013\n"
          ]
        }
      ]
    },
    {
      "cell_type": "code",
      "source": [
        "# Redimensionar y normalizar las imágenes en el conjunto de prueba\n",
        "X_test_resized = np.array([resize(img, (64, 64)) for img in X_test])\n",
        "X_test_resized = X_test_resized.reshape(X_test_resized.shape[0], 64, 64, 1)\n",
        "X_test_resized = X_test_resized / 255.0\n",
        "y_test_one_hot = lb.transform(y_test)"
      ],
      "metadata": {
        "id": "7TW_zS8rPeVE"
      },
      "id": "7TW_zS8rPeVE",
      "execution_count": null,
      "outputs": []
    },
    {
      "cell_type": "code",
      "source": [
        "# Evaluar el modelo en el conjunto de prueba\n",
        "test_loss, test_acc = cnn.evaluate(X_test_resized, y_test_one_hot)\n",
        "print(f\"Precisión en el conjunto de prueba: {test_acc}\")"
      ],
      "metadata": {
        "colab": {
          "base_uri": "https://localhost:8080/"
        },
        "id": "qxXSwlFIQcxM",
        "outputId": "0f4f3056-c517-44e0-f23b-61e68ead0681"
      },
      "id": "qxXSwlFIQcxM",
      "execution_count": null,
      "outputs": [
        {
          "output_type": "stream",
          "name": "stdout",
          "text": [
            "\u001b[1m438/438\u001b[0m \u001b[32m━━━━━━━━━━━━━━━━━━━━\u001b[0m\u001b[37m\u001b[0m \u001b[1m27s\u001b[0m 61ms/step - accuracy: 0.1115 - loss: 2.3016\n",
            "Precisión en el conjunto de prueba: 0.11428571492433548\n"
          ]
        }
      ]
    },
    {
      "cell_type": "code",
      "source": [
        "# Realizar predicciones en el conjunto de prueba\n",
        "y_pred_proba = cnn.predict(X_test_resized)\n",
        "# Convertir las probabilidades predichas a etiquetas de clase\n",
        "y_pred_classes = np.argmax(y_pred_proba, axis=1)\n",
        "\n",
        "# Convertir las etiquetas de prueba de one-hot encoding a clases\n",
        "y_test_classes = np.argmax(y_test_one_hot, axis=1)\n",
        "\n",
        "# Calcular precisión usando sklearn\n",
        "accuracy = accuracy_score(y_test_classes, y_pred_classes)\n",
        "print(f\"Precisión del modelo: {accuracy}\")"
      ],
      "metadata": {
        "colab": {
          "base_uri": "https://localhost:8080/"
        },
        "id": "Nx7mEvZTQm6m",
        "outputId": "b4d0b9a2-b482-40b4-f79f-7453127c2e96"
      },
      "id": "Nx7mEvZTQm6m",
      "execution_count": null,
      "outputs": [
        {
          "output_type": "stream",
          "name": "stdout",
          "text": [
            "\u001b[1m438/438\u001b[0m \u001b[32m━━━━━━━━━━━━━━━━━━━━\u001b[0m\u001b[37m\u001b[0m \u001b[1m59s\u001b[0m 135ms/step\n",
            "Precisión del modelo: 0.11428571428571428\n"
          ]
        }
      ]
    }
  ],
  "metadata": {
    "colab": {
      "provenance": [],
      "include_colab_link": true
    },
    "kernelspec": {
      "display_name": "Python 3 (ipykernel)",
      "language": "python",
      "name": "python3"
    },
    "language_info": {
      "codemirror_mode": {
        "name": "ipython",
        "version": 3
      },
      "file_extension": ".py",
      "mimetype": "text/x-python",
      "name": "python",
      "nbconvert_exporter": "python",
      "pygments_lexer": "ipython3",
      "version": "3.10.12"
    }
  },
  "nbformat": 4,
  "nbformat_minor": 5
}