{
  "cells": [
    {
      "cell_type": "markdown",
      "metadata": {
        "id": "view-in-github",
        "colab_type": "text"
      },
      "source": [
        "<a href=\"https://colab.research.google.com/github/ChrisMath26/Bases_ML/blob/main/Red%20neuronal/Christian_Trilleras_NeuralNet_con_Numpy.ipynb\" target=\"_parent\"><img src=\"https://colab.research.google.com/assets/colab-badge.svg\" alt=\"Open In Colab\"/></a>"
      ]
    },
    {
      "cell_type": "markdown",
      "source": [
        "#Evolución de la función de perdida en función de las epocas"
      ],
      "metadata": {
        "id": "xjpWEIQk6Zj_"
      },
      "id": "xjpWEIQk6Zj_"
    },
    {
      "cell_type": "code",
      "execution_count": null,
      "id": "c90bbc5b",
      "metadata": {
        "colab": {
          "base_uri": "https://localhost:8080/",
          "height": 474
        },
        "id": "c90bbc5b",
        "outputId": "6b3ed640-6762-4905-d2de-a5f942d8eae2"
      },
      "outputs": [
        {
          "output_type": "display_data",
          "data": {
            "text/plain": [
              "<Figure size 640x480 with 1 Axes>"
            ],
            "image/png": "[encoded data removed]"
          },
          "metadata": {}
        }
      ],
      "source": [
        "import numpy as np\n",
        "from matplotlib import pyplot as plt\n",
        "\n",
        "# Definimos la función de activación ReLU\n",
        "def relu(x):\n",
        "  return np.maximum(0,x)\n",
        "  raise Exception(\"Debe Implementar la funcion de activación ReLu\")\n",
        "\n",
        "# Definimos la función de activación softmax\n",
        "def softmax(x):\n",
        "    exp_x = np.exp(x)\n",
        "    sumatoria = np.sum(exp_x, axis =1, keepdims= True)\n",
        "    return exp_x / sumatoria\n",
        "    raise Exception(\"Debe Implementar la funcion de activación Softmax\")\n",
        "\n",
        "# Definimos los datos de entrada y salida para la red\n",
        "X = np.array([[0,0],[0,1],[1,0],[1,1]])\n",
        "y = np.array([[1,0,0],[0,1,0],[0,0,1],[1,0,0]])\n",
        "\n",
        "# Definimos los hiperparámetros para la red\n",
        "epochs = 2000 # Número de iteraciones de entrenamiento\n",
        "eta= 0.1 #Tasa de aprendizaje para la actualización de pesos.\n",
        "\n",
        "#Tamaños de las diferentes capas de la red\n",
        "capa_de_entrada = 2\n",
        "capa_oculta = 4\n",
        "capa_salida = 3\n",
        "\n",
        "#Pesos y Bias\n",
        "W_1 = np.random.uniform(size=(capa_de_entrada, capa_oculta ))\n",
        "W_2 = np.random.uniform(size=(capa_oculta, capa_salida))\n",
        "b_1 = np.random.uniform(size=(1, capa_oculta))\n",
        "b_2 = np.random.uniform(size=(1, capa_salida))\n",
        "\n",
        "# Entrenamos la red neuronal\n",
        "error=np.zeros(epochs)\n",
        "for i in range(epochs):\n",
        "\n",
        "\n",
        "    # Forward pass\n",
        "    A_1=X\n",
        "    Z_2=A_1@W_1+b_1\n",
        "    A_2=relu(Z_2)\n",
        "    Z_3=A_2@W_2+b_2\n",
        "    y_hat=softmax(Z_3)\n",
        "\n",
        "    # Calculo del error\n",
        "    error[i]=-np.sum(y*np.log(y_hat))\n",
        "\n",
        "    # Backpropagation\n",
        "    delta=y_hat-y   #df/dz\n",
        "    d_w2=A_2.T@delta\n",
        "    d_b2=np.sum(delta,axis=0)\n",
        "\n",
        "    delta2=delta@W_2.T*(Z_2>0) # (z2 > 0) aplica la derivada de la función ReLU (1 si z2 es mayor que 0, de lo contrario 0).\n",
        "    d_w1=A_1.T@delta2\n",
        "    d_b1=np.sum(delta2,axis=0)\n",
        "\n",
        "    # Actualizamos los pesos con la dirección del gradiente descendiente\n",
        "    W_2-=eta*d_w2\n",
        "    b_2-=eta*d_b2\n",
        "    W_1-=eta*d_w1\n",
        "    b_1-=eta*d_b1\n",
        "# Graficamos la evolución de la función de pérdida\n",
        "plt.plot(np.arange(epochs), error, color = 'red')\n",
        "plt.title(\"Evolución de la Función de Pérdida\")\n",
        "plt.xlabel(\"Épocas\")\n",
        "plt.ylabel(\"Pérdida\")\n",
        "plt.grid(True)\n",
        "plt.show()"
      ]
    },
    {
      "cell_type": "code",
      "execution_count": null,
      "id": "f1a70ade",
      "metadata": {
        "id": "f1a70ade",
        "colab": {
          "base_uri": "https://localhost:8080/"
        },
        "outputId": "92e93201-c2f4-4e19-f591-12c3f40acf2a"
      },
      "outputs": [
        {
          "output_type": "stream",
          "name": "stdout",
          "text": [
            "[[4.06891598e-04 9.99593108e-01 4.55229041e-15]]\n"
          ]
        }
      ],
      "source": [
        "nueva_entrada = np.array([[0,1]])\n",
        "Z_2 = nueva_entrada@W_1 + b_1\n",
        "A_2 = relu(Z_2)\n",
        "Z_3 = A_2@W_2 + b_2\n",
        "salida = softmax(Z_3)\n",
        "print(salida)"
      ]
    }
  ],
  "metadata": {
    "kernelspec": {
      "display_name": "Python 3 (ipykernel)",
      "language": "python",
      "name": "python3"
    },
    "language_info": {
      "codemirror_mode": {
        "name": "ipython",
        "version": 3
      },
      "file_extension": ".py",
      "mimetype": "text/x-python",
      "name": "python",
      "nbconvert_exporter": "python",
      "pygments_lexer": "ipython3",
      "version": "3.10.12"
    },
    "colab": {
      "provenance": [],
      "include_colab_link": true
    }
  },
  "nbformat": 4,
  "nbformat_minor": 5
}