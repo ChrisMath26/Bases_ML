{
  "cells": [
    {
      "cell_type": "markdown",
      "metadata": {
        "id": "view-in-github",
        "colab_type": "text"
      },
      "source": [
        "<a href=\"https://colab.research.google.com/github/ChrisMath26/Bases_ML/blob/main/Gradiente_descendente/Christian_Trilleras_LogisticRegression_GradientDescent.ipynb\" target=\"_parent\"><img src=\"https://colab.research.google.com/assets/colab-badge.svg\" alt=\"Open In Colab\"/></a>"
      ]
    },
    {
      "cell_type": "markdown",
      "id": "6e054893",
      "metadata": {
        "id": "6e054893"
      },
      "source": [
        "# Optimización de la regresión logística usando descenso del gradiente\n",
        "\n",
        "El objetivo en una regresión logística es maximizar la función log likelihood dada por\n",
        "\n",
        "\\begin{equation}\n",
        "l(\\mathbf{w}) = \\sum_i (1-y_i)(-\\mathbf{x}^T_i \\mathbf{w}) - ln(1+exp(-\\mathbf{x}^T_i \\mathbf{w}))\n",
        "\\end{equation}\n",
        "\n",
        "Para poder usar el descenso del gradiente debemos transformar la función objetivo en una función de costo, esto se consigue añadiendo un signo negativo .\n",
        "\n",
        "En este ejercicio vamos a implementar un algoritmo de descenso del gradiente para optimizar los parámetros $\\mathbf{w}$ en el siguiente problema:\n",
        "\n",
        "Una compañía de automóviles le presenta un conjunto de datos con 3 columnas: La edad de un potencial cliente, el salario estimado y la información sobre si compró o no un carro.\n",
        "\n",
        "Dados la edad y salario de un nuevo cliente ajuste una regresión logística para saber si un nuevo cliente comprará o no el nuevo carro.\n",
        "\n",
        "Para ello se le pide lo siguiente\n",
        "\n",
        "1. Calcule el gradiente de la función $-l(\\mathbf{w})$\n",
        "2. Separe el conjunto de datos en entrenamiento y prueba en una proporción 80/20. Implemente un método de descenso del gradiente utilizando solo el conjunto de prueba, realice implementaciones de Batch Gradiente Descent, Mini Batch Gradient Descent y Stochastic Gradient Descent. Para cada implementación haga una gráfica que  muestre cómo varía la función de costo $-l(\\mathbf{w})$ a medida que se hacen iteraciones (épocas) del algoritmo\n",
        "3. Al finzalizar el algoritmo evalúe la predicción sobre el conjunto de prueba considerando que si la probabilidad es $>0.5$ corresponde a la categoría 1 y si la probabilidad es $\\leq 0.5$ es de categoría 0.\n",
        "4. Realice la matriz de confusión que muestre el desempeño de su modelo"
      ]
    },
    {
      "cell_type": "markdown",
      "source": [
        "1. Calcule el gradiente de la función $-l(\\mathbf{w})$"
      ],
      "metadata": {
        "id": "KRdJ7TZ5cb5G"
      },
      "id": "KRdJ7TZ5cb5G"
    },
    {
      "cell_type": "markdown",
      "source": [
        "En efecto, sea\n",
        "\\begin{equation}\n",
        "l(\\mathbf{w}) = \\sum_i (1-y_i)(-\\mathbf{x}^T_i \\mathbf{w}) - \\ln(1 + \\exp(-\\mathbf{x}^T_i \\mathbf{w}))\n",
        "\\end{equation}\n",
        "de donde,\n",
        "\\begin{equation}\n",
        "-l(\\mathbf{w}) = \\sum_i (1-y_i)(\\mathbf{x}^T_i \\mathbf{w}) + \\ln(1 + \\exp(-\\mathbf{x}^T_i \\mathbf{w}))\n",
        "\\end{equation}\n",
        "Ahora, vamos a calcular el gradiente, denotado por $\\nabla(-l(\\mathbf{w}))$:\n",
        "\n",
        "\\begin{equation}\n",
        "\\nabla(-l(\\mathbf{w})) = \\sum_i \\left[ (1 - y_i) \\mathbf{x}^T_i - \\frac{\\exp(-\\mathbf{x}^T_i \\mathbf{w})}{1 + \\exp(-\\mathbf{x}^T_i \\mathbf{w})} \\mathbf{x}^T_i \\right]\n",
        "\\end{equation}\n",
        "\n",
        "Este es el gradiente de la función $-l(\\mathbf{w})$ con respecto a los parámetros $\\mathbf{w}$. Este gradiente es utilizado en el descenso del gradiente para encontrar los valores óptimos de $\\mathbf{w}$ que maximizan la función log-likelihood."
      ],
      "metadata": {
        "id": "uxxaShZSeMRl"
      },
      "id": "uxxaShZSeMRl"
    },
    {
      "cell_type": "markdown",
      "source": [
        "2. Separe el conjunto de datos en entrenamiento y prueba en una proporción 80/20. Implemente un método de descenso del gradiente utilizando solo el conjunto de prueba, realice implementaciones de Batch Gradiente Descent, Mini Batch Gradient Descent y Stochastic Gradient Descent. Para cada implementación haga una gráfica que  muestre cómo varía la función de costo $-l(\\mathbf{w})$ a medida que se hacen iteraciones (épocas) del algoritmo"
      ],
      "metadata": {
        "id": "2JfvZZ1fioeD"
      },
      "id": "2JfvZZ1fioeD"
    },
    {
      "cell_type": "code",
      "source": [
        "#librerías inicialmente necesarias\n",
        "import pandas as pd\n",
        "import numpy as np\n",
        "from matplotlib import pyplot as plt"
      ],
      "metadata": {
        "id": "i2f5PFnSizkz"
      },
      "id": "i2f5PFnSizkz",
      "execution_count": null,
      "outputs": []
    },
    {
      "cell_type": "code",
      "source": [
        "#importar el conjunto de datos\n",
        "datos=pd.read_csv('Social_Network_Ads.csv')\n",
        "datos"
      ],
      "metadata": {
        "colab": {
          "base_uri": "https://localhost:8080/",
          "height": 423
        },
        "id": "Z3bRDEwVeMv3",
        "outputId": "348d50b0-8f82-4552-d495-e655dd3e323b"
      },
      "id": "Z3bRDEwVeMv3",
      "execution_count": null,
      "outputs": [
        {
          "output_type": "execute_result",
          "data": {
            "text/plain": [
              "     Age  EstimatedSalary  Purchased\n",
              "0     19            19000          0\n",
              "1     35            20000          0\n",
              "2     26            43000          0\n",
              "3     27            57000          0\n",
              "4     19            76000          0\n",
              "..   ...              ...        ...\n",
              "395   46            41000          1\n",
              "396   51            23000          1\n",
              "397   50            20000          1\n",
              "398   36            33000          0\n",
              "399   49            36000          1\n",
              "\n",
              "[400 rows x 3 columns]"
            ],
            "text/html": [
              "\n",
              "  <div id=\"df-1c13dfcd-b1b2-4cd9-aefc-01e9a9c064a0\" class=\"colab-df-container\">\n",
              "    <div>\n",
              "<style scoped>\n",
              "    .dataframe tbody tr th:only-of-type {\n",
              "        vertical-align: middle;\n",
              "    }\n",
              "\n",
              "    .dataframe tbody tr th {\n",
              "        vertical-align: top;\n",
              "    }\n",
              "\n",
              "    .dataframe thead th {\n",
              "        text-align: right;\n",
              "    }\n",
              "</style>\n",
              "<table border=\"1\" class=\"dataframe\">\n",
              "  <thead>\n",
              "    <tr style=\"text-align: right;\">\n",
              "      <th></th>\n",
              "      <th>Age</th>\n",
              "      <th>EstimatedSalary</th>\n",
              "      <th>Purchased</th>\n",
              "    </tr>\n",
              "  </thead>\n",
              "  <tbody>\n",
              "    <tr>\n",
              "      <th>0</th>\n",
              "      <td>19</td>\n",
              "      <td>19000</td>\n",
              "      <td>0</td>\n",
              "    </tr>\n",
              "    <tr>\n",
              "      <th>1</th>\n",
              "      <td>35</td>\n",
              "      <td>20000</td>\n",
              "      <td>0</td>\n",
              "    </tr>\n",
              "    <tr>\n",
              "      <th>2</th>\n",
              "      <td>26</td>\n",
              "      <td>43000</td>\n",
              "      <td>0</td>\n",
              "    </tr>\n",
              "    <tr>\n",
              "      <th>3</th>\n",
              "      <td>27</td>\n",
              "      <td>57000</td>\n",
              "      <td>0</td>\n",
              "    </tr>\n",
              "    <tr>\n",
              "      <th>4</th>\n",
              "      <td>19</td>\n",
              "      <td>76000</td>\n",
              "      <td>0</td>\n",
              "    </tr>\n",
              "    <tr>\n",
              "      <th>...</th>\n",
              "      <td>...</td>\n",
              "      <td>...</td>\n",
              "      <td>...</td>\n",
              "    </tr>\n",
              "    <tr>\n",
              "      <th>395</th>\n",
              "      <td>46</td>\n",
              "      <td>41000</td>\n",
              "      <td>1</td>\n",
              "    </tr>\n",
              "    <tr>\n",
              "      <th>396</th>\n",
              "      <td>51</td>\n",
              "      <td>23000</td>\n",
              "      <td>1</td>\n",
              "    </tr>\n",
              "    <tr>\n",
              "      <th>397</th>\n",
              "      <td>50</td>\n",
              "      <td>20000</td>\n",
              "      <td>1</td>\n",
              "    </tr>\n",
              "    <tr>\n",
              "      <th>398</th>\n",
              "      <td>36</td>\n",
              "      <td>33000</td>\n",
              "      <td>0</td>\n",
              "    </tr>\n",
              "    <tr>\n",
              "      <th>399</th>\n",
              "      <td>49</td>\n",
              "      <td>36000</td>\n",
              "      <td>1</td>\n",
              "    </tr>\n",
              "  </tbody>\n",
              "</table>\n",
              "<p>400 rows × 3 columns</p>\n",
              "</div>\n",
              "    <div class=\"colab-df-buttons\">\n",
              "\n",
              "  <div class=\"colab-df-container\">\n",
              "    <button class=\"colab-df-convert\" onclick=\"convertToInteractive('df-1c13dfcd-b1b2-4cd9-aefc-01e9a9c064a0')\"\n",
              "            title=\"Convert this dataframe to an interactive table.\"\n",
              "            style=\"display:none;\">\n",
              "\n",
              "  <svg xmlns=\"http://www.w3.org/2000/svg\" height=\"24px\" viewBox=\"0 -960 960 960\">\n",
              "    <path d=\"M120-120v-720h720v720H120Zm60-500h600v-160H180v160Zm220 220h160v-160H400v160Zm0 220h160v-160H400v160ZM180-400h160v-160H180v160Zm440 0h160v-160H620v160ZM180-180h160v-160H180v160Zm440 0h160v-160H620v160Z\"/>\n",
              "  </svg>\n",
              "    </button>\n",
              "\n",
              "  <style>\n",
              "    .colab-df-container {\n",
              "      display:flex;\n",
              "      gap: 12px;\n",
              "    }\n",
              "\n",
              "    .colab-df-convert {\n",
              "      background-color: #E8F0FE;\n",
              "      border: none;\n",
              "      border-radius: 50%;\n",
              "      cursor: pointer;\n",
              "      display: none;\n",
              "      fill: #1967D2;\n",
              "      height: 32px;\n",
              "      padding: 0 0 0 0;\n",
              "      width: 32px;\n",
              "    }\n",
              "\n",
              "    .colab-df-convert:hover {\n",
              "      background-color: #E2EBFA;\n",
              "      box-shadow: 0px 1px 2px rgba(60, 64, 67, 0.3), 0px 1px 3px 1px rgba(60, 64, 67, 0.15);\n",
              "      fill: #174EA6;\n",
              "    }\n",
              "\n",
              "    .colab-df-buttons div {\n",
              "      margin-bottom: 4px;\n",
              "    }\n",
              "\n",
              "    [theme=dark] .colab-df-convert {\n",
              "      background-color: #3B4455;\n",
              "      fill: #D2E3FC;\n",
              "    }\n",
              "\n",
              "    [theme=dark] .colab-df-convert:hover {\n",
              "      background-color: #434B5C;\n",
              "      box-shadow: 0px 1px 3px 1px rgba(0, 0, 0, 0.15);\n",
              "      filter: drop-shadow(0px 1px 2px rgba(0, 0, 0, 0.3));\n",
              "      fill: #FFFFFF;\n",
              "    }\n",
              "  </style>\n",
              "\n",
              "    <script>\n",
              "      const buttonEl =\n",
              "        document.querySelector('#df-1c13dfcd-b1b2-4cd9-aefc-01e9a9c064a0 button.colab-df-convert');\n",
              "      buttonEl.style.display =\n",
              "        google.colab.kernel.accessAllowed ? 'block' : 'none';\n",
              "\n",
              "      async function convertToInteractive(key) {\n",
              "        const element = document.querySelector('#df-1c13dfcd-b1b2-4cd9-aefc-01e9a9c064a0');\n",
              "        const dataTable =\n",
              "          await google.colab.kernel.invokeFunction('convertToInteractive',\n",
              "                                                    [key], {});\n",
              "        if (!dataTable) return;\n",
              "\n",
              "        const docLinkHtml = 'Like what you see? Visit the ' +\n",
              "          '<a target=\"_blank\" href=https://colab.research.google.com/notebooks/data_table.ipynb>data table notebook</a>'\n",
              "          + ' to learn more about interactive tables.';\n",
              "        element.innerHTML = '';\n",
              "        dataTable['output_type'] = 'display_data';\n",
              "        await google.colab.output.renderOutput(dataTable, element);\n",
              "        const docLink = document.createElement('div');\n",
              "        docLink.innerHTML = docLinkHtml;\n",
              "        element.appendChild(docLink);\n",
              "      }\n",
              "    </script>\n",
              "  </div>\n",
              "\n",
              "\n",
              "<div id=\"df-8e8691b2-2028-46eb-946c-72270a92146c\">\n",
              "  <button class=\"colab-df-quickchart\" onclick=\"quickchart('df-8e8691b2-2028-46eb-946c-72270a92146c')\"\n",
              "            title=\"Suggest charts\"\n",
              "            style=\"display:none;\">\n",
              "\n",
              "<svg xmlns=\"http://www.w3.org/2000/svg\" height=\"24px\"viewBox=\"0 0 24 24\"\n",
              "     width=\"24px\">\n",
              "    <g>\n",
              "        <path d=\"M19 3H5c-1.1 0-2 .9-2 2v14c0 1.1.9 2 2 2h14c1.1 0 2-.9 2-2V5c0-1.1-.9-2-2-2zM9 17H7v-7h2v7zm4 0h-2V7h2v10zm4 0h-2v-4h2v4z\"/>\n",
              "    </g>\n",
              "</svg>\n",
              "  </button>\n",
              "\n",
              "<style>\n",
              "  .colab-df-quickchart {\n",
              "      --bg-color: #E8F0FE;\n",
              "      --fill-color: #1967D2;\n",
              "      --hover-bg-color: #E2EBFA;\n",
              "      --hover-fill-color: #174EA6;\n",
              "      --disabled-fill-color: #AAA;\n",
              "      --disabled-bg-color: #DDD;\n",
              "  }\n",
              "\n",
              "  [theme=dark] .colab-df-quickchart {\n",
              "      --bg-color: #3B4455;\n",
              "      --fill-color: #D2E3FC;\n",
              "      --hover-bg-color: #434B5C;\n",
              "      --hover-fill-color: #FFFFFF;\n",
              "      --disabled-bg-color: #3B4455;\n",
              "      --disabled-fill-color: #666;\n",
              "  }\n",
              "\n",
              "  .colab-df-quickchart {\n",
              "    background-color: var(--bg-color);\n",
              "    border: none;\n",
              "    border-radius: 50%;\n",
              "    cursor: pointer;\n",
              "    display: none;\n",
              "    fill: var(--fill-color);\n",
              "    height: 32px;\n",
              "    padding: 0;\n",
              "    width: 32px;\n",
              "  }\n",
              "\n",
              "  .colab-df-quickchart:hover {\n",
              "    background-color: var(--hover-bg-color);\n",
              "    box-shadow: 0 1px 2px rgba(60, 64, 67, 0.3), 0 1px 3px 1px rgba(60, 64, 67, 0.15);\n",
              "    fill: var(--button-hover-fill-color);\n",
              "  }\n",
              "\n",
              "  .colab-df-quickchart-complete:disabled,\n",
              "  .colab-df-quickchart-complete:disabled:hover {\n",
              "    background-color: var(--disabled-bg-color);\n",
              "    fill: var(--disabled-fill-color);\n",
              "    box-shadow: none;\n",
              "  }\n",
              "\n",
              "  .colab-df-spinner {\n",
              "    border: 2px solid var(--fill-color);\n",
              "    border-color: transparent;\n",
              "    border-bottom-color: var(--fill-color);\n",
              "    animation:\n",
              "      spin 1s steps(1) infinite;\n",
              "  }\n",
              "\n",
              "  @keyframes spin {\n",
              "    0% {\n",
              "      border-color: transparent;\n",
              "      border-bottom-color: var(--fill-color);\n",
              "      border-left-color: var(--fill-color);\n",
              "    }\n",
              "    20% {\n",
              "      border-color: transparent;\n",
              "      border-left-color: var(--fill-color);\n",
              "      border-top-color: var(--fill-color);\n",
              "    }\n",
              "    30% {\n",
              "      border-color: transparent;\n",
              "      border-left-color: var(--fill-color);\n",
              "      border-top-color: var(--fill-color);\n",
              "      border-right-color: var(--fill-color);\n",
              "    }\n",
              "    40% {\n",
              "      border-color: transparent;\n",
              "      border-right-color: var(--fill-color);\n",
              "      border-top-color: var(--fill-color);\n",
              "    }\n",
              "    60% {\n",
              "      border-color: transparent;\n",
              "      border-right-color: var(--fill-color);\n",
              "    }\n",
              "    80% {\n",
              "      border-color: transparent;\n",
              "      border-right-color: var(--fill-color);\n",
              "      border-bottom-color: var(--fill-color);\n",
              "    }\n",
              "    90% {\n",
              "      border-color: transparent;\n",
              "      border-bottom-color: var(--fill-color);\n",
              "    }\n",
              "  }\n",
              "</style>\n",
              "\n",
              "  <script>\n",
              "    async function quickchart(key) {\n",
              "      const quickchartButtonEl =\n",
              "        document.querySelector('#' + key + ' button');\n",
              "      quickchartButtonEl.disabled = true;  // To prevent multiple clicks.\n",
              "      quickchartButtonEl.classList.add('colab-df-spinner');\n",
              "      try {\n",
              "        const charts = await google.colab.kernel.invokeFunction(\n",
              "            'suggestCharts', [key], {});\n",
              "      } catch (error) {\n",
              "        console.error('Error during call to suggestCharts:', error);\n",
              "      }\n",
              "      quickchartButtonEl.classList.remove('colab-df-spinner');\n",
              "      quickchartButtonEl.classList.add('colab-df-quickchart-complete');\n",
              "    }\n",
              "    (() => {\n",
              "      let quickchartButtonEl =\n",
              "        document.querySelector('#df-8e8691b2-2028-46eb-946c-72270a92146c button');\n",
              "      quickchartButtonEl.style.display =\n",
              "        google.colab.kernel.accessAllowed ? 'block' : 'none';\n",
              "    })();\n",
              "  </script>\n",
              "</div>\n",
              "    </div>\n",
              "  </div>\n"
            ],
            "application/vnd.google.colaboratory.intrinsic+json": {
              "type": "dataframe",
              "variable_name": "datos",
              "summary": "{\n  \"name\": \"datos\",\n  \"rows\": 400,\n  \"fields\": [\n    {\n      \"column\": \"Age\",\n      \"properties\": {\n        \"dtype\": \"number\",\n        \"std\": 10,\n        \"min\": 18,\n        \"max\": 60,\n        \"num_unique_values\": 43,\n        \"samples\": [\n          50,\n          39,\n          38\n        ],\n        \"semantic_type\": \"\",\n        \"description\": \"\"\n      }\n    },\n    {\n      \"column\": \"EstimatedSalary\",\n      \"properties\": {\n        \"dtype\": \"number\",\n        \"std\": 34096,\n        \"min\": 15000,\n        \"max\": 150000,\n        \"num_unique_values\": 117,\n        \"samples\": [\n          117000,\n          76000,\n          88000\n        ],\n        \"semantic_type\": \"\",\n        \"description\": \"\"\n      }\n    },\n    {\n      \"column\": \"Purchased\",\n      \"properties\": {\n        \"dtype\": \"number\",\n        \"std\": 0,\n        \"min\": 0,\n        \"max\": 1,\n        \"num_unique_values\": 2,\n        \"samples\": [\n          1,\n          0\n        ],\n        \"semantic_type\": \"\",\n        \"description\": \"\"\n      }\n    }\n  ]\n}"
            }
          },
          "metadata": {},
          "execution_count": 2
        }
      ]
    },
    {
      "cell_type": "code",
      "source": [
        "#separar variables dependientes e independientes\n",
        "X = datos.iloc[:,:-1].values\n",
        "y= datos.iloc[:,-1].values"
      ],
      "metadata": {
        "id": "x5SSTLcljT1h"
      },
      "id": "x5SSTLcljT1h",
      "execution_count": null,
      "outputs": []
    },
    {
      "cell_type": "code",
      "source": [
        "#Separando el conjunto de datos en entrenamiento y prueba en una proporción 80/20\n",
        "from sklearn.model_selection import train_test_split\n",
        "train_test_split\n",
        "X_train, X_test, y_train, y_test = train_test_split( X, y, test_size=0.2, random_state=42)"
      ],
      "metadata": {
        "id": "XXOSI_2fjxbz"
      },
      "id": "XXOSI_2fjxbz",
      "execution_count": null,
      "outputs": []
    },
    {
      "cell_type": "code",
      "source": [
        "from sklearn.preprocessing import StandardScaler #escalonamiento\n",
        "sc=StandardScaler()\n",
        "X_train_Sc=sc.fit_transform(X_train) #estandarizar datos de entrenamiento\n",
        "X_test_Sc=sc.transform(X_test) #estandarizar los datos de prueba"
      ],
      "metadata": {
        "id": "K1tDexnEj-Fn"
      },
      "id": "K1tDexnEj-Fn",
      "execution_count": null,
      "outputs": []
    },
    {
      "cell_type": "markdown",
      "source": [
        "#Batch GD"
      ],
      "metadata": {
        "id": "EHKczJJmNAZG"
      },
      "id": "EHKczJJmNAZG"
    },
    {
      "cell_type": "code",
      "source": [
        "#Inicialización de parámetros\n",
        "w = np.random.randn(3,1) #Inicialización de los pesos del modelo tres parámetros (intercepto y dos características).\n",
        "eta = 0.001 #Tasa de aprendizaje\n",
        "epochs = 1000\n",
        "x = np.hstack((np.ones([len(X_train_Sc),1]),X_train_Sc)) #Añadir una columna de unos a la izquierda de la matriz X_train_Sc. Esto se hace para representar el intercepto en la regresión.\n",
        "def batch_GD(x,y,y_pred,w,eta):\n",
        "\n",
        "    dldw0 = 0\n",
        "    dldw1 = 0   #Inicializar gradientes parciales\n",
        "    dldw2 = 0\n",
        "\n",
        "    N = len(x)\n",
        "\n",
        "    for i in range(0,N):\n",
        "      #Derivadas parciales por cada componente\n",
        "        dldw0 -=  (y[i]-1)*(x[i,0]) + y_pred[i]*x[i,0]*np.exp(-x[i,:]@w)\n",
        "        dldw1 -=  (y[i]-1)*(x[i,1]) + y_pred[i]*x[i,1]*np.exp(-x[i,:]@w)\n",
        "        dldw2 -=  (y[i]-1)*(x[i,2]) + y_pred[i]*x[i,2]*np.exp(-x[i,:]@w)\n",
        "\n",
        "    dldw = np.array([dldw0,dldw1,dldw2])\n",
        "\n",
        "    w = w-eta*dldw\n",
        "\n",
        "\n",
        "    return w"
      ],
      "metadata": {
        "id": "Ez9lb0QOopVl"
      },
      "id": "Ez9lb0QOopVl",
      "execution_count": null,
      "outputs": []
    },
    {
      "cell_type": "code",
      "source": [
        "Z = x@w\n",
        "y_pred = 1 / (1 + np.exp(-Z))\n",
        "\n",
        "Loss = np.zeros(epochs)\n",
        "\n",
        "for t in range(epochs):\n",
        "    w = batch_GD(x,y_train,y_pred,w,eta)\n",
        "\n",
        "    Z = x@w\n",
        "    y_pred = 1 / (1 + np.exp(-Z))\n",
        "\n",
        "    aux = np.reshape((1-y_train),(len(y_train),1))\n",
        "    aux2 = aux*(-Z) - np.log(1+np.exp(-Z))\n",
        "    Loss[t] = - np.mean(aux2)"
      ],
      "metadata": {
        "id": "hdSPicx_aSZb"
      },
      "id": "hdSPicx_aSZb",
      "execution_count": null,
      "outputs": []
    },
    {
      "cell_type": "code",
      "source": [
        "#gráfico\n",
        "plt.plot(Loss)\n",
        "plt.xscale(\"log\")\n",
        "plt.xlabel(\"Epochs\")\n",
        "plt.ylabel(\"Loss\")\n",
        "plt.show()\n"
      ],
      "metadata": {
        "colab": {
          "base_uri": "https://localhost:8080/",
          "height": 454
        },
        "id": "RVlbWSnVZs_Q",
        "outputId": "3aa38827-63db-4fa7-b305-b26f35f4a7ed"
      },
      "id": "RVlbWSnVZs_Q",
      "execution_count": null,
      "outputs": [
        {
          "output_type": "display_data",
          "data": {
            "text/plain": [
              "<Figure size 640x480 with 1 Axes>"
            ],
            "image/png": "[encoded data removed]"
          },
          "metadata": {}
        }
      ]
    },
    {
      "cell_type": "markdown",
      "source": [
        "3.  evalúe la predicción sobre el conjunto de prueba considerando que si la probabilidad es $>0.5$ corresponde a la categoría 1 y si la probabilidad es $\\leq 0.5$ es de categoría 0."
      ],
      "metadata": {
        "id": "QDATtDPA2uwZ"
      },
      "id": "QDATtDPA2uwZ"
    },
    {
      "cell_type": "code",
      "source": [
        "from sklearn.metrics import confusion_matrix, accuracy_score, ConfusionMatrixDisplay\n",
        "xTest = np.hstack((np.ones([len(X_test_Sc),1]),X_test_Sc))\n",
        "Ztest = xTest@w\n",
        "y_pred_test = 1 / (1 + np.exp(-Ztest))\n",
        "\n",
        "# Convertir las probabilidades en predicciones\n",
        "y_pred_test = np.where(y_pred_test > 0.5, 1, 0)\n",
        "y_pred_test = y_pred_test.reshape(-1)\n",
        "\n",
        "# Calcular la precisión\n",
        "accuracy1 = accuracy_score(y_pred_test, y_test)\n",
        "\n",
        "# Imprimir la precisión\n",
        "print(\"Precisión en el conjunto de prueba:\", accuracy1)\n",
        "\n",
        "# Calcular la matriz de confusión\n",
        "cm = confusion_matrix(y_test,y_pred_test)\n",
        "\n",
        "# Imprimir la matriz de confusión\n",
        "print(\"Matriz de confusión:\\n\", cm)"
      ],
      "metadata": {
        "colab": {
          "base_uri": "https://localhost:8080/"
        },
        "id": "-NYHBFDYdJgn",
        "outputId": "77d6acab-8650-404b-b9e2-969d3b93aaa9"
      },
      "id": "-NYHBFDYdJgn",
      "execution_count": null,
      "outputs": [
        {
          "output_type": "stream",
          "name": "stdout",
          "text": [
            "Precisión en el conjunto de prueba: 0.8875\n",
            "Matriz de confusión:\n",
            " [[50  2]\n",
            " [ 7 21]]\n"
          ]
        }
      ]
    },
    {
      "cell_type": "markdown",
      "source": [
        "4.  matriz de confusión"
      ],
      "metadata": {
        "id": "gf83edRuMLVy"
      },
      "id": "gf83edRuMLVy"
    },
    {
      "cell_type": "code",
      "source": [
        "# Crear un mapa de calor con seaborn\n",
        "import seaborn as sns\n",
        "sns.heatmap(cm, annot=True, fmt=\"d\", cmap=\"Blues\", xticklabels=[\"Clase 0\", \"Clase 1\"], yticklabels=[\"Clase 0\", \"Clase 1\"])\n",
        "plt.title(\"Matriz de Confusión\")\n",
        "plt.xlabel(\"Predicciones\")\n",
        "plt.ylabel(\"Valores reales\")\n",
        "plt.show()"
      ],
      "metadata": {
        "colab": {
          "base_uri": "https://localhost:8080/",
          "height": 472
        },
        "id": "xmJYzXXReSvx",
        "outputId": "9315c6ca-1ac5-47f3-f915-98abe02df74e"
      },
      "id": "xmJYzXXReSvx",
      "execution_count": null,
      "outputs": [
        {
          "output_type": "display_data",
          "data": {
            "text/plain": [
              "<Figure size 640x480 with 2 Axes>"
            ],
            "image/png": "[encoded data removed]"
          },
          "metadata": {}
        }
      ]
    },
    {
      "cell_type": "markdown",
      "source": [
        "#Minibatch GD"
      ],
      "metadata": {
        "id": "LRIVrO4mMUSS"
      },
      "id": "LRIVrO4mMUSS"
    },
    {
      "cell_type": "code",
      "source": [
        "#Inicializacion de parametros\n",
        "w = np.random.randn(3,1)\n",
        "eta = 0.005\n",
        "epochs = 1000\n",
        "\n",
        "x = np.hstack((np.ones([len(X_train_Sc),1]),X_train_Sc))\n",
        "batch_size = 50\n",
        "\n",
        "def Minibatch_GD(x,y,y_pred,w,eta,batch_size):\n",
        "\n",
        "    dldw0 = 0\n",
        "    dldw1 = 0\n",
        "    dldw2 = 0\n",
        "\n",
        "    N = len(x)\n",
        "    num_batches = int(np.ceil(len(X) / batch_size)) #Calcula el número total de mini lotes necesarios para cubrir todo el conjunto de entrenamiento\n",
        "\n",
        "    # Seleccionar aleatoriamente índices para formar un mini lote.\n",
        "    indices = np.random.randint(0, N, batch_size)\n",
        "    x_batch = x[indices]\n",
        "    y_batch = y[indices]\n",
        "\n",
        "    for i in range(0,num_batches):  #Cálculo de gradientes para cada mini lote\n",
        "        dldw0 -=  (y_batch[i]-1)*(x_batch[i,0]) + y_pred[i]*x_batch[i,0]*np.exp(-x_batch[i,:]@w)\n",
        "        dldw1 -=  (y_batch[i]-1)*(x_batch[i,1]) + y_pred[i]*x_batch[i,1]*np.exp(-x_batch[i,:]@w)\n",
        "        dldw2 -=  (y_batch[i]-1)*(x_batch[i,2]) + y_pred[i]*x_batch[i,2]*np.exp(-x_batch[i,:]@w)\n",
        "\n",
        "    dldw = np.array([dldw0,dldw1,dldw2])\n",
        "\n",
        "    w = w-eta*dldw\n",
        "\n",
        "\n",
        "    return w"
      ],
      "metadata": {
        "id": "cVQdHfove0m3"
      },
      "id": "cVQdHfove0m3",
      "execution_count": null,
      "outputs": []
    },
    {
      "cell_type": "code",
      "source": [
        "Z = x@w\n",
        "y_pred = 1 / (1 + np.exp(-Z))\n",
        "\n",
        "Loss_MB = np.zeros(epochs)\n",
        "\n",
        "for t in range(epochs):\n",
        "    w = Minibatch_GD(x,y_train,y_pred,w,eta, batch_size)\n",
        "\n",
        "    Z = x@w\n",
        "    y_pred = 1 / (1 + np.exp(-Z))\n",
        "\n",
        "    aux = np.reshape((1-y_train),(len(y_train),1))\n",
        "    aux2 = aux*(-Z) - np.log(1+np.exp(-Z))\n",
        "    Loss_MB[t] = - np.mean(aux2)"
      ],
      "metadata": {
        "id": "aAKLPuqEe-ww"
      },
      "id": "aAKLPuqEe-ww",
      "execution_count": null,
      "outputs": []
    },
    {
      "cell_type": "code",
      "source": [
        "plt.plot(Loss_MB)\n",
        "plt.xscale(\"log\")"
      ],
      "metadata": {
        "colab": {
          "base_uri": "https://localhost:8080/",
          "height": 434
        },
        "id": "qoXqd3SufN2d",
        "outputId": "002148c3-5fa2-466b-e23f-813ca1cda891"
      },
      "id": "qoXqd3SufN2d",
      "execution_count": null,
      "outputs": [
        {
          "output_type": "display_data",
          "data": {
            "text/plain": [
              "<Figure size 640x480 with 1 Axes>"
            ],
            "image/png": "[encoded data removed]"
          },
          "metadata": {}
        }
      ]
    },
    {
      "cell_type": "markdown",
      "source": [
        "3. evalúe la predicción sobre el conjunto de prueba considerando que si la probabilidad es $>0.5$ corresponde a la categoría 1 y si la probabilidad es $\\leq 0.5$ es de categoría 0."
      ],
      "metadata": {
        "id": "hYgmV8ak2oMG"
      },
      "id": "hYgmV8ak2oMG"
    },
    {
      "cell_type": "code",
      "source": [
        "xTest = np.hstack((np.ones([len(X_test_Sc),1]),X_test_Sc))\n",
        "Ztest = xTest@w\n",
        "y_pred_test = 1 / (1 + np.exp(-Ztest))\n",
        "\n",
        "# Convertir las probabilidades en predicciones\n",
        "y_pred_test = np.where(y_pred_test > 0.5, 1, 0)\n",
        "# y_pred_test = y_pred_test.reshape(-1)\n",
        "\n",
        "# Calcular la precisión\n",
        "accuracy_MB = accuracy_score(y_pred_test, y_test)\n",
        "\n",
        "# Imprimir la precisión\n",
        "print(\"Precisión en el conjunto de prueba:\", accuracy_MB)\n",
        "\n",
        "# Calcular la matriz de confusión\n",
        "cm_MB = confusion_matrix(y_test,y_pred_test)\n",
        "\n",
        "# Imprimir la matriz de confusión\n",
        "print(\"Matriz de confusión:\\n\", cm_MB)"
      ],
      "metadata": {
        "colab": {
          "base_uri": "https://localhost:8080/"
        },
        "id": "8_RpieKIfRrE",
        "outputId": "740d144f-0e3e-4982-9251-22b7028c7c99"
      },
      "id": "8_RpieKIfRrE",
      "execution_count": null,
      "outputs": [
        {
          "output_type": "stream",
          "name": "stdout",
          "text": [
            "Precisión en el conjunto de prueba: 0.8875\n",
            "Matriz de confusión:\n",
            " [[46  6]\n",
            " [ 3 25]]\n"
          ]
        }
      ]
    },
    {
      "cell_type": "markdown",
      "source": [
        "4. matriz de confusión"
      ],
      "metadata": {
        "id": "Big9JKvyMNLC"
      },
      "id": "Big9JKvyMNLC"
    },
    {
      "cell_type": "code",
      "source": [
        "# Crear un mapa de calor con seaborn\n",
        "import seaborn as sns\n",
        "sns.heatmap(cm_MB, annot=True, fmt=\"d\", cmap=\"Blues\", xticklabels=[\"Clase 0\", \"Clase 1\"], yticklabels=[\"Clase 0\", \"Clase 1\"])\n",
        "plt.title(\"Matriz de Confusión\")\n",
        "plt.xlabel(\"Predicciones\")\n",
        "plt.ylabel(\"Valores reales\")\n",
        "plt.show()"
      ],
      "metadata": {
        "colab": {
          "base_uri": "https://localhost:8080/",
          "height": 472
        },
        "id": "up5CRX60fveQ",
        "outputId": "56c645a5-dc5d-4ff3-ee5d-62dd6a4fac90"
      },
      "id": "up5CRX60fveQ",
      "execution_count": null,
      "outputs": [
        {
          "output_type": "display_data",
          "data": {
            "text/plain": [
              "<Figure size 640x480 with 2 Axes>"
            ],
            "image/png": "[encoded data removed]"
          },
          "metadata": {}
        }
      ]
    },
    {
      "cell_type": "markdown",
      "source": [
        "Stochastic GD\n"
      ],
      "metadata": {
        "id": "SMfHxCjwSJgE"
      },
      "id": "SMfHxCjwSJgE"
    },
    {
      "cell_type": "code",
      "source": [
        "#Inicializacion de parametros\n",
        "w = np.random.randn(3,1)\n",
        "eta = 0.0001\n",
        "epochs = 1000\n",
        "\n",
        "x = np.hstack((np.ones([len(X_train_Sc),1]),X_train_Sc))\n",
        "def stochastic_GD(x, y, y_pred, w, eta):\n",
        "\n",
        "    N = len(x)\n",
        "\n",
        "    # Escoger aleatoriamente un indice entre el conjunto de datos\n",
        "    idx = np.random.randint(0, N)\n",
        "\n",
        "    # Calcular gradiente para el dato escogido\n",
        "    dldw = -(y[idx] - 1) * x[idx] + y_pred[idx] * x[idx] * np.exp(-x[idx,:] @ w)\n",
        "    dldw = dldw.reshape(3,1) #Para concordar con tamaño del w\n",
        "\n",
        "    # Actualizar parametro\n",
        "    w -= eta * dldw\n",
        "    return w"
      ],
      "metadata": {
        "id": "o-tfXv0gDauC"
      },
      "id": "o-tfXv0gDauC",
      "execution_count": null,
      "outputs": []
    },
    {
      "cell_type": "code",
      "source": [
        "Z = x@w\n",
        "y_pred = 1 / (1 + np.exp(-Z))\n",
        "\n",
        "Loss_ST = np.zeros(epochs)\n",
        "\n",
        "for t in range(epochs):\n",
        "    w = stochastic_GD(x,y_train,y_pred,w,eta)\n",
        "\n",
        "    Z = x@w\n",
        "    y_pred = 1 / (1 + np.exp(-Z))\n",
        "\n",
        "    aux = np.reshape((1-y_train),(len(y_train),1))\n",
        "    aux2 = aux*(-Z) - np.log(1+np.exp(-Z))\n",
        "    Loss_ST[t] = - np.mean(aux2)"
      ],
      "metadata": {
        "id": "F1bTqX2FSqtd"
      },
      "id": "F1bTqX2FSqtd",
      "execution_count": null,
      "outputs": []
    },
    {
      "cell_type": "code",
      "source": [
        "plt.plot(Loss_ST)\n",
        "plt.xscale(\"log\")\n",
        "plt.yscale(\"log\")"
      ],
      "metadata": {
        "colab": {
          "base_uri": "https://localhost:8080/",
          "height": 434
        },
        "id": "bnDzXn6DStLM",
        "outputId": "891fe562-0996-445a-f14f-067ea2f29115"
      },
      "id": "bnDzXn6DStLM",
      "execution_count": null,
      "outputs": [
        {
          "output_type": "display_data",
          "data": {
            "text/plain": [
              "<Figure size 640x480 with 1 Axes>"
            ],
            "image/png": "[encoded data removed]"
          },
          "metadata": {}
        }
      ]
    },
    {
      "cell_type": "markdown",
      "source": [
        "3. evalúe la predicción sobre el conjunto de prueba considerando que si la probabilidad es $>0.5$ corresponde a la categoría 1 y si la probabilidad es $\\leq 0.5$ es de categoría 0."
      ],
      "metadata": {
        "id": "a9__mU0LXoXH"
      },
      "id": "a9__mU0LXoXH"
    },
    {
      "cell_type": "code",
      "source": [
        "xTest = np.hstack((np.ones([len(X_test_Sc),1]),X_test_Sc))\n",
        "Ztest = xTest@w\n",
        "y_pred_test = 1 / (1 + np.exp(-Ztest))\n",
        "\n",
        "# Convertir las probabilidades en predicciones\n",
        "y_pred_test = np.where(y_pred_test > 0.5, 1, 0)\n",
        "# y_pred_test = y_pred_test.reshape(-1)\n",
        "\n",
        "# Calcular la precisión\n",
        "accuracy_ST = accuracy_score(y_pred_test, y_test)\n",
        "\n",
        "# Imprimir la precisión\n",
        "print(\"Precisión en el conjunto de prueba:\", accuracy_ST)\n",
        "\n",
        "# Calcular la matriz de confusión\n",
        "cm_ST = confusion_matrix(y_test,y_pred_test)\n",
        "\n",
        "# Imprimir la matriz de confusión\n",
        "print(\"Matriz de confusión:\\n\", cm_ST)"
      ],
      "metadata": {
        "colab": {
          "base_uri": "https://localhost:8080/"
        },
        "id": "Fx64dYdUSvs9",
        "outputId": "cacfed9d-fb78-4ddd-f30a-91fc7d9d4dca"
      },
      "id": "Fx64dYdUSvs9",
      "execution_count": null,
      "outputs": [
        {
          "output_type": "stream",
          "name": "stdout",
          "text": [
            "Precisión en el conjunto de prueba: 0.25\n",
            "Matriz de confusión:\n",
            " [[12 40]\n",
            " [20  8]]\n"
          ]
        }
      ]
    },
    {
      "cell_type": "markdown",
      "source": [
        "4. matriz de confusión y desempeño del modelo"
      ],
      "metadata": {
        "id": "flmxs4rlXusg"
      },
      "id": "flmxs4rlXusg"
    },
    {
      "cell_type": "code",
      "source": [
        "# Crear un mapa de calor con seaborn\n",
        "import seaborn as sns\n",
        "sns.heatmap(cm_ST, annot=True, fmt=\"d\", cmap=\"Blues\", xticklabels=[\"Clase 0\", \"Clase 1\"], yticklabels=[\"Clase 0\", \"Clase 1\"])\n",
        "plt.title(\"Matriz de Confusión\")\n",
        "plt.xlabel(\"Predicciones\")\n",
        "plt.ylabel(\"Valores reales\")\n",
        "plt.show()"
      ],
      "metadata": {
        "colab": {
          "base_uri": "https://localhost:8080/",
          "height": 472
        },
        "id": "MgOCnvMdSzAE",
        "outputId": "97303c6b-193f-4ac3-d78b-4635159f9cc4"
      },
      "id": "MgOCnvMdSzAE",
      "execution_count": null,
      "outputs": [
        {
          "output_type": "display_data",
          "data": {
            "text/plain": [
              "<Figure size 640x480 with 2 Axes>"
            ],
            "image/png": "[encoded data removed]"
          },
          "metadata": {}
        }
      ]
    },
    {
      "cell_type": "markdown",
      "source": [
        "Teniendo en cuenta la implementación anterior podemos decir que, las diferencias en el comportamiento entre Batch Gradient Descent (descenso de gradiente por lotes), Minibatch Gradient Descent y Stochastic Gradient Descent (SGD) pueden atribuirse a la cantidad de datos utilizados en cada iteración y a la variabilidad en las actualizaciones de peso. SGD, al utilizar un solo ejemplo de entrenamiento a la vez, introduce mayor variabilidad, lo que puede llevar a un comportamiento más oscilante y menos estable."
      ],
      "metadata": {
        "id": "HfoJe8zYiD95"
      },
      "id": "HfoJe8zYiD95"
    },
    {
      "cell_type": "code",
      "source": [],
      "metadata": {
        "id": "7KfnaNijiC9f"
      },
      "id": "7KfnaNijiC9f",
      "execution_count": null,
      "outputs": []
    }
  ],
  "metadata": {
    "kernelspec": {
      "display_name": "Python 3 (ipykernel)",
      "language": "python",
      "name": "python3"
    },
    "language_info": {
      "codemirror_mode": {
        "name": "ipython",
        "version": 3
      },
      "file_extension": ".py",
      "mimetype": "text/x-python",
      "name": "python",
      "nbconvert_exporter": "python",
      "pygments_lexer": "ipython3",
      "version": "3.10.12"
    },
    "colab": {
      "provenance": [],
      "include_colab_link": true
    }
  },
  "nbformat": 4,
  "nbformat_minor": 5
}